{
 "cells": [
  {
   "cell_type": "code",
   "execution_count": 349,
   "metadata": {
    "collapsed": true
   },
   "outputs": [],
   "source": [
    "from glob import glob\n",
    "import regex as re\n",
    "import pandas as pd\n",
    "import cmpd_web\n",
    "def argsort(seq, key=lambda x: x):\n",
    "    x = sorted([(v, i) for (i, v) in enumerate(seq)], key=lambda x: key(x[0]))\n",
    "    return [i for (v, i) in x]"
   ]
  },
  {
   "cell_type": "code",
   "execution_count": 350,
   "metadata": {
    "collapsed": false
   },
   "outputs": [
    {
     "name": "stdout",
     "output_type": "stream",
     "text": [
      "/Users/feldman/packages/CMPD/elm-src\n"
     ]
    }
   ],
   "source": [
    "cd elm-src/"
   ]
  },
  {
   "cell_type": "code",
   "execution_count": 351,
   "metadata": {
    "collapsed": false
   },
   "outputs": [],
   "source": [
    "srcs = glob('*.elm') + glob('*/*.elm')"
   ]
  },
  {
   "cell_type": "code",
   "execution_count": 363,
   "metadata": {
    "collapsed": false,
    "scrolled": true
   },
   "outputs": [],
   "source": [
    "types = []\n",
    "for src in srcs:\n",
    "    txt = open(src, 'r').read()\n",
    "    tmp = get_types(txt)\n",
    "    if tmp:\n",
    "        types += [(src, tmp)]\n",
    "\n",
    "arr = []\n",
    "for src, defns in types:\n",
    "    for defn in defns:\n",
    "        arr +=[ [src, defn[0], defn[1]]]\n",
    "\n",
    "df = pd.DataFrame(arr, columns=['elm file', 'type alias', 'definition'])\n",
    "\n",
    "df['python'] = ['cmpd_web.%s' % alias if alias in dir(cmpd_web) else '??' \n",
    "                    for alias in df['type alias']]\n",
    "df = df[['elm file', 'type alias', 'python', 'definition']]\n",
    "df = df.set_index('type alias')\n",
    "ix = argsort(df.index, lambda x: (x=='Model', x))\n",
    "df = df.iloc[ix]\n",
    "df.to_clipboard()"
   ]
  },
  {
   "cell_type": "code",
   "execution_count": 364,
   "metadata": {
    "collapsed": false
   },
   "outputs": [
    {
     "data": {
      "text/html": [
       "<div>\n",
       "<table border=\"1\" class=\"dataframe\">\n",
       "  <thead>\n",
       "    <tr style=\"text-align: right;\">\n",
       "      <th></th>\n",
       "      <th>elm file</th>\n",
       "      <th>python</th>\n",
       "      <th>definition</th>\n",
       "    </tr>\n",
       "    <tr>\n",
       "      <th>type alias</th>\n",
       "      <th></th>\n",
       "      <th></th>\n",
       "      <th></th>\n",
       "    </tr>\n",
       "  </thead>\n",
       "  <tbody>\n",
       "    <tr>\n",
       "      <th>AttributeList</th>\n",
       "      <td>Bar.elm</td>\n",
       "      <td>??</td>\n",
       "      <td>List (Html.Attribute Msg)</td>\n",
       "    </tr>\n",
       "    <tr>\n",
       "      <th>Choice</th>\n",
       "      <td>Message/Message.elm</td>\n",
       "      <td>??</td>\n",
       "      <td>{ label : String, key : String, name : String }</td>\n",
       "    </tr>\n",
       "    <tr>\n",
       "      <th>Enemy</th>\n",
       "      <td>Versus/Types.elm</td>\n",
       "      <td>cmpd_web.Enemy</td>\n",
       "      <td>{ image : String, name : String, health : Float }</td>\n",
       "    </tr>\n",
       "    <tr>\n",
       "      <th>Map</th>\n",
       "      <td>Map/Types.elm</td>\n",
       "      <td>cmpd_web.Map</td>\n",
       "      <td>{ image : String, name : String, places : List...</td>\n",
       "    </tr>\n",
       "    <tr>\n",
       "      <th>Message</th>\n",
       "      <td>Message/Message.elm</td>\n",
       "      <td>??</td>\n",
       "      <td>{ text : String, choices : List Choice, name :...</td>\n",
       "    </tr>\n",
       "    <tr>\n",
       "      <th>Place</th>\n",
       "      <td>Game/Types.elm</td>\n",
       "      <td>cmpd_web.Place</td>\n",
       "      <td>{ x : Float, y : Float, label : String, key : ...</td>\n",
       "    </tr>\n",
       "    <tr>\n",
       "      <th>Place</th>\n",
       "      <td>Map/Types.elm</td>\n",
       "      <td>cmpd_web.Place</td>\n",
       "      <td>{ x : Float, y : Float, label : String, key : ...</td>\n",
       "    </tr>\n",
       "    <tr>\n",
       "      <th>Place_</th>\n",
       "      <td>Game/Types.elm</td>\n",
       "      <td>??</td>\n",
       "      <td>{ x : Float, y : Float, label : String, key : ...</td>\n",
       "    </tr>\n",
       "    <tr>\n",
       "      <th>Player</th>\n",
       "      <td>Versus/Types.elm</td>\n",
       "      <td>cmpd_web.Player</td>\n",
       "      <td>{ loaded : List Word, unloaded : List Word, ca...</td>\n",
       "    </tr>\n",
       "    <tr>\n",
       "      <th>Remark</th>\n",
       "      <td>Versus/Types.elm</td>\n",
       "      <td>cmpd_web.Remark</td>\n",
       "      <td>{ insult : String, retort : String, score : Fl...</td>\n",
       "    </tr>\n",
       "    <tr>\n",
       "      <th>Tile</th>\n",
       "      <td>Menu/Types.elm</td>\n",
       "      <td>??</td>\n",
       "      <td>{ label : String, key : Char, x : Float, y : F...</td>\n",
       "    </tr>\n",
       "    <tr>\n",
       "      <th>Word</th>\n",
       "      <td>Wordbank.elm</td>\n",
       "      <td>cmpd_web.Word</td>\n",
       "      <td>{ word : String, partOfSpeech : String, tag : ...</td>\n",
       "    </tr>\n",
       "    <tr>\n",
       "      <th>Model</th>\n",
       "      <td>Bar.elm</td>\n",
       "      <td>??</td>\n",
       "      <td>{ value : Float, duration : Time.Time, clock :...</td>\n",
       "    </tr>\n",
       "    <tr>\n",
       "      <th>Model</th>\n",
       "      <td>Wordbank.elm</td>\n",
       "      <td>??</td>\n",
       "      <td>{ words : List ( Word, Bool ), maxToDisplay : ...</td>\n",
       "    </tr>\n",
       "    <tr>\n",
       "      <th>Model</th>\n",
       "      <td>ComponentTemplate/ComponentTemplate.elm</td>\n",
       "      <td>??</td>\n",
       "      <td>{ field : String }</td>\n",
       "    </tr>\n",
       "    <tr>\n",
       "      <th>Model</th>\n",
       "      <td>Game/Types.elm</td>\n",
       "      <td>??</td>\n",
       "      <td>{ menu : Menu.Types.Model, loadout : Loadout.M...</td>\n",
       "    </tr>\n",
       "    <tr>\n",
       "      <th>Model</th>\n",
       "      <td>Loadout/Loadout.elm</td>\n",
       "      <td>??</td>\n",
       "      <td>{ loaded : List Word, unloaded : List Word, se...</td>\n",
       "    </tr>\n",
       "    <tr>\n",
       "      <th>Model</th>\n",
       "      <td>Map/Types.elm</td>\n",
       "      <td>??</td>\n",
       "      <td>{ map : Map, menu : Menu.Types.Model }</td>\n",
       "    </tr>\n",
       "    <tr>\n",
       "      <th>Model</th>\n",
       "      <td>Menu/Types.elm</td>\n",
       "      <td>??</td>\n",
       "      <td>{ tiles : List Tile, id : String, lastKey : Ch...</td>\n",
       "    </tr>\n",
       "    <tr>\n",
       "      <th>Model</th>\n",
       "      <td>Message/Message.elm</td>\n",
       "      <td>??</td>\n",
       "      <td>{ text : String, menu : Menu.Types.Model, name...</td>\n",
       "    </tr>\n",
       "    <tr>\n",
       "      <th>Model</th>\n",
       "      <td>Versus/Types.elm</td>\n",
       "      <td>??</td>\n",
       "      <td>{ wordbank : Wordbank.Model, progressBar : Bar...</td>\n",
       "    </tr>\n",
       "  </tbody>\n",
       "</table>\n",
       "</div>"
      ],
      "text/plain": [
       "                                              elm file           python  \\\n",
       "type alias                                                                \n",
       "AttributeList                                  Bar.elm               ??   \n",
       "Choice                             Message/Message.elm               ??   \n",
       "Enemy                                 Versus/Types.elm   cmpd_web.Enemy   \n",
       "Map                                      Map/Types.elm     cmpd_web.Map   \n",
       "Message                            Message/Message.elm               ??   \n",
       "Place                                   Game/Types.elm   cmpd_web.Place   \n",
       "Place                                    Map/Types.elm   cmpd_web.Place   \n",
       "Place_                                  Game/Types.elm               ??   \n",
       "Player                                Versus/Types.elm  cmpd_web.Player   \n",
       "Remark                                Versus/Types.elm  cmpd_web.Remark   \n",
       "Tile                                    Menu/Types.elm               ??   \n",
       "Word                                      Wordbank.elm    cmpd_web.Word   \n",
       "Model                                          Bar.elm               ??   \n",
       "Model                                     Wordbank.elm               ??   \n",
       "Model          ComponentTemplate/ComponentTemplate.elm               ??   \n",
       "Model                                   Game/Types.elm               ??   \n",
       "Model                              Loadout/Loadout.elm               ??   \n",
       "Model                                    Map/Types.elm               ??   \n",
       "Model                                   Menu/Types.elm               ??   \n",
       "Model                              Message/Message.elm               ??   \n",
       "Model                                 Versus/Types.elm               ??   \n",
       "\n",
       "                                                      definition  \n",
       "type alias                                                        \n",
       "AttributeList                          List (Html.Attribute Msg)  \n",
       "Choice           { label : String, key : String, name : String }  \n",
       "Enemy          { image : String, name : String, health : Float }  \n",
       "Map            { image : String, name : String, places : List...  \n",
       "Message        { text : String, choices : List Choice, name :...  \n",
       "Place          { x : Float, y : Float, label : String, key : ...  \n",
       "Place          { x : Float, y : Float, label : String, key : ...  \n",
       "Place_         { x : Float, y : Float, label : String, key : ...  \n",
       "Player         { loaded : List Word, unloaded : List Word, ca...  \n",
       "Remark         { insult : String, retort : String, score : Fl...  \n",
       "Tile           { label : String, key : Char, x : Float, y : F...  \n",
       "Word           { word : String, partOfSpeech : String, tag : ...  \n",
       "Model          { value : Float, duration : Time.Time, clock :...  \n",
       "Model          { words : List ( Word, Bool ), maxToDisplay : ...  \n",
       "Model                                         { field : String }  \n",
       "Model          { menu : Menu.Types.Model, loadout : Loadout.M...  \n",
       "Model          { loaded : List Word, unloaded : List Word, se...  \n",
       "Model                     { map : Map, menu : Menu.Types.Model }  \n",
       "Model          { tiles : List Tile, id : String, lastKey : Ch...  \n",
       "Model          { text : String, menu : Menu.Types.Model, name...  \n",
       "Model          { wordbank : Wordbank.Model, progressBar : Bar...  "
      ]
     },
     "execution_count": 364,
     "metadata": {},
     "output_type": "execute_result"
    }
   ],
   "source": [
    "df"
   ]
  },
  {
   "cell_type": "code",
   "execution_count": 354,
   "metadata": {
    "collapsed": true
   },
   "outputs": [],
   "source": [
    "def initialize_map(map_name):\n",
    "    \n",
    "    def f(emit):\n",
    "\n",
    "        print 'initializing map: %s' % map_name\n",
    "\n",
    "        map_image = maps[map_name]['image']\n",
    "        places = maps[map_name]['places']\n",
    "        places = [Place(*p) for p in places]\n",
    "        player_vocab = load_vocab(cmpd_web.maps[map_name]['vocab'])\n",
    "\n",
    "        new_vocab = []\n",
    "        for pos, words in player_vocab:\n",
    "            words = list(words)\n",
    "            random.shuffle(words)\n",
    "            new_vocab += [(pos, words[:12])]\n",
    "        player_vocab = new_vocab\n",
    "\n",
    "        map_src = url_for('static', filename=map_image)\n",
    "\n",
    "        enemies = {}\n",
    "        for enemy in stable:\n",
    "            enemies[enemy] = dict(stable[enemy])\n",
    "            enemies[enemy]['image'] = url_for('static', \n",
    "                                                filename=enemies[enemy]['image'])\n",
    "\n",
    "\n",
    "        player = Player(player_vocab, None, capacity=6)\n",
    "        player.model['image'] = url_for('static', filename='images/back.png')\n",
    "        player.model['name'] = 'player'\n",
    "        player.model['health'] = 0.5\n",
    "        GM = GameMaster(places, enemies, player, map_src)\n",
    "        GM.initialize(emit)\n",
    "        session['GM'] = GM"
   ]
  },
  {
   "cell_type": "code",
   "execution_count": null,
   "metadata": {
    "collapsed": true
   },
   "outputs": [],
   "source": []
  },
  {
   "cell_type": "code",
   "execution_count": 353,
   "metadata": {
    "collapsed": false
   },
   "outputs": [
    {
     "data": {
      "text/plain": [
       "[('AttributeList', 'List (Html.Attribute Msg)'),\n",
       " ('Model',\n",
       "  '{ value : Float, duration : Time.Time, clock : Time.Time, animation : Animation, boxAttributes : AttributeList, sliderAttributes : AttributeList, horizontal : Bool, sliderClasses : List String, boxClasses : List String }')]"
      ]
     },
     "execution_count": 353,
     "metadata": {},
     "output_type": "execute_result"
    }
   ],
   "source": [
    "def despace(s):\n",
    "    while '  ' in s:\n",
    "        s = s.replace('  ' , ' ')\n",
    "    return s.strip()\n",
    "\n",
    "def get_types(txt):\n",
    "    defns = []\n",
    "    lines = txt.splitlines()\n",
    "    for i, line in enumerate(lines):\n",
    "        if line.startswith('type alias'):\n",
    "            type_alias = line.split()[2]\n",
    "            defn = ''\n",
    "            for line_ in lines[i+1:]:\n",
    "                if line_ == '':\n",
    "                    break\n",
    "                defn += ' ' + despace(line_)\n",
    "            defn = defn.replace(' ,', ',').strip()\n",
    "            defns += [(type_alias, defn)]\n",
    "    return defns\n",
    "\n",
    "get_types(txt)"
   ]
  },
  {
   "cell_type": "markdown",
   "metadata": {},
   "source": [
    "### twine"
   ]
  },
  {
   "cell_type": "markdown",
   "metadata": {},
   "source": [
    "transform harlowe passages into \n",
    "\n",
    "function that takes current passage and story variables and returns\n",
    "- node appropriate for consumption by display\n",
    "    - list of linked passages is included"
   ]
  },
  {
   "cell_type": "markdown",
   "metadata": {},
   "source": [
    "### need rules for different passage tags\n",
    "\n",
    "- **map**\n",
    "    - `$mapImage` becomes backdrop, defaults to oval office\n",
    "    - `$places` becomes places, defaults to 'abcd...' in a circle\n",
    "        - alternative: highlight objects or outlines with same-size transparent png"
   ]
  },
  {
   "cell_type": "markdown",
   "metadata": {},
   "source": [
    "- **encounter**\n",
    "    - enemy determined by text with `<enemy|` tag\n",
    "        - footer checks this against existing enemies, should generate with cmpd.web\n",
    "        - **rather than the following crap, define the enemies entirely in python for now**\n",
    "    - image with `<enemyImage|` nametag can override image in stable\n",
    "        - extract URL\n",
    "    - override other properties as needed\n",
    "        - `<enemyClass|`\n",
    "        - `<**kwargs|` to enemyClass init"
   ]
  },
  {
   "cell_type": "markdown",
   "metadata": {},
   "source": [
    "- **message**\n",
    "    - separate passage, but can overlay on previous if `overlay` tag present\n",
    "    - links are choices, can re-use map-menu Component or rewrite to map keys to class=\"select\"\n",
    "    - fancy stuff later\n",
    "    "
   ]
  },
  {
   "cell_type": "markdown",
   "metadata": {},
   "source": [
    "- **all passages**    \n",
    "    - transitions ( `HarloweLink` ) made with `(link: )(goto: )` syntax can contain `(set: )` macros\n",
    "    - after conditions are applied links with <instant| tag trigger an immediate transition from the GameMaster"
   ]
  },
  {
   "cell_type": "markdown",
   "metadata": {},
   "source": [
    "- **walkabout**\n",
    "    - why not"
   ]
  },
  {
   "cell_type": "code",
   "execution_count": 1,
   "metadata": {
    "collapsed": false
   },
   "outputs": [],
   "source": [
    "from glob import glob\n",
    "import re\n",
    "from collections import namedtuple\n",
    "import sys\n",
    "sys.path.append('/Users/feldman/packages/harlowe-processor/')"
   ]
  },
  {
   "cell_type": "code",
   "execution_count": 79,
   "metadata": {
    "collapsed": true
   },
   "outputs": [],
   "source": [
    "passage_filter = 'Dummy office', 'Challenge ctenophora', 'Images'"
   ]
  },
  {
   "cell_type": "code",
   "execution_count": 88,
   "metadata": {
    "collapsed": true
   },
   "outputs": [],
   "source": [
    "dummy_office = [m for m in maps if m.name == 'Dummy office'][0]\n",
    "challenge_c =  encounters['Challenge ctenophora']"
   ]
  },
  {
   "cell_type": "markdown",
   "metadata": {},
   "source": [
    "Gamemaster sets up the permitted transitions\n",
    "transition is called, don't use previous state if possible\n",
    "Gamemaster has method to update elm based on node type\n",
    "    - send encounter\n",
    "    - send map\n",
    "    - send message"
   ]
  },
  {
   "cell_type": "code",
   "execution_count": 198,
   "metadata": {
    "collapsed": false
   },
   "outputs": [
    {
     "data": {
      "text/plain": [
       "<module 'external.harlowe_extra' from 'external/harlowe_extra.py'>"
      ]
     },
     "execution_count": 198,
     "metadata": {},
     "output_type": "execute_result"
    }
   ],
   "source": []
  },
  {
   "cell_type": "code",
   "execution_count": 199,
   "metadata": {
    "collapsed": false
   },
   "outputs": [],
   "source": []
  },
  {
   "cell_type": "code",
   "execution_count": 266,
   "metadata": {
    "collapsed": false
   },
   "outputs": [],
   "source": [
    "reload(external.harlowe_extra)\n",
    "from external.harlowe_extra import html_to_nodes\n",
    "reload(cmpd_web)\n",
    "from cmpd_web import HarloweLocal\n",
    "vocab = cmpd_web.load_vocab('derp')\n",
    "grammar = None\n",
    "player = cmpd_web.Player(vocab, grammar)"
   ]
  },
  {
   "cell_type": "code",
   "execution_count": 327,
   "metadata": {
    "collapsed": false
   },
   "outputs": [
    {
     "name": "stdout",
     "output_type": "stream",
     "text": [
      "map with 4 places in Gallery of Heroes\n",
      "map with 7 places in Oval Office\n",
      "map with 1 places in Dummy office\n",
      "generalAbrams found in Fight general\n",
      "ctenophora found in Fight ctenophora\n",
      "ctenophora found in Challenge ctenophora\n",
      "image: https://s4.postimg.io/3otw0adgd/ovaloffice.png\n",
      "places: [Place(x=0.24, y=0.77, key='c', label='Challenge ctenophora')]\n",
      "Current map: Dummy office\n",
      "Go to\n",
      "Challenge ctenophora\n",
      "\n"
     ]
    }
   ],
   "source": [
    "reload(cmpd_web)\n",
    "from cmpd_web import GameMaster, Player, LocalGameMaster\n",
    "vocab = cmpd_web.load_vocab('derp')\n",
    "player = Player(vocab, grammar)\n",
    "GM = LocalGameMaster([], 'Dummy office', player)\n",
    "GM.load_html(html)\n",
    "\n",
    "GM.initialize()"
   ]
  },
  {
   "cell_type": "code",
   "execution_count": 340,
   "metadata": {
    "collapsed": false
   },
   "outputs": [],
   "source": [
    "m = GM.nodes['Dummy office']"
   ]
  },
  {
   "cell_type": "code",
   "execution_count": 345,
   "metadata": {
    "collapsed": false
   },
   "outputs": [
    {
     "data": {
      "text/plain": [
       "False"
      ]
     },
     "execution_count": 345,
     "metadata": {},
     "output_type": "execute_result"
    }
   ],
   "source": [
    "hasattr([], '_asdict')"
   ]
  },
  {
   "cell_type": "code",
   "execution_count": 347,
   "metadata": {
    "collapsed": false
   },
   "outputs": [],
   "source": [
    "def asdict(d):\n",
    "    try:\n",
    "        return d._asdict()\n",
    "    except AttributeError:\n",
    "        return d"
   ]
  },
  {
   "cell_type": "code",
   "execution_count": null,
   "metadata": {
    "collapsed": true
   },
   "outputs": [],
   "source": []
  },
  {
   "cell_type": "code",
   "execution_count": 348,
   "metadata": {
    "collapsed": false
   },
   "outputs": [
    {
     "data": {
      "text/plain": [
       "[Place(x=0.24, y=0.77, key='c', label='Challenge ctenophora')]"
      ]
     },
     "execution_count": 348,
     "metadata": {},
     "output_type": "execute_result"
    }
   ],
   "source": [
    "m._asdict()['places']"
   ]
  },
  {
   "cell_type": "code",
   "execution_count": 313,
   "metadata": {
    "collapsed": true
   },
   "outputs": [
    {
     "name": "stdout",
     "output_type": "stream",
     "text": [
      "encounter with {'image': 'images/ctenophora.png', 'health': 1, 'name': 'ctenophora'}\n",
      "Wordbank: Lazy, Stupid, Insecure, Idiotic, ...\n",
      "Enemy: Enemy(name='ctenophora', image='images/ctenophora.png', cls=<class 'cmpd_web.Opponent'>, vocab='more')\n",
      "Enter text to insult, enter nothing to quit.\n",
      "vapid\n",
      "Wordbank: Douche, Ass, Turd, Butt, ...\n",
      "butt\n",
      "Wordbank: Pilot, Captain, Pirate, Knob, ...\n",
      "pilot\n",
      "#################################################\n",
      "# [--------------------------                 ] #\n",
      "# Stupid Butt Pilot (0.10)                      #\n",
      "#                               damaged fascist #\n",
      "#################################################\n",
      "Wordbank: Lazy, Stupid, Insecure, Idiotic, ...\n",
      "\n"
     ]
    }
   ],
   "source": [
    "GM.transition('Challenge ctenophora')"
   ]
  },
  {
   "cell_type": "code",
   "execution_count": 334,
   "metadata": {
    "collapsed": false
   },
   "outputs": [
    {
     "data": {
      "text/plain": [
       "{'Dummy office': Map(name='Dummy office', image='https://s4.postimg.io/3otw0adgd/ovaloffice.png', places=[Place(x=0.24, y=0.77, key='c', label='Challenge ctenophora')]),\n",
       " 'Gallery of Heroes': Map(name='Gallery of Heroes', image='http://online.rapidresizer.com/patternizeimg.php?builtin=logo&id=4cc46cdf56dbdec3f2cde2e1b78f6c5d&bw=1&edge=1&threshold=64&w=', places=[Place(x=0.24, y=0.77, key='n', label=u'RMN'), Place(x=0.06, y=0.46, key='e', label=u'Ehrlichmann'), Place(x=0.27, y=0.42, key='c', label=u'Colson'), Place(x=0.72, y=0.27, key='h', label=u'Haldeman')]),\n",
       " 'Oval Office': Map(name='Oval Office', image='https://s4.postimg.io/3otw0adgd/ovaloffice.png', places=[Place(x=0.24, y=0.77, key='a', label='War room'), Place(x=0.06, y=0.46, key='v', label=\"President's phone\"), Place(x=0.27, y=0.42, key='i', label='Presidential rocking chair'), Place(x=0.72, y=0.27, key='g', label='Cowboy statue'), Place(x=0.61, y=0.22, key='s', label='Flag of Nixon'), Place(x=0.5, y=0.9, key='d', label='RMN'), Place(x=0.75, y=0.75, key='a', label='Gallery of Heroes')])}"
      ]
     },
     "execution_count": 334,
     "metadata": {},
     "output_type": "execute_result"
    }
   ],
   "source": [
    "maps"
   ]
  },
  {
   "cell_type": "code",
   "execution_count": 323,
   "metadata": {
    "collapsed": false
   },
   "outputs": [
    {
     "data": {
      "text/plain": [
       "\"An office for losers.\\n=><=\\n[]<map|\\n(set: $mapImage to $ovalOfficeImage)\\n<=\\n\\n[[Challenge the beast->Challenge ctenophora]]\\n\\n\\n(set: $places to \\n\\t(a:\\n\\t\\t(a: 0.24, 0.77, 'c'),\\n\\t\\t(a: 0.06, 0.46, 'v'),\\n\\t\\t(a: 0.27, 0.42, 'i'),\\n\\t\\t(a: 0.72, 0.27, 'g'),\\n\\t\\t(a: 0.61, 0.22, 's'),\\n\\t\\t(a: 0.50, 0.90, 'd'),\\n\\t\\t\\n\\t)\\n)\\t\\t \\n\\t\\t\\t \""
      ]
     },
     "execution_count": 323,
     "metadata": {},
     "output_type": "execute_result"
    }
   ],
   "source": [
    "p = passages['Dummy office']\n",
    "p.contents"
   ]
  },
  {
   "cell_type": "markdown",
   "metadata": {},
   "source": [
    "### modify namedtuple to transmit as dict..."
   ]
  },
  {
   "cell_type": "code",
   "execution_count": 152,
   "metadata": {
    "collapsed": true
   },
   "outputs": [
    {
     "name": "stdout",
     "output_type": "stream",
     "text": [
      "/Users/feldman/Downloads/test.html\n",
      "map with 4 places in Gallery of Heroes\n",
      "no <map| nametag found in RMN\n",
      "no <map| nametag found in Ehrlichmann\n",
      "no <map| nametag found in Colson\n",
      "no <map| nametag found in Haldeman\n",
      "no <map| nametag found in Hall of Champions\n",
      "map with 7 places in Oval Office\n",
      "no <map| nametag found in President's phone\n",
      "no <map| nametag found in Cowboy statue\n",
      "no <map| nametag found in Presidential rocking chair\n",
      "no <map| nametag found in Flag of Nixon\n",
      "no <map| nametag found in Fight general\n",
      "no <map| nametag found in War room\n",
      "no <map| nametag found in Fight ctenophora\n",
      "no <map| nametag found in Spiro Agnew\n",
      "map with 1 places in Dummy office\n",
      "no <map| nametag found in Challenge ctenophora\n",
      "no <enemy| nametag found in RMN\n",
      "no <enemy| nametag found in Images\n",
      "no <enemy| nametag found in Ehrlichmann\n",
      "no <enemy| nametag found in Colson\n",
      "no <enemy| nametag found in Haldeman\n",
      "no <enemy| nametag found in Hall of Champions\n",
      "no <enemy| nametag found in President's phone\n",
      "no <enemy| nametag found in Cowboy statue\n",
      "no <enemy| nametag found in Presidential rocking chair\n",
      "no <enemy| nametag found in Flag of Nixon\n",
      "generalAbrams found in Fight general\n",
      "no <enemy| nametag found in War room\n",
      "no <enemy| nametag found in Enemies\n",
      "ctenophora found in Fight ctenophora\n",
      "no <enemy| nametag found in Enemy Images\n",
      "no <enemy| nametag found in startup\n",
      "no <enemy| nametag found in Spiro Agnew\n",
      "no <enemy| nametag found in Map Links footer\n",
      "no <enemy| nametag found in Map Links header\n",
      "ctenophora found in Challenge ctenophora\n"
     ]
    },
    {
     "data": {
      "text/plain": [
       "({'Dummy office': Map(name='Dummy office', image='https://s4.postimg.io/3otw0adgd/ovaloffice.png', places=[Place(x=0.24, y=0.77, key='c', label='Challenge ctenophora')]),\n",
       "  'Gallery of Heroes': Map(name='Gallery of Heroes', image='http://online.rapidresizer.com/patternizeimg.php?builtin=logo&id=4cc46cdf56dbdec3f2cde2e1b78f6c5d&bw=1&edge=1&threshold=64&w=', places=[Place(x=0.24, y=0.77, key='n', label=u'RMN'), Place(x=0.06, y=0.46, key='e', label=u'Ehrlichmann'), Place(x=0.27, y=0.42, key='c', label=u'Colson'), Place(x=0.72, y=0.27, key='h', label=u'Haldeman')]),\n",
       "  'Oval Office': Map(name='Oval Office', image='https://s4.postimg.io/3otw0adgd/ovaloffice.png', places=[Place(x=0.24, y=0.77, key='a', label='War room'), Place(x=0.06, y=0.46, key='v', label=\"President's phone\"), Place(x=0.27, y=0.42, key='i', label='Presidential rocking chair'), Place(x=0.72, y=0.27, key='g', label='Cowboy statue'), Place(x=0.61, y=0.22, key='s', label='Flag of Nixon'), Place(x=0.5, y=0.9, key='d', label='RMN'), Place(x=0.75, y=0.75, key='a', label='Gallery of Heroes')])},\n",
       " {'Challenge ctenophora': 'ctenophora',\n",
       "  'Fight ctenophora': 'ctenophora',\n",
       "  'Fight general': 'generalAbrams'})"
      ]
     },
     "execution_count": 152,
     "metadata": {},
     "output_type": "execute_result"
    }
   ],
   "source": [
    "reload(cmpd_web)\n",
    "from cmpd_web import stable\n",
    "\n",
    "import external.harlowe_extra\n",
    "reload(external.harlowe_extra)\n",
    "from external.harlowe_extra import (get_set_macros, \n",
    "                                    parse_harlowe_html, \n",
    "                                    get_set_args,\n",
    "                                    get_image_urls,\n",
    "                                    get_named_hooks,\n",
    "                                    find_map,\n",
    "                                    find_encounter,\n",
    "                                    find_links)\n",
    "\n",
    "htmls = glob('/Users/feldman/Downloads/test*.html')\n",
    "html = htmls[0]\n",
    "print html\n",
    "\n",
    "a, b, passages = parse_harlowe_html(html)\n",
    "\n",
    "# find global image variables\n",
    "image_passages = [p for n,p in passages.items() if 'Images' in n]\n",
    "image_urls = {}\n",
    "[image_urls.update(get_image_urls(p)) for p in image_passages]\n",
    "\n",
    "\n",
    "def build_graph(html):\n",
    "    a, b, passages = parse_harlowe_html(html)\n",
    "    \n",
    "    # find global image variables\n",
    "    image_passages = [p for n,p in passages.items() if 'Images' in n]\n",
    "    image_urls = {}\n",
    "    [image_urls.update(get_image_urls(p)) for p in image_passages]\n",
    "    \n",
    "    filter_out = 'header', 'footer', 'startup'\n",
    "    remaining_passages = [p for p in passages.values()\n",
    "                             if not any(f in p.tags for f in filter_out)]\n",
    "    \n",
    "    # find maps\n",
    "    maps = [find_map(p, image_urls) for p in remaining_passages]\n",
    "    maps = {m.name: m for m in maps if m}\n",
    "    \n",
    "    # find encounters\n",
    "    remaining_passages = [p for p in passages.values() \n",
    "                              if p.name not in maps]\n",
    "    encounters = {p.name: find_encounter(p) for p in remaining_passages}\n",
    "    encounters = {k: v for k,v in encounters.items() if v}\n",
    "    \n",
    "    # check graph integrity\n",
    "    # missing links, ...\n",
    "    \n",
    "    return maps, encounters\n",
    "\n",
    "\n",
    "maps, encounters = build_graph(html)\n",
    "maps, encounters"
   ]
  },
  {
   "cell_type": "markdown",
   "metadata": {},
   "source": [
    "### parse conditions"
   ]
  },
  {
   "cell_type": "code",
   "execution_count": null,
   "metadata": {
    "collapsed": true
   },
   "outputs": [],
   "source": [
    "for i, pc in enumerate(p.parsed_contents):\n",
    "    arr = []\n",
    "    if isinstance(pc, HarloweMacro):\n",
    "        if pc.canonical_name == 'if':\n",
    "            # attach condition to following hook\n",
    "            "
   ]
  },
  {
   "cell_type": "code",
   "execution_count": 128,
   "metadata": {
    "collapsed": false
   },
   "outputs": [],
   "source": [
    "def transform_macro(hm):\n",
    "    if hm.canonical_name == 'if':\n",
    "        code = ''\n",
    "        for c in hm.code:\n",
    "            if isinstance(c, str):\n",
    "                code += c\n",
    "            if isinstance(c, harlowe.HarloweVariable):\n",
    "                code += 'hv.' + hv.name\n",
    "        return code\n",
    "    "
   ]
  },
  {
   "cell_type": "markdown",
   "metadata": {},
   "source": [
    "### room map"
   ]
  },
  {
   "cell_type": "code",
   "execution_count": 13,
   "metadata": {
    "collapsed": false
   },
   "outputs": [],
   "source": [
    "for name, passage in passages.items():\n",
    "    passage.parse_contents()\n",
    "    for c in passage.parsed_contents:\n",
    "        if isinstance(c, harlowe.HarloweLink):\n",
    "            passage.destinations |= {c.passage_name[0]}\n",
    "            passages[c.passage_name[0]].parents |= {name}\n",
    "            \n",
    "        "
   ]
  },
  {
   "cell_type": "code",
   "execution_count": 14,
   "metadata": {
    "collapsed": false
   },
   "outputs": [
    {
     "name": "stdout",
     "output_type": "stream",
     "text": [
      "Gallery of Heroes\n",
      "set([]) -> set([u'Colson', u'Ehrlichmann', u'RMN', u'Haldeman'])\n",
      "RMN\n",
      "set(['Gallery of Heroes']) -> set([])\n",
      "global\n",
      "set([]) -> set([])\n",
      "Ehrlichmann\n",
      "set(['Gallery of Heroes']) -> set([])\n",
      "Colson\n",
      "set(['Gallery of Heroes']) -> set([])\n",
      "Haldeman\n",
      "set(['Gallery of Heroes']) -> set([])\n",
      "Hall of Champions\n",
      "set([]) -> set([])\n"
     ]
    }
   ],
   "source": [
    "for passage in passages.values():\n",
    "    print passage.name\n",
    "    print passage.parents,'->', passage.destinations"
   ]
  }
 ],
 "metadata": {
  "kernelspec": {
   "display_name": "Python 2",
   "language": "python",
   "name": "python2"
  },
  "language_info": {
   "codemirror_mode": {
    "name": "ipython",
    "version": 2
   },
   "file_extension": ".py",
   "mimetype": "text/x-python",
   "name": "python",
   "nbconvert_exporter": "python",
   "pygments_lexer": "ipython2",
   "version": "2.7.9"
  }
 },
 "nbformat": 4,
 "nbformat_minor": 0
}
