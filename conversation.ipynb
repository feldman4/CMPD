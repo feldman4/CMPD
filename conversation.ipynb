{
 "cells": [
  {
   "cell_type": "markdown",
   "metadata": {},
   "source": [
    "### player enemy gamemaster refactor\n",
    "\n",
    "1. Player vocabulary should be able to\n",
    "    1. generate all allowed sentences\n",
    "    2. generate completions for part of sentence\n",
    "2. Stores\n",
    "    1. POS => [word]\n",
    "    2. CFG or transition rule to generate allowed sentences\n",
    "    \n",
    "    \n"
   ]
  },
  {
   "cell_type": "markdown",
   "metadata": {},
   "source": [
    "### what makes an enemy?\n",
    "1. Vocab (POS => [word])\n",
    "2. Grammar (set of allowed [POS])\n",
    "3. Choice function?\n",
    "    1. can use the Score function on many retorts, and pick one in a score range based on difficulty\n",
    "    2. can use some similarity-based weights\n",
    "    \n",
    "wrap up functionality in a reply(self, Score, remark_history)"
   ]
  },
  {
   "cell_type": "markdown",
   "metadata": {},
   "source": [
    "### what does Player do?\n",
    "all player does right now is complete phrases and manage loaded words\n",
    "\n",
    "\n",
    "1. model -> user choice -> model, excluding small transitions in Elm\n",
    "2. provides additional view functionality??\n",
    "    1. suggestions\n",
    "\n",
    "** this combines Rules and Player state ** "
   ]
  },
  {
   "cell_type": "markdown",
   "metadata": {},
   "source": [
    "### get new system working with LocalEncounter(GameMaster)\n",
    "\n",
    "automatic conversion between namedtuple and dict would be nice\n",
    "ask for retort when phrase finishes (signal from Elm, double space)\n"
   ]
  },
  {
   "cell_type": "markdown",
   "metadata": {},
   "source": [
    "### generate dec insults using a CFG\n",
    "- parameterize by production damping coefficient\n",
    " "
   ]
  },
  {
   "cell_type": "code",
   "execution_count": 242,
   "metadata": {
    "collapsed": false
   },
   "outputs": [
    {
     "name": "stdout",
     "output_type": "stream",
     "text": [
      "Procfile                 dec.ipynb                inspect.ipynb            \u001b[34mresources\u001b[m\u001b[m/\r\n",
      "app.py                   elm-package.json         nexus.pyc                \u001b[34mstatic\u001b[m\u001b[m/\r\n",
      "cmpd.py                  \u001b[34melm-src\u001b[m\u001b[m/                 nixon                    \u001b[34mtemplates\u001b[m\u001b[m/\r\n",
      "cmpd.pyc                 \u001b[34melm-stuff\u001b[m\u001b[m/               notes.md                 \u001b[34mvenv\u001b[m\u001b[m/\r\n",
      "cmpd_web.py              \u001b[34mexternal\u001b[m\u001b[m/                notes_implementation.md\r\n",
      "cmpd_web.pyc             harlowe.ipynb            record\r\n",
      "conversation.ipynb       harlowe.pyc              requirements.txt\r\n"
     ]
    }
   ],
   "source": [
    "ls"
   ]
  },
  {
   "cell_type": "code",
   "execution_count": 245,
   "metadata": {
    "collapsed": false
   },
   "outputs": [
    {
     "data": {
      "application/javascript": [
       "require.config({\n",
       "  paths: {\n",
       "      grammargraph: '/Users/feldman/packages/node_modules/grammar-graph'\n",
       "  }\n",
       "});"
      ],
      "text/plain": [
       "<IPython.core.display.Javascript object>"
      ]
     },
     "metadata": {},
     "output_type": "display_data"
    }
   ],
   "source": [
    "%%javascript\n",
    "requirejs.config({\n",
    "    paths: { \n",
    "        'd3': ['//cdnjs.cloudflare.com/ajax/libs/d3/3.5.6/d3'], \n",
    "                                               // strip .js ^, require adds it back\n",
    "    },\n",
    "});\n",
    "\n",
    "require(['d3'], function(d3) {\n",
    "    console.log(\"Loaded :)\");    \n",
    "    return {};\n",
    "});"
   ]
  },
  {
   "cell_type": "code",
   "execution_count": 240,
   "metadata": {
    "collapsed": false
   },
   "outputs": [
    {
     "data": {
      "text/plain": [
       "u'/Users/feldman/packages/CMPD'"
      ]
     },
     "execution_count": 240,
     "metadata": {},
     "output_type": "execute_result"
    }
   ],
   "source": []
  },
  {
   "cell_type": "code",
   "execution_count": 255,
   "metadata": {
    "collapsed": false
   },
   "outputs": [
    {
     "data": {
      "application/javascript": [
       "\n",
       "require(['node_modules/grammar-graph/lib/grammar-graph.js'], function (foo) {\n",
       "\n",
       "\n",
       "var GrammarGraph = require('node_modules/grammar-graph/lib/grammar-graph.js')\n",
       "\n",
       "var grammar = {\n",
       "        Sentence: ['NounPhrase VerbPhrase'],\n",
       "      NounPhrase: ['the Noun',\n",
       "                   'the Noun RelativeClause'],\n",
       "      VerbPhrase: ['Verb',\n",
       "                   'Verb NounPhrase'],\n",
       "  RelativeClause: ['that VerbPhrase'],\n",
       "            Noun: ['dog',\n",
       "                   'cat',\n",
       "                   'bird',\n",
       "                   'squirrel'],\n",
       "            Verb: ['befriended',\n",
       "                   'loved',\n",
       "                   'ate',\n",
       "                   'attacked']\n",
       "}\n",
       "\n",
       "var graph = new GrammarGraph(grammar)\n",
       "\n",
       "console.log(graph)\n",
       "\n",
       "})();"
      ],
      "text/plain": [
       "<IPython.core.display.Javascript object>"
      ]
     },
     "metadata": {},
     "output_type": "display_data"
    }
   ],
   "source": [
    "%%javascript\n",
    "\n",
    "require(['node_modules/grammar-graph/lib/grammar-graph.js'], function (foo) {\n",
    "\n",
    "\n",
    "var GrammarGraph = require('node_modules/grammar-graph/lib/grammar-graph.js')\n",
    "\n",
    "var grammar = {\n",
    "        Sentence: ['NounPhrase VerbPhrase'],\n",
    "      NounPhrase: ['the Noun',\n",
    "                   'the Noun RelativeClause'],\n",
    "      VerbPhrase: ['Verb',\n",
    "                   'Verb NounPhrase'],\n",
    "  RelativeClause: ['that VerbPhrase'],\n",
    "            Noun: ['dog',\n",
    "                   'cat',\n",
    "                   'bird',\n",
    "                   'squirrel'],\n",
    "            Verb: ['befriended',\n",
    "                   'loved',\n",
    "                   'ate',\n",
    "                   'attacked']\n",
    "}\n",
    "\n",
    "var graph = new GrammarGraph(grammar)\n",
    "\n",
    "console.log(graph)\n",
    "\n",
    "})();\n"
   ]
  },
  {
   "cell_type": "code",
   "execution_count": 230,
   "metadata": {
    "collapsed": false
   },
   "outputs": [],
   "source": [
    "import cmpd_web\n",
    "reload(cmpd_web)\n",
    "from cmpd_web import Player, LocalGameMaster\n",
    "\n",
    "vocab = cmpd_web.load_vocab('DIDB', subset='start')\n",
    "p = Player(vocab, None)\n",
    "\n",
    "gm = LocalGameMaster(p)\n",
    "\n",
    "gm.load_html('resources/harlowe/Nixonland_Archive_2.html')\n",
    "from IPython.display import clear_output, display, HTML, Image\n",
    "clear_output()"
   ]
  },
  {
   "cell_type": "code",
   "execution_count": 231,
   "metadata": {
    "collapsed": false
   },
   "outputs": [
    {
     "name": "stdout",
     "output_type": "stream",
     "text": [
      "Launching encounter with {'image': 'http://i.imgur.com/0ajO7ES.png', 'health': 0.5, 'name': 'gatekeeper'}\n"
     ]
    },
    {
     "data": {
      "text/html": [
       "<img src=\"http://i.imgur.com/0ajO7ES.png\" width=\"200\">"
      ],
      "text/plain": [
       "<IPython.core.display.HTML object>"
      ]
     },
     "metadata": {},
     "output_type": "display_data"
    },
    {
     "name": "stdout",
     "output_type": "stream",
     "text": [
      "Wordbank: Candy-Assed, Clamorous, Constipated, Despicable, ...\n",
      "Enter text to insult, enter nothing to quit.\n",
      "a\n",
      "Wordbank: Bastard, Eunuch, Filth, Moocher, ...\n",
      "a\n",
      "#################################################\n",
      "# [--------------------------                 ] #\n",
      "# Clamorous Bastard (0.10)                      #\n",
      "#                            Stupid Turd Pirate #\n",
      "#################################################\n",
      "health is 0.6\n",
      "Wordbank: Candy-Assed, Clamorous, Constipated, Despicable, ...\n",
      "\n"
     ]
    }
   ],
   "source": [
    "gm.initialize()"
   ]
  },
  {
   "cell_type": "code",
   "execution_count": 236,
   "metadata": {
    "collapsed": false
   },
   "outputs": [
    {
     "name": "stdout",
     "output_type": "stream",
     "text": [
      "Launching encounter with {'image': 'http://i.imgur.com/0ajO7ES.png', 'health': 0.5, 'name': 'gatekeeper'}\n"
     ]
    },
    {
     "data": {
      "text/html": [
       "<img src=\"http://i.imgur.com/0ajO7ES.png\" width=\"200\">"
      ],
      "text/plain": [
       "<IPython.core.display.HTML object>"
      ]
     },
     "metadata": {},
     "output_type": "display_data"
    },
    {
     "name": "stdout",
     "output_type": "stream",
     "text": [
      "Wordbank: Candy-Assed, Clamorous, Constipated, Despicable, ...\n",
      "Enter text to insult, enter nothing to quit.\n",
      "candy\n",
      "Wordbank: Bastard, Eunuch, Filth, Moocher, ...\n",
      "clam\n",
      "#################################################\n",
      "# [--------------------------                 ] #\n",
      "# Candy-Assed Filth (0.10)                      #\n",
      "#                            Racist Prick Louse #\n",
      "#################################################\n",
      "health is 0.6\n",
      "Wordbank: Candy-Assed, Clamorous, Constipated, Despicable, ...\n",
      "\n"
     ]
    }
   ],
   "source": [
    "gm.to_encounter()"
   ]
  },
  {
   "cell_type": "code",
   "execution_count": 235,
   "metadata": {
    "collapsed": true
   },
   "outputs": [],
   "source": [
    "from external.types import Enemy\n",
    "d = gm.node._asdict()\n",
    "d['vocab'] = 'derp'\n",
    "d['cls']\n",
    "gm.node = Enemy(**d)"
   ]
  },
  {
   "cell_type": "code",
   "execution_count": 176,
   "metadata": {
    "collapsed": false
   },
   "outputs": [
    {
     "data": {
      "text/plain": [
       "[('Adjective', ['Floundering']), ('Noun', ['Enigma'])]"
      ]
     },
     "execution_count": 176,
     "metadata": {},
     "output_type": "execute_result"
    }
   ],
   "source": [
    "cmpd_web.load_vocab('DIDB', subset='killKan', reload=True)"
   ]
  },
  {
   "cell_type": "code",
   "execution_count": 124,
   "metadata": {
    "collapsed": true
   },
   "outputs": [],
   "source": [
    "p = gm.passage_trees['Gatekeeper'][0]"
   ]
  },
  {
   "cell_type": "code",
   "execution_count": 127,
   "metadata": {
    "collapsed": false
   },
   "outputs": [],
   "source": [
    "from external import harlowe_extra"
   ]
  },
  {
   "cell_type": "code",
   "execution_count": 150,
   "metadata": {
    "collapsed": false
   },
   "outputs": [
    {
     "data": {
      "text/plain": [
       "<module 'external.harlowe_extra' from 'external/harlowe_extra.pyc'>"
      ]
     },
     "execution_count": 150,
     "metadata": {},
     "output_type": "execute_result"
    }
   ],
   "source": [
    "reload(harlowe_extra)"
   ]
  },
  {
   "cell_type": "code",
   "execution_count": 146,
   "metadata": {
    "collapsed": false
   },
   "outputs": [
    {
     "data": {
      "text/plain": [
       "(<function external.harlowe_extra._hook>,\n",
       " [(<function external.harlowe_extra._id>, '\\n=><=\\n***hrkkk***\\n\\n'),\n",
       "  (<function external.harlowe_extra._link>,\n",
       "   (<function external.harlowe_extra._id>, 'Assault'),\n",
       "   (<function external.harlowe_extra._id>, ''),\n",
       "   (<function external.harlowe_extra._id>, 'Fight gatekeeper')),\n",
       "  (<function external.harlowe_extra._id>, '\\n'),\n",
       "  (<function external.harlowe_extra._link>,\n",
       "   (<function external.harlowe_extra._id>, 'Back down'),\n",
       "   (<function external.harlowe_extra._id>, ''),\n",
       "   (<function external.harlowe_extra._id>, 'Threshold')),\n",
       "  (<function external.harlowe_extra._id>, ' \\n'),\n",
       "  (<function external.harlowe_extra._unless>,\n",
       "   (<function external.harlowe_extra._id>,\n",
       "    <external.harlowe.HarloweVariable instance at 0x1146a7758>),\n",
       "   (<function external.harlowe_extra._hook>,\n",
       "    [(<function external.harlowe_extra._id>, ' '),\n",
       "     (<function external.harlowe_extra._link>,\n",
       "      (<function external.harlowe_extra._id>, 'Examine'),\n",
       "      (<function external.harlowe_extra._id>, ''),\n",
       "      (<function external.harlowe_extra._id>, 'Small plaque')),\n",
       "     (<function external.harlowe_extra._id>, ' ')],\n",
       "    None))],\n",
       " None)"
      ]
     },
     "execution_count": 146,
     "metadata": {},
     "output_type": "execute_result"
    }
   ],
   "source": [
    "harlowe_extra.preprocess(harlowe_extra.HarloweHook(p.parsed_contents))"
   ]
  },
  {
   "cell_type": "code",
   "execution_count": 123,
   "metadata": {
    "collapsed": false
   },
   "outputs": [
    {
     "data": {
      "text/plain": [
       "(<external.harlowe.HarlowePassage instance at 0x1148ca1b8>,\n",
       " (<function external.harlowe_extra._hook>,\n",
       "  [(<function external.harlowe_extra._id>, '\\n=><=\\n***hrkkk***\\n\\n'),\n",
       "   (<function external.harlowe_extra._link>,\n",
       "    (<function external.harlowe_extra._id>, 'Assault'),\n",
       "    (<function external.harlowe_extra._id>, ''),\n",
       "    (<function external.harlowe_extra._id>, 'Fight gatekeeper')),\n",
       "   (<function external.harlowe_extra._id>, '\\n'),\n",
       "   (<function external.harlowe_extra._link>,\n",
       "    (<function external.harlowe_extra._id>, 'Back down'),\n",
       "    (<function external.harlowe_extra._id>, ''),\n",
       "    (<function external.harlowe_extra._id>, 'Threshold')),\n",
       "   (<function external.harlowe_extra._id>, ' \\n'),\n",
       "   (<function external.harlowe_extra._unless>,\n",
       "    (<function external.harlowe_extra._id>,\n",
       "     <external.harlowe.HarloweVariable instance at 0x1148f7098>),\n",
       "    (<function external.harlowe_extra._id>, 'wtf')),\n",
       "   (<function external.harlowe_extra._hook>,\n",
       "    [(<function external.harlowe_extra._id>, ' '),\n",
       "     (<function external.harlowe_extra._link>,\n",
       "      (<function external.harlowe_extra._id>, 'Examine'),\n",
       "      (<function external.harlowe_extra._id>, ''),\n",
       "      (<function external.harlowe_extra._id>, 'Small plaque')),\n",
       "     (<function external.harlowe_extra._id>, ' ')],\n",
       "    None)],\n",
       "  None))"
      ]
     },
     "execution_count": 123,
     "metadata": {},
     "output_type": "execute_result"
    }
   ],
   "source": [
    "gm.passage_trees['Gatekeeper']"
   ]
  },
  {
   "cell_type": "code",
   "execution_count": 100,
   "metadata": {
    "collapsed": false
   },
   "outputs": [
    {
     "data": {
      "text/plain": [
       "u'<p>asdf</p>'"
      ]
     },
     "execution_count": 100,
     "metadata": {},
     "output_type": "execute_result"
    }
   ],
   "source": [
    "markdown('asdf')"
   ]
  },
  {
   "cell_type": "code",
   "execution_count": 326,
   "metadata": {
    "collapsed": true
   },
   "outputs": [
    {
     "name": "stdout",
     "output_type": "stream",
     "text": [
      "Wordbank: Lazy, Stupid, Insecure, Idiotic, ...\n",
      "Enemy: ctenophora\n",
      "Enter text to insult, enter nothing to quit.\n",
      "a\n",
      "Wordbank: Douche, Ass, Turd, Butt, ...\n",
      "b\n",
      "Wordbank: Pilot, Captain, Pirate, Knob, ...\n",
      "c\n",
      "#################################################\n",
      "# [--------------------------                 ] #\n",
      "# Lazy Butt Captain (0.10)                      #\n",
      "#                         Fear-Mongering Coward #\n",
      "#################################################\n",
      "Wordbank: Lazy, Stupid, Insecure, Idiotic, ...\n",
      "a\n",
      "Wordbank: Douche, Ass, Turd, Butt, ...\n",
      "b\n",
      "Wordbank: Pilot, Captain, Pirate, Knob, ...\n",
      "c\n",
      "#################################################\n",
      "# [------------------------                   ] #\n",
      "# Lazy Butt Captain (-0.05)                     #\n",
      "#                             Litigious Upstart #\n",
      "#################################################\n",
      "Wordbank: Lazy, Stupid, Insecure, Idiotic, ...\n"
     ]
    },
    {
     "ename": "KeyboardInterrupt",
     "evalue": "",
     "output_type": "error",
     "traceback": [
      "\u001b[0;31m---------------------------------------------------------------------------\u001b[0m",
      "\u001b[0;31mKeyboardInterrupt\u001b[0m                         Traceback (most recent call last)",
      "\u001b[0;32m<ipython-input-326-8c7ed84f34c5>\u001b[0m in \u001b[0;36m<module>\u001b[0;34m()\u001b[0m\n\u001b[1;32m      8\u001b[0m \u001b[0mLE\u001b[0m \u001b[0;34m=\u001b[0m \u001b[0mcmpd_web\u001b[0m\u001b[0;34m.\u001b[0m\u001b[0mLocalEncounter\u001b[0m\u001b[0;34m(\u001b[0m\u001b[0mplayer\u001b[0m\u001b[0;34m)\u001b[0m\u001b[0;34m\u001b[0m\u001b[0m\n\u001b[1;32m      9\u001b[0m \u001b[0;34m\u001b[0m\u001b[0m\n\u001b[0;32m---> 10\u001b[0;31m \u001b[0mLE\u001b[0m\u001b[0;34m.\u001b[0m\u001b[0mprompt\u001b[0m\u001b[0;34m(\u001b[0m\u001b[0;34m'ctenophora'\u001b[0m\u001b[0;34m)\u001b[0m\u001b[0;34m\u001b[0m\u001b[0m\n\u001b[0m",
      "\u001b[0;32m/Users/feldman/packages/CMPD/cmpd_web.pyc\u001b[0m in \u001b[0;36mprompt\u001b[0;34m(self, enemy)\u001b[0m\n\u001b[1;32m    307\u001b[0m         \u001b[0;32mwhile\u001b[0m \u001b[0mTrue\u001b[0m\u001b[0;34m:\u001b[0m\u001b[0;34m\u001b[0m\u001b[0m\n\u001b[1;32m    308\u001b[0m \u001b[0;34m\u001b[0m\u001b[0m\n\u001b[0;32m--> 309\u001b[0;31m             \u001b[0muser_input\u001b[0m \u001b[0;34m=\u001b[0m \u001b[0mraw_input\u001b[0m\u001b[0;34m(\u001b[0m\u001b[0;34m)\u001b[0m\u001b[0;34m\u001b[0m\u001b[0m\n\u001b[0m\u001b[1;32m    310\u001b[0m             \u001b[0;32mif\u001b[0m \u001b[0muser_input\u001b[0m \u001b[0;34m==\u001b[0m \u001b[0;34m''\u001b[0m\u001b[0;34m:\u001b[0m\u001b[0;34m\u001b[0m\u001b[0m\n\u001b[1;32m    311\u001b[0m                 \u001b[0;32mbreak\u001b[0m\u001b[0;34m\u001b[0m\u001b[0m\n",
      "\u001b[0;32m//anaconda/lib/python2.7/site-packages/ipykernel/kernelbase.pyc\u001b[0m in \u001b[0;36mraw_input\u001b[0;34m(self, prompt)\u001b[0m\n\u001b[1;32m    687\u001b[0m             \u001b[0mself\u001b[0m\u001b[0;34m.\u001b[0m\u001b[0m_parent_ident\u001b[0m\u001b[0;34m,\u001b[0m\u001b[0;34m\u001b[0m\u001b[0m\n\u001b[1;32m    688\u001b[0m             \u001b[0mself\u001b[0m\u001b[0;34m.\u001b[0m\u001b[0m_parent_header\u001b[0m\u001b[0;34m,\u001b[0m\u001b[0;34m\u001b[0m\u001b[0m\n\u001b[0;32m--> 689\u001b[0;31m             \u001b[0mpassword\u001b[0m\u001b[0;34m=\u001b[0m\u001b[0mFalse\u001b[0m\u001b[0;34m,\u001b[0m\u001b[0;34m\u001b[0m\u001b[0m\n\u001b[0m\u001b[1;32m    690\u001b[0m         )\n\u001b[1;32m    691\u001b[0m \u001b[0;34m\u001b[0m\u001b[0m\n",
      "\u001b[0;32m//anaconda/lib/python2.7/site-packages/ipykernel/kernelbase.pyc\u001b[0m in \u001b[0;36m_input_request\u001b[0;34m(self, prompt, ident, parent, password)\u001b[0m\n\u001b[1;32m    717\u001b[0m             \u001b[0;32mexcept\u001b[0m \u001b[0mKeyboardInterrupt\u001b[0m\u001b[0;34m:\u001b[0m\u001b[0;34m\u001b[0m\u001b[0m\n\u001b[1;32m    718\u001b[0m                 \u001b[0;31m# re-raise KeyboardInterrupt, to truncate traceback\u001b[0m\u001b[0;34m\u001b[0m\u001b[0;34m\u001b[0m\u001b[0m\n\u001b[0;32m--> 719\u001b[0;31m                 \u001b[0;32mraise\u001b[0m \u001b[0mKeyboardInterrupt\u001b[0m\u001b[0;34m\u001b[0m\u001b[0m\n\u001b[0m\u001b[1;32m    720\u001b[0m             \u001b[0;32melse\u001b[0m\u001b[0;34m:\u001b[0m\u001b[0;34m\u001b[0m\u001b[0m\n\u001b[1;32m    721\u001b[0m                 \u001b[0;32mbreak\u001b[0m\u001b[0;34m\u001b[0m\u001b[0m\n",
      "\u001b[0;31mKeyboardInterrupt\u001b[0m: "
     ]
    }
   ],
   "source": [
    "reload(cmpd_web)\n",
    "\n",
    "vocab = cmpd_web.load_vocab('derp')\n",
    "grammar = None\n",
    "player = cmpd_web.Player(vocab, grammar)\n",
    "\n",
    "\n",
    "LE = cmpd_web.LocalEncounter(player)\n",
    "\n",
    "LE.prompt('ctenophora')"
   ]
  },
  {
   "cell_type": "code",
   "execution_count": null,
   "metadata": {
    "collapsed": true
   },
   "outputs": [],
   "source": []
  },
  {
   "cell_type": "code",
   "execution_count": 284,
   "metadata": {
    "collapsed": false
   },
   "outputs": [
    {
     "data": {
      "text/plain": [
       "[Word(word=u'Lazy', partOfSpeech=u'Asshole', tag=''),\n",
       " Word(word=u'Douche', partOfSpeech=u'Butt', tag=''),\n",
       " Word(word=u'Pilot', partOfSpeech=u'Cock', tag=''),\n",
       " Word(word=u'Elitist', partOfSpeech=u'Asshole', tag='')]"
      ]
     },
     "execution_count": 284,
     "metadata": {},
     "output_type": "execute_result"
    }
   ],
   "source": [
    "LE.player_phrase"
   ]
  },
  {
   "cell_type": "code",
   "execution_count": 11,
   "metadata": {
    "collapsed": true
   },
   "outputs": [],
   "source": [
    "from nltk.parse.generate import generate, demo_grammar"
   ]
  },
  {
   "cell_type": "code",
   "execution_count": 15,
   "metadata": {
    "collapsed": true
   },
   "outputs": [],
   "source": [
    "demo_grammar = \"\"\"\n",
    "S -> NP VPxz\n",
    "NP -> Det N\n",
    "PP -> P NP\n",
    "VP -> 'slept' | 'saw' NP | 'walked' PP\n",
    "Det -> 'the' | 'a'\n",
    "N -> 'man' | 'park' | 'dog'\n",
    "P -> 'in' | 'with'\n",
    "\"\"\""
   ]
  },
  {
   "cell_type": "code",
   "execution_count": 16,
   "metadata": {
    "collapsed": false
   },
   "outputs": [
    {
     "name": "stdout",
     "output_type": "stream",
     "text": [
      "Grammar with 13 productions (start state = S)\n",
      "    S -> NP VP\n",
      "    NP -> Det N\n",
      "    PP -> P NP\n",
      "    VP -> 'slept'\n",
      "    VP -> 'saw' NP\n",
      "    VP -> 'walked' PP\n",
      "    Det -> 'the'\n",
      "    Det -> 'a'\n",
      "    N -> 'man'\n",
      "    N -> 'park'\n",
      "    N -> 'dog'\n",
      "    P -> 'in'\n",
      "    P -> 'with'\n"
     ]
    }
   ],
   "source": [
    "from nltk import CFG\n",
    "grammar = CFG.fromstring(demo_grammar)\n",
    "print(grammar)"
   ]
  },
  {
   "cell_type": "code",
   "execution_count": 10,
   "metadata": {
    "collapsed": true
   },
   "outputs": [
    {
     "ename": "RuntimeError",
     "evalue": "Model 'en>=1.1.0,<1.2.0' not installed. Please run 'python -m spacy.en.download' to install latest compatible model.",
     "output_type": "error",
     "traceback": [
      "\u001b[0;31m---------------------------------------------------------------------------\u001b[0m",
      "\u001b[0;31mRuntimeError\u001b[0m                              Traceback (most recent call last)",
      "\u001b[0;32m<ipython-input-10-975cdc92a03d>\u001b[0m in \u001b[0;36m<module>\u001b[0;34m()\u001b[0m\n\u001b[1;32m      1\u001b[0m \u001b[0;31m# make a CFG for dec\u001b[0m\u001b[0;34m\u001b[0m\u001b[0;34m\u001b[0m\u001b[0m\n\u001b[1;32m      2\u001b[0m \u001b[0;32mfrom\u001b[0m \u001b[0mspacy\u001b[0m\u001b[0;34m.\u001b[0m\u001b[0men\u001b[0m \u001b[0;32mimport\u001b[0m \u001b[0mEnglish\u001b[0m\u001b[0;34m\u001b[0m\u001b[0m\n\u001b[0;32m----> 3\u001b[0;31m \u001b[0mnlp\u001b[0m \u001b[0;34m=\u001b[0m \u001b[0mEnglish\u001b[0m\u001b[0;34m(\u001b[0m\u001b[0;34m)\u001b[0m\u001b[0;34m\u001b[0m\u001b[0m\n\u001b[0m\u001b[1;32m      4\u001b[0m \u001b[0mdoc\u001b[0m \u001b[0;34m=\u001b[0m \u001b[0mnlp\u001b[0m\u001b[0;34m(\u001b[0m\u001b[0;34mu'A whole document.\\nNo preprocessing require.   Robust to arbitrary formating.'\u001b[0m\u001b[0;34m)\u001b[0m\u001b[0;34m\u001b[0m\u001b[0m\n\u001b[1;32m      5\u001b[0m \u001b[0;32mfor\u001b[0m \u001b[0msent\u001b[0m \u001b[0;32min\u001b[0m \u001b[0mdoc\u001b[0m\u001b[0;34m:\u001b[0m\u001b[0;34m\u001b[0m\u001b[0m\n",
      "\u001b[0;32m//anaconda/lib/python2.7/site-packages/spacy/language.py\u001b[0m in \u001b[0;36m__init__\u001b[0;34m(self, data_dir, vocab, tokenizer, tagger, parser, entity, matcher, serializer, load_vectors, package, vectors_package)\u001b[0m\n\u001b[1;32m    168\u001b[0m         \u001b[0;32mif\u001b[0m \u001b[0mpackage\u001b[0m \u001b[0;32mis\u001b[0m \u001b[0mNone\u001b[0m\u001b[0;34m:\u001b[0m\u001b[0;34m\u001b[0m\u001b[0m\n\u001b[1;32m    169\u001b[0m             \u001b[0;32mif\u001b[0m \u001b[0mdata_dir\u001b[0m \u001b[0;32mis\u001b[0m \u001b[0mNone\u001b[0m\u001b[0;34m:\u001b[0m\u001b[0;34m\u001b[0m\u001b[0m\n\u001b[0;32m--> 170\u001b[0;31m                 \u001b[0mpackage\u001b[0m \u001b[0;34m=\u001b[0m \u001b[0mutil\u001b[0m\u001b[0;34m.\u001b[0m\u001b[0mget_package_by_name\u001b[0m\u001b[0;34m(\u001b[0m\u001b[0mabout\u001b[0m\u001b[0;34m.\u001b[0m\u001b[0m__models__\u001b[0m\u001b[0;34m[\u001b[0m\u001b[0mself\u001b[0m\u001b[0;34m.\u001b[0m\u001b[0mlang\u001b[0m\u001b[0;34m]\u001b[0m\u001b[0;34m)\u001b[0m\u001b[0;34m\u001b[0m\u001b[0m\n\u001b[0m\u001b[1;32m    171\u001b[0m             \u001b[0;32melse\u001b[0m\u001b[0;34m:\u001b[0m\u001b[0;34m\u001b[0m\u001b[0m\n\u001b[1;32m    172\u001b[0m                 \u001b[0mpackage\u001b[0m \u001b[0;34m=\u001b[0m \u001b[0mutil\u001b[0m\u001b[0;34m.\u001b[0m\u001b[0mget_package\u001b[0m\u001b[0;34m(\u001b[0m\u001b[0mdata_dir\u001b[0m\u001b[0;34m)\u001b[0m\u001b[0;34m\u001b[0m\u001b[0m\n",
      "\u001b[0;32m//anaconda/lib/python2.7/site-packages/spacy/util.pyc\u001b[0m in \u001b[0;36mget_package_by_name\u001b[0;34m(name, via)\u001b[0m\n\u001b[1;32m     46\u001b[0m         raise RuntimeError(\"Model '%s' not installed. Please run 'python -m \"\n\u001b[1;32m     47\u001b[0m                            \u001b[0;34m\"%s.download' to install latest compatible \"\u001b[0m\u001b[0;34m\u001b[0m\u001b[0m\n\u001b[0;32m---> 48\u001b[0;31m                            \"model.\" % (name, lang.__module__))\n\u001b[0m\u001b[1;32m     49\u001b[0m     \u001b[0;32mexcept\u001b[0m \u001b[0mCompatiblePackageNotFoundException\u001b[0m \u001b[0;32mas\u001b[0m \u001b[0me\u001b[0m\u001b[0;34m:\u001b[0m\u001b[0;34m\u001b[0m\u001b[0m\n\u001b[1;32m     50\u001b[0m         raise RuntimeError(\"Installed model is not compatible with spaCy \"\n",
      "\u001b[0;31mRuntimeError\u001b[0m: Model 'en>=1.1.0,<1.2.0' not installed. Please run 'python -m spacy.en.download' to install latest compatible model."
     ]
    }
   ],
   "source": [
    "# make a CFG for dec\n",
    "from spacy.en import English\n",
    "nlp = English()\n",
    "doc = nlp(u'A whole document.\\nNo preprocessing require.   Robust to arbitrary formating.')\n",
    "for sent in doc:\n",
    "    for token in sent:\n",
    "        if token.is_alpha:\n",
    "            print token.orth_, token.tag_, token.head.lemma_"
   ]
  },
  {
   "cell_type": "code",
   "execution_count": 6,
   "metadata": {
    "collapsed": true
   },
   "outputs": [],
   "source": [
    "import spacy"
   ]
  },
  {
   "cell_type": "markdown",
   "metadata": {},
   "source": [
    "### load dec vocab and text"
   ]
  },
  {
   "cell_type": "code",
   "execution_count": 177,
   "metadata": {
    "collapsed": false,
    "scrolled": true
   },
   "outputs": [],
   "source": [
    "dec_vocab = cmpd_web.load_vocab('dec', reload=True)\n",
    "dec_keywords = [w.lower() for s, words in dec_vocab[:2] for w in words]\n",
    "adj = dec_vocab[0][1]\n",
    "noun = dec_vocab[1][1]"
   ]
  },
  {
   "cell_type": "code",
   "execution_count": 178,
   "metadata": {
    "collapsed": true
   },
   "outputs": [],
   "source": [
    "dec_text = open('resources/dec_all').read()\n",
    "dec_text = dec_text.lower().translate(None, '?.\",-()\\xe2\\x80\\x9d\\x9c:!\\t;')\n",
    "dec_text = dec_text.replace('\\n', ' ')\n",
    "dec_text = dec_text.replace('play boy', 'playboy')\n",
    "open('resources/dec_text', 'w').write(dec_text)"
   ]
  },
  {
   "cell_type": "code",
   "execution_count": 185,
   "metadata": {
    "collapsed": false
   },
   "outputs": [],
   "source": [
    "# bigram model\n",
    "df_dec = pd.DataFrame(columns=dec_keywords, index=dec_keywords)\n",
    "df_dec[:] = 0.0001\n",
    "\n",
    "# deal with split words\n",
    "tmp = str(dec_text)\n",
    "for w in dec_keywords:\n",
    "    tmp = tmp.replace(w, w.replace(' ', '_'))\n",
    "\n",
    "tmp = tmp.split()\n",
    "dec_bigrams = []\n",
    "for w1, w2 in zip(tmp[:-1], tmp[1:]):\n",
    "    w1 = w1.replace('_', ' ')\n",
    "    w2 = w2.replace('_', ' ')\n",
    "    if w1 in dec_keywords and w2 in dec_keywords:\n",
    "        df_dec.loc[w1, w2] += 1\n",
    "\n",
    "dec_counts = [[w, df_dec.loc[w].sum() + df_dec.loc[:,w].sum(), dec_text.split().count(w)] for w in dec_keywords]        \n",
    "\n",
    "# normalize rows\n",
    "df_dec = df_dec.div(df_dec.sum(axis=1), axis=0)"
   ]
  },
  {
   "cell_type": "code",
   "execution_count": 180,
   "metadata": {
    "collapsed": true
   },
   "outputs": [],
   "source": [
    "def next_word(w):\n",
    "    s = df_dec.loc[w]\n",
    "    return s.sample(weights=s).index[0]\n",
    "#     return s.sample().index[0]\n",
    "\n",
    "def prev_word(w):\n",
    "    s = df_dec.loc[:,w]\n",
    "    return s.sample(weights=s).index[0]"
   ]
  },
  {
   "cell_type": "code",
   "execution_count": 191,
   "metadata": {
    "collapsed": false
   },
   "outputs": [],
   "source": [
    "def make_phrase_fwd(start=None):\n",
    "    if start:\n",
    "        arr = [start]\n",
    "    else:\n",
    "        arr = [np.random.choice(adj)]\n",
    "    while True:\n",
    "        word = next_word(arr[-1])\n",
    "        if word.lower() in noun:\n",
    "            arr += [word]\n",
    "            break\n",
    "        elif word.lower() in arr:\n",
    "            continue\n",
    "        else:\n",
    "            arr += [word]\n",
    "\n",
    "    return ' '.join(arr).upper()\n",
    "\n",
    "def make_phrase_rev():\n",
    "    arr = [np.random.choice(noun)]\n",
    "    while True:\n",
    "        word = prev_word(arr[-1])\n",
    "        if word.lower() in noun:\n",
    "            break\n",
    "        else:\n",
    "            arr += [word]\n",
    "\n",
    "    return ' '.join(arr[::-1]).upper()\n",
    "\n",
    "dec_phrases = []\n",
    "for a in adj:\n",
    "    for _ in range(10):\n",
    "        phrase = make_phrase_fwd(a)\n",
    "        if len(phrase.split()) > 3:\n",
    "            dec_phrases += [phrase]\n",
    "            break"
   ]
  },
  {
   "cell_type": "code",
   "execution_count": 186,
   "metadata": {
    "collapsed": true
   },
   "outputs": [
    {
     "data": {
      "text/html": [
       "<div>\n",
       "<table border=\"1\" class=\"dataframe\">\n",
       "  <thead>\n",
       "    <tr style=\"text-align: right;\">\n",
       "      <th></th>\n",
       "      <th>0</th>\n",
       "      <th>1</th>\n",
       "      <th>2</th>\n",
       "      <th>3</th>\n",
       "    </tr>\n",
       "  </thead>\n",
       "  <tbody>\n",
       "    <tr>\n",
       "      <th>18</th>\n",
       "      <td>programmed</td>\n",
       "      <td>0.0088</td>\n",
       "      <td>1</td>\n",
       "      <td>113.636364</td>\n",
       "    </tr>\n",
       "    <tr>\n",
       "      <th>16</th>\n",
       "      <td>new</td>\n",
       "      <td>1.0088</td>\n",
       "      <td>24</td>\n",
       "      <td>23.790642</td>\n",
       "    </tr>\n",
       "    <tr>\n",
       "      <th>17</th>\n",
       "      <td>degenerative</td>\n",
       "      <td>1.0088</td>\n",
       "      <td>11</td>\n",
       "      <td>10.904044</td>\n",
       "    </tr>\n",
       "    <tr>\n",
       "      <th>15</th>\n",
       "      <td>secret</td>\n",
       "      <td>7.0088</td>\n",
       "      <td>44</td>\n",
       "      <td>6.277822</td>\n",
       "    </tr>\n",
       "    <tr>\n",
       "      <th>35</th>\n",
       "      <td>police</td>\n",
       "      <td>3.0088</td>\n",
       "      <td>15</td>\n",
       "      <td>4.985376</td>\n",
       "    </tr>\n",
       "    <tr>\n",
       "      <th>36</th>\n",
       "      <td>judges</td>\n",
       "      <td>3.0088</td>\n",
       "      <td>14</td>\n",
       "      <td>4.653018</td>\n",
       "    </tr>\n",
       "    <tr>\n",
       "      <th>33</th>\n",
       "      <td>communism</td>\n",
       "      <td>2.0088</td>\n",
       "      <td>8</td>\n",
       "      <td>3.982477</td>\n",
       "    </tr>\n",
       "    <tr>\n",
       "      <th>21</th>\n",
       "      <td>menial</td>\n",
       "      <td>2.0088</td>\n",
       "      <td>7</td>\n",
       "      <td>3.484667</td>\n",
       "    </tr>\n",
       "  </tbody>\n",
       "</table>\n",
       "</div>"
      ],
      "text/plain": [
       "               0       1   2           3\n",
       "18    programmed  0.0088   1  113.636364\n",
       "16           new  1.0088  24   23.790642\n",
       "17  degenerative  1.0088  11   10.904044\n",
       "15        secret  7.0088  44    6.277822\n",
       "35        police  3.0088  15    4.985376\n",
       "36        judges  3.0088  14    4.653018\n",
       "33     communism  2.0088   8    3.982477\n",
       "21        menial  2.0088   7    3.484667"
      ]
     },
     "execution_count": 186,
     "metadata": {},
     "output_type": "execute_result"
    },
    {
     "data": {
      "image/png": "[encoded data removed]",
      "text/plain": [
       "<matplotlib.figure.Figure at 0x11e6bfd90>"
      ]
     },
     "metadata": {},
     "output_type": "display_data"
    }
   ],
   "source": [
    "df = pd.DataFrame(dec_counts)\n",
    "\n",
    "df[3] = df[2]/df[1]\n",
    "\n",
    "\n",
    "\n",
    "data = np.array(dec_counts)\n",
    "sns.jointplot(data[:,2].astype(float), data[:,1].astype(float))\n",
    "df.sort_values(3)[::-1].head(8)"
   ]
  },
  {
   "cell_type": "code",
   "execution_count": 196,
   "metadata": {
    "collapsed": false
   },
   "outputs": [],
   "source": [
    "g = CFG.fromstring(\"\"\"\n",
    "\n",
    "S -> '-' FN | FN\n",
    "FN -> DL | DL '.' DL\n",
    "\n",
    "DL -> D | D DL\n",
    "\n",
    "D -> '0' | '1' | '2'\n",
    "\n",
    "\"\"\")"
   ]
  },
  {
   "cell_type": "code",
   "execution_count": 208,
   "metadata": {
    "collapsed": false
   },
   "outputs": [],
   "source": [
    "grammar2 = CFG.fromstring(\"\"\"\n",
    "  S  -> NP VP\n",
    "  NP -> Det Nom | PropN\n",
    "  Nom -> Adj Nom | N\n",
    "  VP -> V Adj | V NP | V S | V NP PP\n",
    "  PP -> P NP\n",
    "  PropN -> 'Buster' | 'Chatterer' | 'Joe'\n",
    "  Det -> 'the' | 'a'\n",
    "  N -> 'bear' | 'squirrel' | 'tree' | 'fish' | 'log'\n",
    "  Adj  -> 'angry' | 'frightened' |  'little' | 'tall'\n",
    "  V ->  'chased'  | 'saw' | 'said' | 'thought' | 'was' | 'put'\n",
    "  P -> 'on'\n",
    "  \"\"\")"
   ]
  },
  {
   "cell_type": "code",
   "execution_count": 224,
   "metadata": {
    "collapsed": false
   },
   "outputs": [],
   "source": [
    "g = CFG.fromstring(\"\"\"\n",
    "\n",
    "S -> '-' FN | FN\n",
    "FN -> DL | DL '.' DL\n",
    "\n",
    "DL -> D | D DL\n",
    "\n",
    "D -> '0' | '1' | '2'\n",
    "\n",
    "\"\"\")"
   ]
  },
  {
   "cell_type": "code",
   "execution_count": 225,
   "metadata": {
    "collapsed": false
   },
   "outputs": [
    {
     "data": {
      "text/plain": [
       "['-0',\n",
       " '-1',\n",
       " '-2',\n",
       " '-00',\n",
       " '-01',\n",
       " '-02',\n",
       " '-000',\n",
       " '-001',\n",
       " '-002',\n",
       " '-010',\n",
       " '-011',\n",
       " '-012',\n",
       " '-020',\n",
       " '-021',\n",
       " '-022',\n",
       " '-10',\n",
       " '-11',\n",
       " '-12',\n",
       " '-100',\n",
       " '-101',\n",
       " '-102',\n",
       " '-110',\n",
       " '-111',\n",
       " '-112',\n",
       " '-120',\n",
       " '-121',\n",
       " '-122',\n",
       " '-20',\n",
       " '-21',\n",
       " '-22',\n",
       " '-200',\n",
       " '-201',\n",
       " '-202',\n",
       " '-210',\n",
       " '-211',\n",
       " '-212',\n",
       " '-220',\n",
       " '-221',\n",
       " '-222',\n",
       " '-0.0',\n",
       " '-0.1',\n",
       " '-0.2',\n",
       " '-0.00',\n",
       " '-0.01',\n",
       " '-0.02',\n",
       " '-0.000',\n",
       " '-0.001',\n",
       " '-0.002',\n",
       " '-0.010',\n",
       " '-0.011',\n",
       " '-0.012',\n",
       " '-0.020',\n",
       " '-0.021',\n",
       " '-0.022',\n",
       " '-0.10',\n",
       " '-0.11',\n",
       " '-0.12',\n",
       " '-0.100',\n",
       " '-0.101',\n",
       " '-0.102',\n",
       " '-0.110',\n",
       " '-0.111',\n",
       " '-0.112',\n",
       " '-0.120',\n",
       " '-0.121',\n",
       " '-0.122',\n",
       " '-0.20',\n",
       " '-0.21',\n",
       " '-0.22',\n",
       " '-0.200',\n",
       " '-0.201',\n",
       " '-0.202',\n",
       " '-0.210',\n",
       " '-0.211',\n",
       " '-0.212',\n",
       " '-0.220',\n",
       " '-0.221',\n",
       " '-0.222',\n",
       " '-1.0',\n",
       " '-1.1',\n",
       " '-1.2',\n",
       " '-1.00',\n",
       " '-1.01',\n",
       " '-1.02',\n",
       " '-1.000',\n",
       " '-1.001',\n",
       " '-1.002',\n",
       " '-1.010',\n",
       " '-1.011',\n",
       " '-1.012',\n",
       " '-1.020',\n",
       " '-1.021',\n",
       " '-1.022',\n",
       " '-1.10',\n",
       " '-1.11',\n",
       " '-1.12',\n",
       " '-1.100',\n",
       " '-1.101',\n",
       " '-1.102',\n",
       " '-1.110',\n",
       " '-1.111',\n",
       " '-1.112',\n",
       " '-1.120',\n",
       " '-1.121',\n",
       " '-1.122',\n",
       " '-1.20',\n",
       " '-1.21',\n",
       " '-1.22',\n",
       " '-1.200',\n",
       " '-1.201',\n",
       " '-1.202',\n",
       " '-1.210',\n",
       " '-1.211',\n",
       " '-1.212',\n",
       " '-1.220',\n",
       " '-1.221',\n",
       " '-1.222',\n",
       " '-2.0',\n",
       " '-2.1',\n",
       " '-2.2',\n",
       " '-2.00',\n",
       " '-2.01',\n",
       " '-2.02',\n",
       " '-2.000',\n",
       " '-2.001',\n",
       " '-2.002',\n",
       " '-2.010',\n",
       " '-2.011',\n",
       " '-2.012',\n",
       " '-2.020',\n",
       " '-2.021',\n",
       " '-2.022',\n",
       " '-2.10',\n",
       " '-2.11',\n",
       " '-2.12',\n",
       " '-2.100',\n",
       " '-2.101',\n",
       " '-2.102',\n",
       " '-2.110',\n",
       " '-2.111',\n",
       " '-2.112',\n",
       " '-2.120',\n",
       " '-2.121',\n",
       " '-2.122',\n",
       " '-2.20',\n",
       " '-2.21',\n",
       " '-2.22',\n",
       " '-2.200',\n",
       " '-2.201',\n",
       " '-2.202',\n",
       " '-2.210',\n",
       " '-2.211',\n",
       " '-2.212',\n",
       " '-2.220',\n",
       " '-2.221',\n",
       " '-2.222',\n",
       " '-00.0',\n",
       " '-00.1',\n",
       " '-00.2',\n",
       " '-00.00',\n",
       " '-00.01',\n",
       " '-00.02',\n",
       " '-00.000',\n",
       " '-00.001',\n",
       " '-00.002',\n",
       " '-00.010',\n",
       " '-00.011',\n",
       " '-00.012',\n",
       " '-00.020',\n",
       " '-00.021',\n",
       " '-00.022',\n",
       " '-00.10',\n",
       " '-00.11',\n",
       " '-00.12',\n",
       " '-00.100',\n",
       " '-00.101',\n",
       " '-00.102',\n",
       " '-00.110',\n",
       " '-00.111',\n",
       " '-00.112',\n",
       " '-00.120',\n",
       " '-00.121',\n",
       " '-00.122',\n",
       " '-00.20',\n",
       " '-00.21',\n",
       " '-00.22',\n",
       " '-00.200',\n",
       " '-00.201',\n",
       " '-00.202',\n",
       " '-00.210',\n",
       " '-00.211',\n",
       " '-00.212',\n",
       " '-00.220',\n",
       " '-00.221',\n",
       " '-00.222',\n",
       " '-01.0',\n",
       " '-01.1',\n",
       " '-01.2',\n",
       " '-01.00',\n",
       " '-01.01',\n",
       " '-01.02',\n",
       " '-01.000',\n",
       " '-01.001',\n",
       " '-01.002',\n",
       " '-01.010',\n",
       " '-01.011',\n",
       " '-01.012',\n",
       " '-01.020',\n",
       " '-01.021',\n",
       " '-01.022',\n",
       " '-01.10',\n",
       " '-01.11',\n",
       " '-01.12',\n",
       " '-01.100',\n",
       " '-01.101',\n",
       " '-01.102',\n",
       " '-01.110',\n",
       " '-01.111',\n",
       " '-01.112',\n",
       " '-01.120',\n",
       " '-01.121',\n",
       " '-01.122',\n",
       " '-01.20',\n",
       " '-01.21',\n",
       " '-01.22',\n",
       " '-01.200',\n",
       " '-01.201',\n",
       " '-01.202',\n",
       " '-01.210',\n",
       " '-01.211',\n",
       " '-01.212',\n",
       " '-01.220',\n",
       " '-01.221',\n",
       " '-01.222',\n",
       " '-02.0',\n",
       " '-02.1',\n",
       " '-02.2',\n",
       " '-02.00',\n",
       " '-02.01',\n",
       " '-02.02',\n",
       " '-02.000',\n",
       " '-02.001',\n",
       " '-02.002',\n",
       " '-02.010',\n",
       " '-02.011',\n",
       " '-02.012',\n",
       " '-02.020',\n",
       " '-02.021',\n",
       " '-02.022',\n",
       " '-02.10',\n",
       " '-02.11',\n",
       " '-02.12',\n",
       " '-02.100',\n",
       " '-02.101',\n",
       " '-02.102',\n",
       " '-02.110',\n",
       " '-02.111',\n",
       " '-02.112',\n",
       " '-02.120',\n",
       " '-02.121',\n",
       " '-02.122',\n",
       " '-02.20',\n",
       " '-02.21',\n",
       " '-02.22',\n",
       " '-02.200',\n",
       " '-02.201',\n",
       " '-02.202',\n",
       " '-02.210',\n",
       " '-02.211',\n",
       " '-02.212',\n",
       " '-02.220',\n",
       " '-02.221',\n",
       " '-02.222',\n",
       " '-000.0',\n",
       " '-000.1',\n",
       " '-000.2',\n",
       " '-000.00',\n",
       " '-000.01',\n",
       " '-000.02',\n",
       " '-000.000',\n",
       " '-000.001',\n",
       " '-000.002',\n",
       " '-000.010',\n",
       " '-000.011',\n",
       " '-000.012',\n",
       " '-000.020',\n",
       " '-000.021',\n",
       " '-000.022',\n",
       " '-000.10',\n",
       " '-000.11',\n",
       " '-000.12',\n",
       " '-000.100',\n",
       " '-000.101',\n",
       " '-000.102',\n",
       " '-000.110',\n",
       " '-000.111',\n",
       " '-000.112',\n",
       " '-000.120',\n",
       " '-000.121',\n",
       " '-000.122',\n",
       " '-000.20',\n",
       " '-000.21',\n",
       " '-000.22',\n",
       " '-000.200',\n",
       " '-000.201',\n",
       " '-000.202',\n",
       " '-000.210',\n",
       " '-000.211',\n",
       " '-000.212',\n",
       " '-000.220',\n",
       " '-000.221',\n",
       " '-000.222',\n",
       " '-001.0',\n",
       " '-001.1',\n",
       " '-001.2',\n",
       " '-001.00',\n",
       " '-001.01',\n",
       " '-001.02',\n",
       " '-001.000',\n",
       " '-001.001',\n",
       " '-001.002',\n",
       " '-001.010',\n",
       " '-001.011',\n",
       " '-001.012',\n",
       " '-001.020',\n",
       " '-001.021',\n",
       " '-001.022',\n",
       " '-001.10',\n",
       " '-001.11',\n",
       " '-001.12',\n",
       " '-001.100',\n",
       " '-001.101',\n",
       " '-001.102',\n",
       " '-001.110',\n",
       " '-001.111',\n",
       " '-001.112',\n",
       " '-001.120',\n",
       " '-001.121',\n",
       " '-001.122',\n",
       " '-001.20',\n",
       " '-001.21',\n",
       " '-001.22',\n",
       " '-001.200',\n",
       " '-001.201',\n",
       " '-001.202',\n",
       " '-001.210',\n",
       " '-001.211',\n",
       " '-001.212',\n",
       " '-001.220',\n",
       " '-001.221',\n",
       " '-001.222',\n",
       " '-002.0',\n",
       " '-002.1',\n",
       " '-002.2',\n",
       " '-002.00',\n",
       " '-002.01',\n",
       " '-002.02',\n",
       " '-002.000',\n",
       " '-002.001',\n",
       " '-002.002',\n",
       " '-002.010',\n",
       " '-002.011',\n",
       " '-002.012',\n",
       " '-002.020',\n",
       " '-002.021',\n",
       " '-002.022',\n",
       " '-002.10',\n",
       " '-002.11',\n",
       " '-002.12',\n",
       " '-002.100',\n",
       " '-002.101',\n",
       " '-002.102',\n",
       " '-002.110',\n",
       " '-002.111',\n",
       " '-002.112',\n",
       " '-002.120',\n",
       " '-002.121',\n",
       " '-002.122',\n",
       " '-002.20',\n",
       " '-002.21',\n",
       " '-002.22',\n",
       " '-002.200',\n",
       " '-002.201',\n",
       " '-002.202',\n",
       " '-002.210',\n",
       " '-002.211',\n",
       " '-002.212',\n",
       " '-002.220',\n",
       " '-002.221',\n",
       " '-002.222',\n",
       " '-010.0',\n",
       " '-010.1',\n",
       " '-010.2',\n",
       " '-010.00',\n",
       " '-010.01',\n",
       " '-010.02',\n",
       " '-010.000',\n",
       " '-010.001',\n",
       " '-010.002',\n",
       " '-010.010',\n",
       " '-010.011',\n",
       " '-010.012',\n",
       " '-010.020',\n",
       " '-010.021',\n",
       " '-010.022',\n",
       " '-010.10',\n",
       " '-010.11',\n",
       " '-010.12',\n",
       " '-010.100',\n",
       " '-010.101',\n",
       " '-010.102',\n",
       " '-010.110',\n",
       " '-010.111',\n",
       " '-010.112',\n",
       " '-010.120',\n",
       " '-010.121',\n",
       " '-010.122',\n",
       " '-010.20',\n",
       " '-010.21',\n",
       " '-010.22',\n",
       " '-010.200',\n",
       " '-010.201',\n",
       " '-010.202',\n",
       " '-010.210',\n",
       " '-010.211',\n",
       " '-010.212',\n",
       " '-010.220',\n",
       " '-010.221',\n",
       " '-010.222',\n",
       " '-011.0',\n",
       " '-011.1',\n",
       " '-011.2',\n",
       " '-011.00',\n",
       " '-011.01',\n",
       " '-011.02',\n",
       " '-011.000',\n",
       " '-011.001',\n",
       " '-011.002',\n",
       " '-011.010',\n",
       " '-011.011',\n",
       " '-011.012',\n",
       " '-011.020',\n",
       " '-011.021',\n",
       " '-011.022',\n",
       " '-011.10',\n",
       " '-011.11',\n",
       " '-011.12',\n",
       " '-011.100',\n",
       " '-011.101',\n",
       " '-011.102',\n",
       " '-011.110',\n",
       " '-011.111',\n",
       " '-011.112',\n",
       " '-011.120',\n",
       " '-011.121',\n",
       " '-011.122',\n",
       " '-011.20',\n",
       " '-011.21',\n",
       " '-011.22',\n",
       " '-011.200',\n",
       " '-011.201',\n",
       " '-011.202',\n",
       " '-011.210',\n",
       " '-011.211',\n",
       " '-011.212',\n",
       " '-011.220',\n",
       " '-011.221',\n",
       " '-011.222',\n",
       " '-012.0',\n",
       " '-012.1',\n",
       " '-012.2',\n",
       " '-012.00',\n",
       " '-012.01',\n",
       " '-012.02',\n",
       " '-012.000',\n",
       " '-012.001',\n",
       " '-012.002',\n",
       " '-012.010',\n",
       " '-012.011',\n",
       " '-012.012',\n",
       " '-012.020',\n",
       " '-012.021',\n",
       " '-012.022',\n",
       " '-012.10',\n",
       " '-012.11',\n",
       " '-012.12',\n",
       " '-012.100',\n",
       " '-012.101',\n",
       " '-012.102',\n",
       " '-012.110',\n",
       " '-012.111',\n",
       " '-012.112',\n",
       " '-012.120',\n",
       " '-012.121',\n",
       " '-012.122',\n",
       " '-012.20',\n",
       " '-012.21',\n",
       " '-012.22',\n",
       " '-012.200',\n",
       " '-012.201',\n",
       " '-012.202',\n",
       " '-012.210',\n",
       " '-012.211',\n",
       " '-012.212',\n",
       " '-012.220',\n",
       " '-012.221',\n",
       " '-012.222',\n",
       " '-020.0',\n",
       " '-020.1',\n",
       " '-020.2',\n",
       " '-020.00',\n",
       " '-020.01',\n",
       " '-020.02',\n",
       " '-020.000',\n",
       " '-020.001',\n",
       " '-020.002',\n",
       " '-020.010',\n",
       " '-020.011',\n",
       " '-020.012',\n",
       " '-020.020',\n",
       " '-020.021',\n",
       " '-020.022',\n",
       " '-020.10',\n",
       " '-020.11',\n",
       " '-020.12',\n",
       " '-020.100',\n",
       " '-020.101',\n",
       " '-020.102',\n",
       " '-020.110',\n",
       " '-020.111',\n",
       " '-020.112',\n",
       " '-020.120',\n",
       " '-020.121',\n",
       " '-020.122',\n",
       " '-020.20',\n",
       " '-020.21',\n",
       " '-020.22',\n",
       " '-020.200',\n",
       " '-020.201',\n",
       " '-020.202',\n",
       " '-020.210',\n",
       " '-020.211',\n",
       " '-020.212',\n",
       " '-020.220',\n",
       " '-020.221',\n",
       " '-020.222',\n",
       " '-021.0',\n",
       " '-021.1',\n",
       " '-021.2',\n",
       " '-021.00',\n",
       " '-021.01',\n",
       " '-021.02',\n",
       " '-021.000',\n",
       " '-021.001',\n",
       " '-021.002',\n",
       " '-021.010',\n",
       " '-021.011',\n",
       " '-021.012',\n",
       " '-021.020',\n",
       " '-021.021',\n",
       " '-021.022',\n",
       " '-021.10',\n",
       " '-021.11',\n",
       " '-021.12',\n",
       " '-021.100',\n",
       " '-021.101',\n",
       " '-021.102',\n",
       " '-021.110',\n",
       " '-021.111',\n",
       " '-021.112',\n",
       " '-021.120',\n",
       " '-021.121',\n",
       " '-021.122',\n",
       " '-021.20',\n",
       " '-021.21',\n",
       " '-021.22',\n",
       " '-021.200',\n",
       " '-021.201',\n",
       " '-021.202',\n",
       " '-021.210',\n",
       " '-021.211',\n",
       " '-021.212',\n",
       " '-021.220',\n",
       " '-021.221',\n",
       " '-021.222',\n",
       " '-022.0',\n",
       " '-022.1',\n",
       " '-022.2',\n",
       " '-022.00',\n",
       " '-022.01',\n",
       " '-022.02',\n",
       " '-022.000',\n",
       " '-022.001',\n",
       " '-022.002',\n",
       " '-022.010',\n",
       " '-022.011',\n",
       " '-022.012',\n",
       " '-022.020',\n",
       " '-022.021',\n",
       " '-022.022',\n",
       " '-022.10',\n",
       " '-022.11',\n",
       " '-022.12',\n",
       " '-022.100',\n",
       " '-022.101',\n",
       " '-022.102',\n",
       " '-022.110',\n",
       " '-022.111',\n",
       " '-022.112',\n",
       " '-022.120',\n",
       " '-022.121',\n",
       " '-022.122',\n",
       " '-022.20',\n",
       " '-022.21',\n",
       " '-022.22',\n",
       " '-022.200',\n",
       " '-022.201',\n",
       " '-022.202',\n",
       " '-022.210',\n",
       " '-022.211',\n",
       " '-022.212',\n",
       " '-022.220',\n",
       " '-022.221',\n",
       " '-022.222',\n",
       " '-10.0',\n",
       " '-10.1',\n",
       " '-10.2',\n",
       " '-10.00',\n",
       " '-10.01',\n",
       " '-10.02',\n",
       " '-10.000',\n",
       " '-10.001',\n",
       " '-10.002',\n",
       " '-10.010',\n",
       " '-10.011',\n",
       " '-10.012',\n",
       " '-10.020',\n",
       " '-10.021',\n",
       " '-10.022',\n",
       " '-10.10',\n",
       " '-10.11',\n",
       " '-10.12',\n",
       " '-10.100',\n",
       " '-10.101',\n",
       " '-10.102',\n",
       " '-10.110',\n",
       " '-10.111',\n",
       " '-10.112',\n",
       " '-10.120',\n",
       " '-10.121',\n",
       " '-10.122',\n",
       " '-10.20',\n",
       " '-10.21',\n",
       " '-10.22',\n",
       " '-10.200',\n",
       " '-10.201',\n",
       " '-10.202',\n",
       " '-10.210',\n",
       " '-10.211',\n",
       " '-10.212',\n",
       " '-10.220',\n",
       " '-10.221',\n",
       " '-10.222',\n",
       " '-11.0',\n",
       " '-11.1',\n",
       " '-11.2',\n",
       " '-11.00',\n",
       " '-11.01',\n",
       " '-11.02',\n",
       " '-11.000',\n",
       " '-11.001',\n",
       " '-11.002',\n",
       " '-11.010',\n",
       " '-11.011',\n",
       " '-11.012',\n",
       " '-11.020',\n",
       " '-11.021',\n",
       " '-11.022',\n",
       " '-11.10',\n",
       " '-11.11',\n",
       " '-11.12',\n",
       " '-11.100',\n",
       " '-11.101',\n",
       " '-11.102',\n",
       " '-11.110',\n",
       " '-11.111',\n",
       " '-11.112',\n",
       " '-11.120',\n",
       " '-11.121',\n",
       " '-11.122',\n",
       " '-11.20',\n",
       " '-11.21',\n",
       " '-11.22',\n",
       " '-11.200',\n",
       " '-11.201',\n",
       " '-11.202',\n",
       " '-11.210',\n",
       " '-11.211',\n",
       " '-11.212',\n",
       " '-11.220',\n",
       " '-11.221',\n",
       " '-11.222',\n",
       " '-12.0',\n",
       " '-12.1',\n",
       " '-12.2',\n",
       " '-12.00',\n",
       " '-12.01',\n",
       " '-12.02',\n",
       " '-12.000',\n",
       " '-12.001',\n",
       " '-12.002',\n",
       " '-12.010',\n",
       " '-12.011',\n",
       " '-12.012',\n",
       " '-12.020',\n",
       " '-12.021',\n",
       " '-12.022',\n",
       " '-12.10',\n",
       " '-12.11',\n",
       " '-12.12',\n",
       " '-12.100',\n",
       " '-12.101',\n",
       " '-12.102',\n",
       " '-12.110',\n",
       " '-12.111',\n",
       " '-12.112',\n",
       " '-12.120',\n",
       " '-12.121',\n",
       " '-12.122',\n",
       " '-12.20',\n",
       " '-12.21',\n",
       " '-12.22',\n",
       " '-12.200',\n",
       " '-12.201',\n",
       " '-12.202',\n",
       " '-12.210',\n",
       " '-12.211',\n",
       " '-12.212',\n",
       " '-12.220',\n",
       " '-12.221',\n",
       " '-12.222',\n",
       " '-100.0',\n",
       " '-100.1',\n",
       " '-100.2',\n",
       " '-100.00',\n",
       " '-100.01',\n",
       " '-100.02',\n",
       " '-100.000',\n",
       " '-100.001',\n",
       " '-100.002',\n",
       " '-100.010',\n",
       " '-100.011',\n",
       " '-100.012',\n",
       " '-100.020',\n",
       " '-100.021',\n",
       " '-100.022',\n",
       " '-100.10',\n",
       " '-100.11',\n",
       " '-100.12',\n",
       " '-100.100',\n",
       " '-100.101',\n",
       " '-100.102',\n",
       " '-100.110',\n",
       " '-100.111',\n",
       " '-100.112',\n",
       " '-100.120',\n",
       " '-100.121',\n",
       " '-100.122',\n",
       " '-100.20',\n",
       " '-100.21',\n",
       " '-100.22',\n",
       " '-100.200',\n",
       " '-100.201',\n",
       " '-100.202',\n",
       " '-100.210',\n",
       " '-100.211',\n",
       " '-100.212',\n",
       " '-100.220',\n",
       " '-100.221',\n",
       " '-100.222',\n",
       " '-101.0',\n",
       " '-101.1',\n",
       " '-101.2',\n",
       " '-101.00',\n",
       " '-101.01',\n",
       " '-101.02',\n",
       " '-101.000',\n",
       " '-101.001',\n",
       " '-101.002',\n",
       " '-101.010',\n",
       " '-101.011',\n",
       " '-101.012',\n",
       " '-101.020',\n",
       " '-101.021',\n",
       " '-101.022',\n",
       " '-101.10',\n",
       " '-101.11',\n",
       " '-101.12',\n",
       " '-101.100',\n",
       " '-101.101',\n",
       " '-101.102',\n",
       " '-101.110',\n",
       " '-101.111',\n",
       " '-101.112',\n",
       " '-101.120',\n",
       " '-101.121',\n",
       " '-101.122',\n",
       " '-101.20',\n",
       " '-101.21',\n",
       " '-101.22',\n",
       " '-101.200',\n",
       " '-101.201',\n",
       " '-101.202',\n",
       " '-101.210',\n",
       " '-101.211',\n",
       " '-101.212',\n",
       " '-101.220',\n",
       " '-101.221',\n",
       " '-101.222',\n",
       " '-102.0',\n",
       " '-102.1',\n",
       " '-102.2',\n",
       " '-102.00',\n",
       " '-102.01',\n",
       " '-102.02',\n",
       " '-102.000',\n",
       " '-102.001',\n",
       " '-102.002',\n",
       " '-102.010',\n",
       " '-102.011',\n",
       " '-102.012',\n",
       " '-102.020',\n",
       " '-102.021',\n",
       " '-102.022',\n",
       " '-102.10',\n",
       " '-102.11',\n",
       " '-102.12',\n",
       " '-102.100',\n",
       " '-102.101',\n",
       " '-102.102',\n",
       " '-102.110',\n",
       " '-102.111',\n",
       " '-102.112',\n",
       " '-102.120',\n",
       " '-102.121',\n",
       " '-102.122',\n",
       " '-102.20',\n",
       " '-102.21',\n",
       " '-102.22',\n",
       " '-102.200',\n",
       " '-102.201',\n",
       " '-102.202',\n",
       " '-102.210',\n",
       " '-102.211',\n",
       " '-102.212',\n",
       " '-102.220',\n",
       " '-102.221',\n",
       " '-102.222',\n",
       " '-110.0',\n",
       " '-110.1',\n",
       " '-110.2',\n",
       " '-110.00',\n",
       " '-110.01',\n",
       " '-110.02',\n",
       " '-110.000',\n",
       " '-110.001',\n",
       " '-110.002',\n",
       " '-110.010',\n",
       " '-110.011',\n",
       " '-110.012',\n",
       " '-110.020',\n",
       " '-110.021',\n",
       " '-110.022',\n",
       " '-110.10',\n",
       " '-110.11',\n",
       " '-110.12',\n",
       " '-110.100',\n",
       " '-110.101',\n",
       " '-110.102',\n",
       " '-110.110',\n",
       " '-110.111',\n",
       " '-110.112',\n",
       " '-110.120',\n",
       " '-110.121',\n",
       " '-110.122',\n",
       " '-110.20',\n",
       " '-110.21',\n",
       " '-110.22',\n",
       " '-110.200',\n",
       " '-110.201',\n",
       " '-110.202',\n",
       " '-110.210',\n",
       " '-110.211',\n",
       " '-110.212',\n",
       " '-110.220',\n",
       " '-110.221',\n",
       " '-110.222',\n",
       " '-111.0',\n",
       " '-111.1',\n",
       " '-111.2',\n",
       " '-111.00',\n",
       " '-111.01',\n",
       " '-111.02',\n",
       " '-111.000',\n",
       " '-111.001',\n",
       " '-111.002',\n",
       " '-111.010',\n",
       " '-111.011',\n",
       " '-111.012',\n",
       " '-111.020',\n",
       " '-111.021',\n",
       " '-111.022',\n",
       " '-111.10',\n",
       " '-111.11',\n",
       " '-111.12',\n",
       " '-111.100',\n",
       " '-111.101',\n",
       " '-111.102',\n",
       " '-111.110',\n",
       " '-111.111',\n",
       " '-111.112',\n",
       " '-111.120',\n",
       " '-111.121',\n",
       " '-111.122',\n",
       " '-111.20',\n",
       " '-111.21',\n",
       " '-111.22',\n",
       " '-111.200',\n",
       " '-111.201',\n",
       " '-111.202',\n",
       " '-111.210',\n",
       " '-111.211',\n",
       " '-111.212',\n",
       " '-111.220',\n",
       " '-111.221',\n",
       " '-111.222',\n",
       " '-112.0',\n",
       " '-112.1',\n",
       " '-112.2',\n",
       " '-112.00',\n",
       " '-112.01',\n",
       " '-112.02',\n",
       " '-112.000',\n",
       " '-112.001',\n",
       " '-112.002',\n",
       " '-112.010',\n",
       " '-112.011',\n",
       " '-112.012',\n",
       " '-112.020',\n",
       " '-112.021',\n",
       " '-112.022',\n",
       " '-112.10',\n",
       " '-112.11',\n",
       " '-112.12',\n",
       " '-112.100',\n",
       " '-112.101',\n",
       " '-112.102',\n",
       " '-112.110',\n",
       " '-112.111',\n",
       " '-112.112',\n",
       " '-112.120',\n",
       " '-112.121',\n",
       " '-112.122',\n",
       " '-112.20',\n",
       " '-112.21',\n",
       " '-112.22',\n",
       " '-112.200',\n",
       " '-112.201',\n",
       " '-112.202',\n",
       " '-112.210',\n",
       " '-112.211',\n",
       " '-112.212',\n",
       " '-112.220',\n",
       " '-112.221',\n",
       " '-112.222',\n",
       " '-120.0',\n",
       " '-120.1',\n",
       " '-120.2',\n",
       " '-120.00',\n",
       " '-120.01',\n",
       " '-120.02',\n",
       " '-120.000',\n",
       " '-120.001',\n",
       " '-120.002',\n",
       " '-120.010',\n",
       " '-120.011',\n",
       " '-120.012',\n",
       " '-120.020',\n",
       " '-120.021',\n",
       " '-120.022',\n",
       " '-120.10',\n",
       " '-120.11',\n",
       " '-120.12',\n",
       " '-120.100',\n",
       " '-120.101',\n",
       " '-120.102',\n",
       " '-120.110',\n",
       " '-120.111',\n",
       " '-120.112',\n",
       " '-120.120',\n",
       " ...]"
      ]
     },
     "execution_count": 225,
     "metadata": {},
     "output_type": "execute_result"
    }
   ],
   "source": [
    "gen = generate(g, depth=7)\n",
    "[str(''.join(x)) for x in gen]"
   ]
  },
  {
   "cell_type": "code",
   "execution_count": 198,
   "metadata": {
    "collapsed": false
   },
   "outputs": [],
   "source": [
    "from nltk.parse.generate import generate, demo_grammar"
   ]
  },
  {
   "cell_type": "code",
   "execution_count": 193,
   "metadata": {
    "collapsed": false
   },
   "outputs": [
    {
     "data": {
      "text/plain": [
       "nltk.grammar.CFG"
      ]
     },
     "execution_count": 193,
     "metadata": {},
     "output_type": "execute_result"
    }
   ],
   "source": [
    "Grammars can be parsed from strings:\n",
    "\n",
    ">>> from nltk import CFG\n",
    ">>> grammar = CFG.fromstring(\"\"\"\n",
    "... S -> NP VP\n",
    "... PP -> P NP\n",
    "... NP -> Det N | NP PP\n",
    "... VP -> V NP | VP PP\n",
    "... Det -> 'a' | 'the'\n",
    "... N -> 'dog' | 'cat'\n",
    "... V -> 'chased' | 'sat'\n",
    "... P -> 'on' | 'in'\n",
    "... \"\"\")\n",
    ">>> grammar\n",
    "<Grammar with 14 productions>\n",
    ">>> grammar.start()\n",
    "S\n",
    ">>> grammar.productions() # doctest: +NORMALIZE_WHITESPACE\n",
    "[S -> NP VP, PP -> P NP, NP -> Det N, NP -> NP PP, VP -> V NP, VP -> VP PP,\n",
    "Det -> 'a', Det -> 'the', N -> 'dog', N -> 'cat', V -> 'chased', V -> 'sat',\n",
    "P -> 'on', P -> 'in']\n",
    "Probabilistic CFGs:\n",
    "\n",
    ">>> from nltk import PCFG\n",
    ">>> toy_pcfg1 = PCFG.fromstring(\"\"\"\n",
    "... S -> NP VP [1.0]\n",
    "... NP -> Det N [0.5] | NP PP [0.25] | 'John' [0.1] | 'I' [0.15]\n",
    "... Det -> 'the' [0.8] | 'my' [0.2]\n",
    "... N -> 'man' [0.5] | 'telescope' [0.5]\n",
    "... VP -> VP PP [0.1] | V NP [0.7] | V [0.2]\n",
    "... V -> 'ate' [0.35] | 'saw' [0.65]\n",
    "... PP -> P NP [1.0]\n",
    "... P -> 'with' [0.61] | 'under' [0.39]\n",
    "... \"\"\")\n",
    "Chomsky Normal Form grammar (Test for bug 474)\n",
    "\n",
    ">>> g = CFG.fromstring(\"VP^<TOP> -> VBP NP^<VP-TOP>\")\n",
    ">>> g.productions()[0].lhs()\n",
    "VP^<TOP>"
   ]
  },
  {
   "cell_type": "code",
   "execution_count": 192,
   "metadata": {
    "collapsed": false
   },
   "outputs": [
    {
     "name": "stdout",
     "output_type": "stream",
     "text": [
      "BRAZEN DEADLY COMMUNIST PUPPET GANGSTER COMPUTER\n",
      "CIA DEADLY FRANKENSTEIN LIVING DEATH\n",
      "COMMUNIST GANGSTER POLICE STATE\n",
      "CONSPIRATORIAL GANGSTER CON ARTIST\n",
      "DEADLY COMMUNIST GANGSTER POLICE\n",
      "DEGENERATIVE MAD DEADLY GANGSTER POLICE\n",
      "GANGSTER COMMUNIST POLICE STATE\n",
      "GUINEA PIG COMMUNIST PUPPET GANGSTER COMPUTER\n",
      "INSTANT COMMUNIST GANGSTER FRANKENSTEIN CONTROLS\n",
      "LOW DEADLY SNEAK CON ARTIST\n",
      "MAD DEADLY GANGSTER POLICE\n",
      "MAFIONIC DEADLY GANGSTER CIA UNDERLINGS\n",
      "MONGREL GANGSTER CIA UNDERLINGS\n",
      "NEW PARROTING PUPPET UNDERLINGS\n",
      "PARROTING PUPPET GANGSTER FRANKENSTEIN LIVING DEATH\n",
      "PROGRAMMED MAD DEADLY GANGSTER FRANKENSTEIN CONTROLS\n",
      "PUPPET GANGSTER PARROTING SPY CAMERAS\n",
      "SECRET DEADLY GANGSTER COMPUTER\n",
      "SNEAK DEADLY GANGSTER POLICE\n",
      "STRATIFIED DEADLY GANGSTER COMPUTER\n",
      "SYSTEMATIC INSTANT PLASTIC SURGERY\n",
      "WALL TO WALL DEADLY SNEAK GANGSTER COMPUTER\n",
      "WORLD-WIDE PROGRAMMED FRANKENSTEIN LIVING DEATH\n"
     ]
    }
   ],
   "source": [
    "# with weights\n",
    "for p in sorted(dec_phrases):\n",
    "    if len(p.split()) > 3:\n",
    "        print p"
   ]
  },
  {
   "cell_type": "code",
   "execution_count": 170,
   "metadata": {
    "collapsed": false
   },
   "outputs": [
    {
     "data": {
      "text/plain": [
       "['WALL TO WALL ASSASSINS',\n",
       " 'SNEAK FRANKENSTEIN BRAZEN COMMUNISM',\n",
       " 'SNEAK FRANKENSTEIN STRATIFIED EXTERMINATION',\n",
       " 'PROGRAMMED MAFIONIC CONSPIRATORIAL CIA JUDGES',\n",
       " 'GUINEA PIG MONGREL UNDERLINGS',\n",
       " 'FRANKENSTEIN PARROTING SECRET BUTCHERY',\n",
       " 'WALL TO WALL UNDETECTABLE SPY CAMERAS',\n",
       " 'INSTANT PUPPET UNDETECTABLE LOW SECRET PLAYBOY SCUM-ON-TOP',\n",
       " 'MAFIONIC EARPHONE RADIO SLAVE',\n",
       " 'PROGRAMMED CIA FRANKENSTEIN PARROTING JUDGES',\n",
       " 'PARROTING WALL TO WALL INSTANT DEGENERATIVE MAFIONIC POLICE STATE',\n",
       " 'SYSTEMATIC WORLD-WIDE CIA WALL TO WALL SNEAK COMMUNISM',\n",
       " 'WORLD-WIDE SECRET CIA CON ARTIST',\n",
       " 'PARROTING NEW MENIAL GUINEA PIG UNDERLINGS',\n",
       " 'MENIAL BRAZEN EARPHONE RADIO SLAVE',\n",
       " 'WALL TO WALL JUDGES',\n",
       " 'WORLD-WIDE STRATIFIED DEGENERATIVE PUPPET UNDETECTABLE CON ARTIST',\n",
       " 'GUINEA PIG NEW PLAYBOY SCUM-ON-TOP',\n",
       " 'DEADLY WALL TO WALL MAD WORLD-WIDE BUTCHERY',\n",
       " 'UNDETECTABLE BRAZEN GUINEA PIG GOD',\n",
       " 'WALL TO WALL FRANKENSTEIN POLICE STATE',\n",
       " 'MAFIONIC WALL TO WALL ORGANIZED CRIME',\n",
       " 'DEADLY PUPPET ORGANIZED CRIME',\n",
       " 'WALL TO WALL MAD MAFIONIC UNDETECTABLE PUPPET CONTROLS',\n",
       " 'UNDETECTABLE CIA WORLD-WIDE PLAYBOY SCUM-ON-TOP',\n",
       " 'INSTANT NEW BRAZEN CONTROLS',\n",
       " 'GANGSTER PARROTING SYSTEMATIC JUDGES',\n",
       " 'DEGENERATIVE WORLD-WIDE SYSTEMATIC COMPUTER',\n",
       " 'UNDETECTABLE FRANKENSTEIN PLAYBOY SCUM-ON-TOP',\n",
       " 'PROGRAMMED WALL TO WALL WORLD-WIDE EXTERMINATION',\n",
       " 'STRATIFIED MENIAL PUPPET CIA WORLD-WIDE COMMUNISM',\n",
       " 'MENIAL GUINEA PIG PLAYBOY SCUM-ON-TOP',\n",
       " 'LOW PARROTING MONGREL BUTCHERY',\n",
       " 'STRATIFIED WORLD-WIDE CON ARTIST',\n",
       " 'CIA CONSPIRATORIAL FRANKENSTEIN EXTERMINATION',\n",
       " 'DEGENERATIVE CIA PLAYBOY SCUM-ON-TOP',\n",
       " 'MONGREL SECRET DEADLY BUTCHERY',\n",
       " 'MAD GANGSTER SNEAK PARROTING COMMUNISM',\n",
       " 'DEADLY WORLD-WIDE PLASTIC SURGERY',\n",
       " 'MONGREL LOW DEADLY LIVING DEATH',\n",
       " 'SNEAK PUPPET FRANKENSTEIN MAFIONIC EARPHONE RADIO SLAVE',\n",
       " 'MONGREL EARPHONE RADIO SLAVE',\n",
       " 'WALL TO WALL NEW MONGREL STRATIFIED CON ARTIST',\n",
       " 'CONSPIRATORIAL SECRET INSTANT COMPUTER',\n",
       " 'NEW PROGRAMMED MAFIONIC CONTROLS']"
      ]
     },
     "execution_count": 170,
     "metadata": {},
     "output_type": "execute_result"
    }
   ],
   "source": [
    "# without weights\n",
    "[p for p in dec_phrases if len(p.split())>3]"
   ]
  },
  {
   "cell_type": "code",
   "execution_count": null,
   "metadata": {
    "collapsed": false,
    "scrolled": true
   },
   "outputs": [],
   "source": [
    "import cmpd_web\n",
    "reload(cmpd_web)\n",
    "\n",
    "from nltk.corpus import wordnet as wn\n",
    "from cmpd_web import (DIDB_phrases, Base, LocalEncounter, VersusDIDB, load_sheet, VersusDerp)\n",
    "import random\n",
    "from collections import OrderedDict, Counter\n",
    "from itertools import cycle, product\n",
    "import difflib\n",
    "import regex as re\n",
    "\n",
    "%matplotlib inline\n",
    "import seaborn as sns"
   ]
  },
  {
   "cell_type": "code",
   "execution_count": 26,
   "metadata": {
    "collapsed": false
   },
   "outputs": [
    {
     "name": "stdout",
     "output_type": "stream",
     "text": [
      "Enemy: <cmpd_web.VersusDerp object at 0x11a7e54d0>\n",
      "Enter text to insult, enter nothing to quit.\n",
      "Wordbank: Lazy, Stupid, Insecure, Idiotic, ...\n",
      "lazy\n",
      "Wordbank: Crotch, Ass, Nut, Cock, ...\n",
      "crotch\n",
      "Wordbank: Pirate, Goblin, Clown, Balloon, ...\n",
      "pirate\n",
      "#################################################\n",
      "# [--------------------------                 ] #\n",
      "# Lazy Crotch Pirate (0.10)                     #\n",
      "#                               Luckless Zealot #\n",
      "#################################################\n",
      "Wordbank: Pompous, Ugly, Slimy, Elitist, ...\n"
     ]
    },
    {
     "ename": "KeyboardInterrupt",
     "evalue": "",
     "output_type": "error",
     "traceback": [
      "\u001b[0;31m---------------------------------------------------------------------------\u001b[0m",
      "\u001b[0;31mKeyboardInterrupt\u001b[0m                         Traceback (most recent call last)",
      "\u001b[0;32m<ipython-input-26-46044f8cb3bf>\u001b[0m in \u001b[0;36m<module>\u001b[0;34m()\u001b[0m\n\u001b[1;32m      3\u001b[0m \u001b[0mLE\u001b[0m \u001b[0;34m=\u001b[0m \u001b[0mLocalEncounter\u001b[0m\u001b[0;34m(\u001b[0m\u001b[0;34m)\u001b[0m\u001b[0;34m\u001b[0m\u001b[0m\n\u001b[1;32m      4\u001b[0m \u001b[0mLE\u001b[0m\u001b[0;34m.\u001b[0m\u001b[0mopponent\u001b[0m \u001b[0;34m=\u001b[0m \u001b[0mVersusDerp\u001b[0m\u001b[0;34m(\u001b[0m\u001b[0mvocab\u001b[0m\u001b[0;34m,\u001b[0m \u001b[0mLE\u001b[0m\u001b[0;34m.\u001b[0m\u001b[0mlocal_emit\u001b[0m\u001b[0;34m)\u001b[0m\u001b[0;34m\u001b[0m\u001b[0m\n\u001b[0;32m----> 5\u001b[0;31m \u001b[0mLE\u001b[0m\u001b[0;34m.\u001b[0m\u001b[0mprompt\u001b[0m\u001b[0;34m(\u001b[0m\u001b[0;34m)\u001b[0m\u001b[0;34m\u001b[0m\u001b[0m\n\u001b[0m",
      "\u001b[0;32m/Users/feldman/packages/CMPD/cmpd_web.py\u001b[0m in \u001b[0;36mprompt\u001b[0;34m(self)\u001b[0m\n\u001b[1;32m    214\u001b[0m \u001b[0;34m\u001b[0m\u001b[0m\n\u001b[1;32m    215\u001b[0m         \u001b[0;32mwhile\u001b[0m \u001b[0mTrue\u001b[0m\u001b[0;34m:\u001b[0m\u001b[0;34m\u001b[0m\u001b[0m\n\u001b[0;32m--> 216\u001b[0;31m             \u001b[0;32mprint\u001b[0m \u001b[0;34m'Wordbank:'\u001b[0m\u001b[0;34m,\u001b[0m \u001b[0;34m', '\u001b[0m\u001b[0;34m.\u001b[0m\u001b[0mjoin\u001b[0m\u001b[0;34m(\u001b[0m\u001b[0mself\u001b[0m\u001b[0;34m.\u001b[0m\u001b[0mwordbank\u001b[0m\u001b[0;34m[\u001b[0m\u001b[0;34m:\u001b[0m\u001b[0;36m4\u001b[0m\u001b[0;34m]\u001b[0m \u001b[0;34m+\u001b[0m  \u001b[0;34m[\u001b[0m\u001b[0;34m'...'\u001b[0m\u001b[0;34m]\u001b[0m\u001b[0;34m)\u001b[0m\u001b[0;34m\u001b[0m\u001b[0m\n\u001b[0m\u001b[1;32m    217\u001b[0m             \u001b[0muser_input\u001b[0m \u001b[0;34m=\u001b[0m \u001b[0mraw_input\u001b[0m\u001b[0;34m(\u001b[0m\u001b[0;34m)\u001b[0m\u001b[0;34m\u001b[0m\u001b[0m\n\u001b[1;32m    218\u001b[0m             \u001b[0;32mif\u001b[0m \u001b[0muser_input\u001b[0m \u001b[0;34m==\u001b[0m \u001b[0;34m''\u001b[0m\u001b[0;34m:\u001b[0m\u001b[0;34m\u001b[0m\u001b[0m\n",
      "\u001b[0;32m//anaconda/lib/python2.7/site-packages/ipykernel/kernelbase.pyc\u001b[0m in \u001b[0;36mraw_input\u001b[0;34m(self, prompt)\u001b[0m\n\u001b[1;32m    687\u001b[0m             \u001b[0mself\u001b[0m\u001b[0;34m.\u001b[0m\u001b[0m_parent_ident\u001b[0m\u001b[0;34m,\u001b[0m\u001b[0;34m\u001b[0m\u001b[0m\n\u001b[1;32m    688\u001b[0m             \u001b[0mself\u001b[0m\u001b[0;34m.\u001b[0m\u001b[0m_parent_header\u001b[0m\u001b[0;34m,\u001b[0m\u001b[0;34m\u001b[0m\u001b[0m\n\u001b[0;32m--> 689\u001b[0;31m             \u001b[0mpassword\u001b[0m\u001b[0;34m=\u001b[0m\u001b[0mFalse\u001b[0m\u001b[0;34m,\u001b[0m\u001b[0;34m\u001b[0m\u001b[0m\n\u001b[0m\u001b[1;32m    690\u001b[0m         )\n\u001b[1;32m    691\u001b[0m \u001b[0;34m\u001b[0m\u001b[0m\n",
      "\u001b[0;32m//anaconda/lib/python2.7/site-packages/ipykernel/kernelbase.pyc\u001b[0m in \u001b[0;36m_input_request\u001b[0;34m(self, prompt, ident, parent, password)\u001b[0m\n\u001b[1;32m    717\u001b[0m             \u001b[0;32mexcept\u001b[0m \u001b[0mKeyboardInterrupt\u001b[0m\u001b[0;34m:\u001b[0m\u001b[0;34m\u001b[0m\u001b[0m\n\u001b[1;32m    718\u001b[0m                 \u001b[0;31m# re-raise KeyboardInterrupt, to truncate traceback\u001b[0m\u001b[0;34m\u001b[0m\u001b[0;34m\u001b[0m\u001b[0m\n\u001b[0;32m--> 719\u001b[0;31m                 \u001b[0;32mraise\u001b[0m \u001b[0mKeyboardInterrupt\u001b[0m\u001b[0;34m\u001b[0m\u001b[0m\n\u001b[0m\u001b[1;32m    720\u001b[0m             \u001b[0;32melse\u001b[0m\u001b[0;34m:\u001b[0m\u001b[0;34m\u001b[0m\u001b[0m\n\u001b[1;32m    721\u001b[0m                 \u001b[0;32mbreak\u001b[0m\u001b[0;34m\u001b[0m\u001b[0m\n",
      "\u001b[0;31mKeyboardInterrupt\u001b[0m: "
     ]
    }
   ],
   "source": [
    "vocab = cmpd_web.load_vocab('derp', reload=True)\n",
    "\n",
    "LE = LocalEncounter()\n",
    "LE.opponent = VersusDerp(vocab, LE.local_emit)\n",
    "LE.prompt()"
   ]
  },
  {
   "cell_type": "code",
   "execution_count": 106,
   "metadata": {
    "collapsed": false,
    "scrolled": true
   },
   "outputs": [
    {
     "ename": "TypeError",
     "evalue": "dict expected at most 1 arguments, got 3",
     "output_type": "error",
     "traceback": [
      "\u001b[0;31m---------------------------------------------------------------------------\u001b[0m",
      "\u001b[0;31mTypeError\u001b[0m                                 Traceback (most recent call last)",
      "\u001b[0;32m<ipython-input-106-a5a71ba4ffb3>\u001b[0m in \u001b[0;36m<module>\u001b[0;34m()\u001b[0m\n\u001b[0;32m----> 1\u001b[0;31m \u001b[0mpd\u001b[0m\u001b[0;34m.\u001b[0m\u001b[0mDataFrame\u001b[0m\u001b[0;34m(\u001b[0m\u001b[0mdict\u001b[0m\u001b[0;34m(\u001b[0m\u001b[0;34m*\u001b[0m\u001b[0mderp_categories\u001b[0m\u001b[0;34m)\u001b[0m\u001b[0;34m)\u001b[0m\u001b[0;34m\u001b[0m\u001b[0m\n\u001b[0m",
      "\u001b[0;31mTypeError\u001b[0m: dict expected at most 1 arguments, got 3"
     ]
    }
   ],
   "source": [
    "pd.DataFrame(dict(*derp_categories))"
   ]
  },
  {
   "cell_type": "code",
   "execution_count": 102,
   "metadata": {
    "collapsed": true
   },
   "outputs": [],
   "source": [
    "derp_categories = [('A', ['Lazy',\n",
    "  'Stupid',\n",
    "  'Insecure',\n",
    "  'Idiotic',\n",
    "  'Slimy',\n",
    "  'Smelly',\n",
    "  'Pompous',\n",
    "  'Pie-Eating',\n",
    "  'Racist',\n",
    "  'Elitist',\n",
    "  'White Trash',\n",
    "  'Drug-Loving',\n",
    "  'Tone Deaf',\n",
    "  'Ugly',\n",
    "  'Creepy']),\n",
    " ('B', ['Douche',\n",
    "  'Ass',\n",
    "  'Turd',\n",
    "  'Butt',\n",
    "  'Cock',\n",
    "  'Shit',\n",
    "  'Crotch',\n",
    "  'Prick',\n",
    "  'Taint',\n",
    "  'Fuck',\n",
    "  'Dick',\n",
    "  'Nut']),\n",
    " ('C', ['Pilot',\n",
    "  'Captain',\n",
    "  'Pirate',\n",
    "  'Knob',\n",
    "  'Box',\n",
    "  'Jockey',\n",
    "  'Nazi',\n",
    "  'Waffle',\n",
    "  'Goblin',\n",
    "  'Blossum',\n",
    "  'Clown',\n",
    "  'Socket',\n",
    "  'Balloon'])]"
   ]
  },
  {
   "cell_type": "code",
   "execution_count": 101,
   "metadata": {
    "collapsed": false
   },
   "outputs": [
    {
     "name": "stdout",
     "output_type": "stream",
     "text": [
      "Enemy: <cmpd_web.VersusDIDB object at 0x11ba8cfd0>\n",
      "Enter text to insult, enter nothing to quit.\n",
      "Wordbank: Irreligious, Jaded, Predatory, Lonely, ...\n",
      "jaded\n",
      "Wordbank: Fop, Redneck, Hack, Pushover, ...\n",
      "loser\n",
      "#################################################\n",
      "# [------------------------                   ] #\n",
      "# Jaded Loser (0.05)                            #\n",
      "#                              Subservient Wimp #\n",
      "#################################################\n",
      "Wordbank: Common, Careless, Clumsy, Dimwitted, ...\n",
      "\n"
     ]
    }
   ],
   "source": []
  },
  {
   "cell_type": "code",
   "execution_count": null,
   "metadata": {
    "collapsed": true
   },
   "outputs": [],
   "source": []
  },
  {
   "cell_type": "code",
   "execution_count": 193,
   "metadata": {
    "collapsed": false
   },
   "outputs": [],
   "source": [
    "places = [(0.24, 0.12, 'w', cmpd_web.stable['ctenophora']),\n",
    "          (0.19, 0.68, 'x', cmpd_web.stable['ctenophora']), \n",
    "          (0.80, 0.22, 'y', cmpd_web.stable['derp']),\n",
    "          (0.74, 0.71, 'z', cmpd_web.stable['derp'])]\n",
    "places = [{'x': x, 'y': y, 'label': l, 'enemy': e} for (x,y,l,e) in places]"
   ]
  }
 ],
 "metadata": {
  "kernelspec": {
   "display_name": "Python 2",
   "language": "python",
   "name": "python2"
  },
  "language_info": {
   "codemirror_mode": {
    "name": "ipython",
    "version": 2
   },
   "file_extension": ".py",
   "mimetype": "text/x-python",
   "name": "python",
   "nbconvert_exporter": "python",
   "pygments_lexer": "ipython2",
   "version": "2.7.9"
  }
 },
 "nbformat": 4,
 "nbformat_minor": 0
}
