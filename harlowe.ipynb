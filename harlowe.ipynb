{
 "cells": [
  {
   "cell_type": "code",
   "execution_count": 62,
   "metadata": {
    "collapsed": false
   },
   "outputs": [],
   "source": [
    "from external import harlowe_extra\n",
    "import markdown\n",
    "from IPython.display import display, HTML"
   ]
  },
  {
   "cell_type": "code",
   "execution_count": 86,
   "metadata": {
    "collapsed": true
   },
   "outputs": [],
   "source": [
    "html = 'resources/harlowe/test_6.html'"
   ]
  },
  {
   "cell_type": "code",
   "execution_count": 77,
   "metadata": {
    "collapsed": false
   },
   "outputs": [],
   "source": [
    "p = passages['Cowboy statue']\n",
    "v = p.parsed_contents[1]"
   ]
  },
  {
   "cell_type": "code",
   "execution_count": 78,
   "metadata": {
    "collapsed": false
   },
   "outputs": [
    {
     "data": {
      "text/plain": [
       "'johnWayneImage'"
      ]
     },
     "execution_count": 78,
     "metadata": {},
     "output_type": "execute_result"
    }
   ],
   "source": [
    "v.name"
   ]
  },
  {
   "cell_type": "code",
   "execution_count": 79,
   "metadata": {
    "collapsed": false
   },
   "outputs": [
    {
     "data": {
      "text/plain": [
       "[None, None]"
      ]
     },
     "execution_count": 79,
     "metadata": {},
     "output_type": "execute_result"
    }
   ],
   "source": [
    "    # find global image variables\n",
    "    image_passages = [p for n,p in passages.items() if 'Images' in n]\n",
    "    image_urls = {}\n",
    "    [image_urls.update(get_image_urls(p)) for p in image_passages]"
   ]
  },
  {
   "cell_type": "code",
   "execution_count": 112,
   "metadata": {
    "collapsed": true
   },
   "outputs": [],
   "source": [
    "passages = passages.values()"
   ]
  },
  {
   "cell_type": "code",
   "execution_count": 117,
   "metadata": {
    "collapsed": false
   },
   "outputs": [
    {
     "data": {
      "text/plain": [
       "'ctenophora'"
      ]
     },
     "execution_count": 117,
     "metadata": {},
     "output_type": "execute_result"
    }
   ],
   "source": [
    "get_set_args(macro)[0].name"
   ]
  },
  {
   "cell_type": "code",
   "execution_count": 122,
   "metadata": {
    "collapsed": false
   },
   "outputs": [
    {
     "data": {
      "text/plain": [
       "[' ',\n",
       " <external.harlowe.HarloweVariable instance at 0x106937680>,\n",
       " \" to 'A deep sea marvel, the Ctenophora takes no prisoners.'\"]"
      ]
     },
     "execution_count": 122,
     "metadata": {},
     "output_type": "execute_result"
    }
   ],
   "source": [
    "macros[0].code"
   ]
  },
  {
   "cell_type": "code",
   "execution_count": 123,
   "metadata": {
    "collapsed": false
   },
   "outputs": [
    {
     "data": {
      "text/plain": [
       "[' ',\n",
       " <external.harlowe.HarloweVariable instance at 0x106937170>,\n",
       " \" to 'The indefatigable General Abrams prepares to shit down your throat.'\"]"
      ]
     },
     "execution_count": 123,
     "metadata": {},
     "output_type": "execute_result"
    }
   ],
   "source": [
    "macros[1].code"
   ]
  },
  {
   "cell_type": "code",
   "execution_count": 124,
   "metadata": {
    "collapsed": false
   },
   "outputs": [
    {
     "data": {
      "text/plain": [
       "[' ',\n",
       " <external.harlowe.HarloweVariable instance at 0x106937710>,\n",
       " \" to 'H.R. Haldeman, bare-knuckle American.'\"]"
      ]
     },
     "execution_count": 124,
     "metadata": {},
     "output_type": "execute_result"
    }
   ],
   "source": [
    "macros[2].code"
   ]
  },
  {
   "cell_type": "code",
   "execution_count": 127,
   "metadata": {
    "collapsed": true
   },
   "outputs": [],
   "source": [
    "a = 'asdf'"
   ]
  },
  {
   "cell_type": "code",
   "execution_count": 130,
   "metadata": {
    "collapsed": true
   },
   "outputs": [],
   "source": [
    "a.partition?"
   ]
  },
  {
   "cell_type": "code",
   "execution_count": 160,
   "metadata": {
    "collapsed": false
   },
   "outputs": [],
   "source": [
    "import external.harlowe_extra\n",
    "reload(external.harlowe_extra)\n",
    "from external.harlowe_extra import *"
   ]
  },
  {
   "cell_type": "code",
   "execution_count": 182,
   "metadata": {
    "collapsed": false
   },
   "outputs": [
    {
     "name": "stdout",
     "output_type": "stream",
     "text": [
      "in Enemies, found variables: haldeman, generalAbrams, ctenophora\n",
      "in Enemy Images, found variables: generalAbramsImage, ctenophoraImage\n",
      "in Images, found variables: ehrlichmanImage, ovalOfficeImage, libraryImage, haldemanImage, christmasCardImage, nixonFlagImage, colsonImage, johnWayneImage, nixonImage, galleryImage\n"
     ]
    }
   ],
   "source": [
    "global_vars = find_global_vars(passages.values())\n",
    "contents = substitute_globals(passages['Cowboy statue'], global_vars)"
   ]
  },
  {
   "cell_type": "code",
   "execution_count": 274,
   "metadata": {
    "collapsed": false
   },
   "outputs": [],
   "source": [
    "import os"
   ]
  },
  {
   "cell_type": "code",
   "execution_count": 277,
   "metadata": {
    "collapsed": false
   },
   "outputs": [
    {
     "data": {
      "text/plain": [
       "('blah2', '.txt')"
      ]
     },
     "execution_count": 277,
     "metadata": {},
     "output_type": "execute_result"
    }
   ],
   "source": [
    "os.path.splitext(os.path.basename('blah/blah2.txt'))[]"
   ]
  },
  {
   "cell_type": "code",
   "execution_count": 271,
   "metadata": {
    "collapsed": false
   },
   "outputs": [
    {
     "name": "stdout",
     "output_type": "stream",
     "text": [
      "in Enemies, found variables: haldeman, generalAbrams, ctenophora\n",
      "in Enemy Images, found variables: generalAbramsImage, ctenophoraImage\n",
      "in Images, found variables: ehrlichmanImage, ovalOfficeImage, libraryImage, haldemanImage, christmasCardImage, nixonFlagImage, colsonImage, johnWayneImage, nixonImage, galleryImage\n",
      "map with 4 places in Gallery of Heroes\n",
      "map with 3 places in RMN\n",
      "map with 1 places in Ehrlichman\n",
      "map with 2 places in Colson\n",
      "map with 1 places in Haldeman\n",
      "map with 6 places in Oval Office\n",
      "map with 3 places in President's phone\n",
      "map with 1 places in Christmas card\n",
      "map with 1 places in Flag of Nixon\n",
      "generalAbrams found in Fight general\n",
      "ctenophora found in Fight ctenophora\n",
      "message with 1 choices [Choice(key='a', label='Step away from the Duke ', name='Oval Office')] in Cowboy statue\n",
      "message with 1 choices [Choice(key='a', label='Rise', name='Colson')] in A special place\n",
      "message with 1 choices [Choice(key='a', label='Accept', name=\"President's phone\")] in The mission, pt 1\n",
      "message with 1 choices [Choice(key='a', label='OK', name='RMN')] in RMN detail\n",
      "message with 1 choices [Choice(key='a', label='OK', name='Oval Office')] in Mission: CREEP\n",
      "all messages {'RMN detail': Message(name='RMN detail', text='*Fresh turned dirt. An empty grave.*\\n\\n', choices=[Choice(key='a', label='OK', name='RMN')]), 'Mission: CREEP': Message(name='Mission: CREEP', text='Mitchell, Magruder, Colson, Liddy...\\n\\nCall together an executive session...\\n\\n<div align=\"center\">\\n**Goal: Convene the Committee to Re-elect the President**\\n\\n', choices=[Choice(key='a', label='OK', name='Oval Office')]), 'Cowboy statue': Message(name='Cowboy statue', text='<div align=\"center\">\\n<img src=\"https://encrypted-tbn2.gstatic.com/shopping?q=tbn:ANd9GcTGGhUsj48_5TUhI1v_WpAoG3wsBXErotOUyG1edo_M-g8rRFd9ovOBUJyx3Y_NtvwHJHDMSDY&usqp=CAE\" \\nheight=\"300\">\\n<div align=\"left\">\\n*Courage is being scared to death but saddling up anyway.*\\n\\n<div style=\"text-align: center; max-width:50%; margin-left: 33%;\">\\n*Marion Mitchell Morrison*\\n<div align=\"left\">\\n\\n \\n\\n\\n\\n\\t\\t \\n\\t\\t\\t ', choices=[Choice(key='a', label='Step away from the Duke ', name='Oval Office')]), 'A special place': Message(name='A special place', text='*No greater love than this*\\n\\n', choices=[Choice(key='a', label='Rise', name='Colson')]), 'The mission, pt 1': Message(name='The mission, pt 1', text='Certain deputies...\\n\\nCertain deputies have betrayed the trust invested in them.\\n\\n ', choices=[Choice(key='a', label='Accept', name=\"President's phone\")])}\n"
     ]
    }
   ],
   "source": [
    "reload(harlowe_extra)\n",
    "_, _, passages = harlowe_extra.parse_harlowe_html(html)\n",
    "maps, encs, msgs = harlowe_extra.html_to_nodes(html)\n"
   ]
  },
  {
   "cell_type": "code",
   "execution_count": null,
   "metadata": {
    "collapsed": true
   },
   "outputs": [],
   "source": []
  },
  {
   "cell_type": "code",
   "execution_count": 71,
   "metadata": {
    "collapsed": false
   },
   "outputs": [
    {
     "data": {
      "text/plain": [
       "['\\n\\n\\n', '\\n', '\\n\\n<=\\n\\n', ' \\n', ' \\n\\n', '\\t\\t \\n\\t\\t\\t ']"
      ]
     },
     "execution_count": 71,
     "metadata": {},
     "output_type": "execute_result"
    }
   ],
   "source": []
  },
  {
   "cell_type": "code",
   "execution_count": 54,
   "metadata": {
    "collapsed": false
   },
   "outputs": [],
   "source": [
    "p = passages['RMN']\n",
    "intro_hook = harlowe_extra.get_named_hooks(p, 'intro')\n",
    "if intro_hook:\n",
    "    intro_text = intro_hook[0].hook[0]"
   ]
  },
  {
   "cell_type": "code",
   "execution_count": 51,
   "metadata": {
    "collapsed": true
   },
   "outputs": [],
   "source": [
    "x = intro_hook[0]"
   ]
  },
  {
   "cell_type": "code",
   "execution_count": 53,
   "metadata": {
    "collapsed": false
   },
   "outputs": [
    {
     "data": {
      "text/plain": [
       "'Here lies Richard Milhous Nixon, our greatest President'"
      ]
     },
     "execution_count": 53,
     "metadata": {},
     "output_type": "execute_result"
    }
   ],
   "source": []
  },
  {
   "cell_type": "code",
   "execution_count": 41,
   "metadata": {
    "collapsed": false
   },
   "outputs": [
    {
     "data": {
      "text/plain": [
       "[Place(x=0.24, y=0.77, key='a', label='War room', preview='Enter the War Room'),\n",
       " Place(x=0.06, y=0.46, key='v', label=\"President's phone\", preview='Answer the phone'),\n",
       " Place(x=0.27, y=0.42, key='i', label='Presidential rocking chair', preview=\"View the New Year's card\"),\n",
       " Place(x=0.72, y=0.27, key='s', label='Cowboy statue', preview='Inspect the cowboy'),\n",
       " Place(x=0.61, y=0.22, key='g', label='Flag of Nixon', preview='Salute the flag'),\n",
       " Place(x=0.5, y=0.9, key='d', label='RMN', preview='Genuflect before the patriarch'),\n",
       " Place(x=0.75, y=0.75, key='a', label='Gallery of Heroes', preview='Depart')]"
      ]
     },
     "execution_count": 41,
     "metadata": {},
     "output_type": "execute_result"
    }
   ],
   "source": [
    "m['Oval Office'].places"
   ]
  },
  {
   "cell_type": "code",
   "execution_count": 13,
   "metadata": {
    "collapsed": false
   },
   "outputs": [],
   "source": [
    "p = passages['RMN']"
   ]
  },
  {
   "cell_type": "code",
   "execution_count": 15,
   "metadata": {
    "collapsed": false
   },
   "outputs": [
    {
     "data": {
      "text/plain": [
       "((0.1, 0.75, 'o'), (0.1, 0.25, 'h'))"
      ]
     },
     "execution_count": 15,
     "metadata": {},
     "output_type": "execute_result"
    }
   ],
   "source": [
    "harlowe_extra.extract_places(p)"
   ]
  },
  {
   "cell_type": "code",
   "execution_count": 31,
   "metadata": {
    "collapsed": false
   },
   "outputs": [],
   "source": [
    "reload(harlowe_extra)\n",
    "from external.harlowe_extra import *\n",
    "# def find_links(passage):\n",
    "\n",
    "#     links_harlowe = list(passage.find_matches(lambda x: isinstance(x, HarloweLink)))\n",
    "#     return [l for l in links_harlowe]"
   ]
  },
  {
   "cell_type": "code",
   "execution_count": null,
   "metadata": {
    "collapsed": true
   },
   "outputs": [],
   "source": []
  },
  {
   "cell_type": "code",
   "execution_count": 30,
   "metadata": {
    "collapsed": false
   },
   "outputs": [
    {
     "data": {
      "text/plain": [
       "<module 'external.harlowe_extra' from 'external/harlowe_extra.py'>"
      ]
     },
     "execution_count": 30,
     "metadata": {},
     "output_type": "execute_result"
    }
   ],
   "source": []
  },
  {
   "cell_type": "code",
   "execution_count": null,
   "metadata": {
    "collapsed": true
   },
   "outputs": [],
   "source": []
  },
  {
   "cell_type": "code",
   "execution_count": 25,
   "metadata": {
    "collapsed": false
   },
   "outputs": [],
   "source": [
    "hl = find_links(p)[0]"
   ]
  },
  {
   "cell_type": "code",
   "execution_count": 27,
   "metadata": {
    "collapsed": false
   },
   "outputs": [
    {
     "data": {
      "text/plain": [
       "['Step into the Oval Office']"
      ]
     },
     "execution_count": 27,
     "metadata": {},
     "output_type": "execute_result"
    }
   ],
   "source": [
    "hl."
   ]
  },
  {
   "cell_type": "code",
   "execution_count": 16,
   "metadata": {
    "collapsed": false
   },
   "outputs": [
    {
     "data": {
      "text/plain": [
       "['Oval Office', 'Gallery of Heroes']"
      ]
     },
     "execution_count": 16,
     "metadata": {},
     "output_type": "execute_result"
    }
   ],
   "source": [
    "harlowe_extra.find_links(p)"
   ]
  }
 ],
 "metadata": {
  "kernelspec": {
   "display_name": "Python 2",
   "language": "python",
   "name": "python2"
  },
  "language_info": {
   "codemirror_mode": {
    "name": "ipython",
    "version": 2
   },
   "file_extension": ".py",
   "mimetype": "text/x-python",
   "name": "python",
   "nbconvert_exporter": "python",
   "pygments_lexer": "ipython2",
   "version": "2.7.9"
  }
 },
 "nbformat": 4,
 "nbformat_minor": 0
}
