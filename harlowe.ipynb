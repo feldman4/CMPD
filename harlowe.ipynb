{
 "cells": [
  {
   "cell_type": "code",
   "execution_count": 70,
   "metadata": {
    "collapsed": false
   },
   "outputs": [],
   "source": [
    "import cmpd_web\n",
    "reload(cmpd_web)\n",
    "from cmpd_web import load_sheet\n",
    "import pandas as pd\n",
    "# v = cmpd_web.load_vocab('DIDB', reload=True)\n",
    "v2 = cmpd_web.load_vocab('DIDB',reload=True, subset='start')"
   ]
  },
  {
   "cell_type": "code",
   "execution_count": null,
   "metadata": {
    "collapsed": true
   },
   "outputs": [],
   "source": [
    "if subset and col in subset:\n",
    "    subsets += [i for i,x in enumerate(df[col]) if x]"
   ]
  },
  {
   "cell_type": "code",
   "execution_count": null,
   "metadata": {
    "collapsed": true
   },
   "outputs": [],
   "source": [
    "    if subset:\n",
    "        subsets = sorted(set(subsets))\n",
    "        vocab = [(col, [words[i] for i in subsets]) for col, words in vocab]\n"
   ]
  },
  {
   "cell_type": "code",
   "execution_count": 22,
   "metadata": {
    "collapsed": false
   },
   "outputs": [],
   "source": [
    "subset=None\n",
    "\n",
    "def load_remote(sheet):\n",
    "\n",
    "    sheet = load_sheet(sheet)\n",
    "    df = pd.DataFrame(sheet[1:], columns=sheet[0])\n",
    "    vocab, subsets = [], []\n",
    "    for col in df:\n",
    "        if col:\n",
    "            words = list(df[col])\n",
    "            vocab += [(col, words)]\n",
    "\n",
    "    with open(path, 'w') as fh:\n",
    "        json.dump(vocab, fh, indent=4)\n",
    "    return vocab\n",
    "\n",
    "vocab = load_remote('DIDB')"
   ]
  },
  {
   "cell_type": "code",
   "execution_count": 32,
   "metadata": {
    "collapsed": true
   },
   "outputs": [],
   "source": [
    "import re"
   ]
  },
  {
   "cell_type": "code",
   "execution_count": 36,
   "metadata": {
    "collapsed": false
   },
   "outputs": [
    {
     "data": {
      "text/plain": [
       "['start']"
      ]
     },
     "execution_count": 36,
     "metadata": {},
     "output_type": "execute_result"
    }
   ],
   "source": [
    "re.findall('start|fuckyou', '_start')"
   ]
  },
  {
   "cell_type": "code",
   "execution_count": 58,
   "metadata": {
    "collapsed": false
   },
   "outputs": [],
   "source": [
    "def filter_vocab(vocab, subset):\n",
    "\n",
    "    actual_vocab = []\n",
    "    subset_index = []\n",
    "    for (col, words) in vocab:\n",
    "        if col.startswith('_') and re.findall(subset, col):\n",
    "            subset_index += [i for i,x in enumerate(words) if x]\n",
    "    subset_index = sorted(set(subset_index))\n",
    "    \n",
    "    for (col, words) in vocab:\n",
    "        if not col.startswith('_'):\n",
    "            if subset:\n",
    "                words = [w for i, w in enumerate(words) \n",
    "                           if i in subset_index]\n",
    "            words = sorted(set(words))\n",
    "            actual_vocab += [(col, words)]\n",
    "\n",
    "    return actual_vocab"
   ]
  },
  {
   "cell_type": "code",
   "execution_count": 64,
   "metadata": {
    "collapsed": false
   },
   "outputs": [
    {
     "name": "stdout",
     "output_type": "stream",
     "text": [
      "True\n"
     ]
    }
   ],
   "source": [
    "if re.findall('.*', 'start'):\n",
    "    print True"
   ]
  },
  {
   "cell_type": "code",
   "execution_count": 62,
   "metadata": {
    "collapsed": false
   },
   "outputs": [
    {
     "data": {
      "text/plain": [
       "[('Adjective',\n",
       "  ['Candy-Assed',\n",
       "   'Clamorous',\n",
       "   'Constipated',\n",
       "   'Despicable',\n",
       "   'Disguised',\n",
       "   'Tufted']),\n",
       " ('Noun', ['Bastard', 'Carrion', 'Eunuch', 'Filth', 'Moocher', 'Weakling'])]"
      ]
     },
     "execution_count": 62,
     "metadata": {},
     "output_type": "execute_result"
    }
   ],
   "source": [
    "[(a, b[:10]) for a,b in filter_vocab(vocab, 'start')]"
   ]
  },
  {
   "cell_type": "code",
   "execution_count": 289,
   "metadata": {
    "collapsed": false
   },
   "outputs": [],
   "source": [
    "import pandas as pd"
   ]
  },
  {
   "cell_type": "code",
   "execution_count": 62,
   "metadata": {
    "collapsed": false
   },
   "outputs": [],
   "source": [
    "from external import harlowe_extra\n",
    "import markdown\n",
    "from IPython.display import display, HTML"
   ]
  },
  {
   "cell_type": "code",
   "execution_count": 86,
   "metadata": {
    "collapsed": true
   },
   "outputs": [],
   "source": [
    "html = 'resources/harlowe/test_6.html'"
   ]
  },
  {
   "cell_type": "code",
   "execution_count": 77,
   "metadata": {
    "collapsed": false
   },
   "outputs": [],
   "source": [
    "p = passages['Cowboy statue']\n",
    "v = p.parsed_contents[1]"
   ]
  },
  {
   "cell_type": "code",
   "execution_count": 79,
   "metadata": {
    "collapsed": false
   },
   "outputs": [
    {
     "data": {
      "text/plain": [
       "[None, None]"
      ]
     },
     "execution_count": 79,
     "metadata": {},
     "output_type": "execute_result"
    }
   ],
   "source": [
    "    # find global image variables\n",
    "    image_passages = [p for n,p in passages.items() if 'Images' in n]\n",
    "    image_urls = {}\n",
    "    [image_urls.update(get_image_urls(p)) for p in image_passages]"
   ]
  },
  {
   "cell_type": "code",
   "execution_count": 112,
   "metadata": {
    "collapsed": true
   },
   "outputs": [],
   "source": [
    "passages = passages.values()"
   ]
  },
  {
   "cell_type": "code",
   "execution_count": 160,
   "metadata": {
    "collapsed": false
   },
   "outputs": [],
   "source": [
    "import external.harlowe_extra\n",
    "reload(external.harlowe_extra)\n",
    "from external.harlowe_extra import *"
   ]
  },
  {
   "cell_type": "code",
   "execution_count": 182,
   "metadata": {
    "collapsed": false
   },
   "outputs": [
    {
     "name": "stdout",
     "output_type": "stream",
     "text": [
      "in Enemies, found variables: haldeman, generalAbrams, ctenophora\n",
      "in Enemy Images, found variables: generalAbramsImage, ctenophoraImage\n",
      "in Images, found variables: ehrlichmanImage, ovalOfficeImage, libraryImage, haldemanImage, christmasCardImage, nixonFlagImage, colsonImage, johnWayneImage, nixonImage, galleryImage\n"
     ]
    }
   ],
   "source": [
    "global_vars = find_global_vars(passages.values())\n",
    "contents = substitute_globals(passages['Cowboy statue'], global_vars)"
   ]
  },
  {
   "cell_type": "code",
   "execution_count": 31,
   "metadata": {
    "collapsed": false
   },
   "outputs": [],
   "source": [
    "reload(harlowe_extra)\n",
    "from external.harlowe_extra import *\n",
    "# def find_links(passage):\n",
    "\n",
    "#     links_harlowe = list(passage.find_matches(lambda x: isinstance(x, HarloweLink)))\n",
    "#     return [l for l in links_harlowe]"
   ]
  },
  {
   "cell_type": "markdown",
   "metadata": {},
   "source": [
    "### story variables"
   ]
  },
  {
   "cell_type": "markdown",
   "metadata": {},
   "source": [
    "leaves can be `str` or `HarloweVariable`\n",
    "\n",
    "- special function `raw_data(str)` applied to `str` before evaluating tree"
   ]
  },
  {
   "cell_type": "markdown",
   "metadata": {},
   "source": [
    "\n",
    "workflow\n",
    "\n",
    "load story\n",
    "- parse all passages into executable trees\n",
    "    - store (HarlowePassage, HarloweTree)\n",
    "- evaluate start passage, keep global vars\n",
    "- on transition, evaluate tree to get HarlowePassage\n",
    "    - duplicate HarlowePassage, filling in parsed_contents by evaluating HarloweTree\n",
    "    - determine passage type (map, encounter, message)\n",
    "    - instantiate corresponding Map, Encounter or Message namedtuple\n",
    "\n",
    "\n",
    "\n",
    "\n",
    "\n"
   ]
  },
  {
   "cell_type": "code",
   "execution_count": 418,
   "metadata": {
    "collapsed": true
   },
   "outputs": [],
   "source": [
    "import external.harlowe_extra"
   ]
  },
  {
   "cell_type": "code",
   "execution_count": 419,
   "metadata": {
    "collapsed": false
   },
   "outputs": [
    {
     "data": {
      "text/plain": [
       "<module 'external.harlowe_extra' from 'external/harlowe_extra.pyc'>"
      ]
     },
     "execution_count": 419,
     "metadata": {},
     "output_type": "execute_result"
    }
   ],
   "source": [
    "reload(external.harlowe_extra)"
   ]
  },
  {
   "cell_type": "code",
   "execution_count": null,
   "metadata": {
    "collapsed": true
   },
   "outputs": [],
   "source": []
  },
  {
   "cell_type": "code",
   "execution_count": 632,
   "metadata": {
    "collapsed": false
   },
   "outputs": [
    {
     "name": "stdout",
     "output_type": "stream",
     "text": [
      "map with 6 places in Oval Office\n"
     ]
    }
   ],
   "source": [
    "passage, tree = passages_['Oval Office']\n",
    "node, links, g = enter(passage, tree, g)"
   ]
  },
  {
   "cell_type": "code",
   "execution_count": 629,
   "metadata": {
    "collapsed": false
   },
   "outputs": [
    {
     "ename": "IndexError",
     "evalue": "list index out of range",
     "output_type": "error",
     "traceback": [
      "\u001b[0;31m---------------------------------------------------------------------------\u001b[0m",
      "\u001b[0;31mIndexError\u001b[0m                                Traceback (most recent call last)",
      "\u001b[0;32m<ipython-input-629-8d8d0f93a90d>\u001b[0m in \u001b[0;36m<module>\u001b[0;34m()\u001b[0m\n\u001b[1;32m      1\u001b[0m \u001b[0mtransition\u001b[0m \u001b[0;34m=\u001b[0m \u001b[0;34m'2'\u001b[0m\u001b[0;34m\u001b[0m\u001b[0m\n\u001b[0;32m----> 2\u001b[0;31m \u001b[0mg\u001b[0m\u001b[0;34m,\u001b[0m \u001b[0mdestination\u001b[0m \u001b[0;34m=\u001b[0m \u001b[0mlinks\u001b[0m\u001b[0;34m[\u001b[0m\u001b[0mint\u001b[0m\u001b[0;34m(\u001b[0m\u001b[0mtransition\u001b[0m\u001b[0;34m)\u001b[0m\u001b[0;34m]\u001b[0m\u001b[0;34m.\u001b[0m\u001b[0mdo_transition\u001b[0m\u001b[0;34m(\u001b[0m\u001b[0mg\u001b[0m\u001b[0;34m)\u001b[0m\u001b[0;34m\u001b[0m\u001b[0m\n\u001b[0m\u001b[1;32m      3\u001b[0m \u001b[0mnode\u001b[0m\u001b[0;34m,\u001b[0m \u001b[0mlinks\u001b[0m\u001b[0;34m,\u001b[0m \u001b[0mg\u001b[0m \u001b[0;34m=\u001b[0m \u001b[0menter\u001b[0m\u001b[0;34m(\u001b[0m\u001b[0mpassage\u001b[0m\u001b[0;34m,\u001b[0m \u001b[0mtree\u001b[0m\u001b[0;34m,\u001b[0m \u001b[0mg\u001b[0m\u001b[0;34m)\u001b[0m\u001b[0;34m\u001b[0m\u001b[0m\n",
      "\u001b[0;31mIndexError\u001b[0m: list index out of range"
     ]
    }
   ],
   "source": [
    "transition = '2'\n",
    "g, destination = links[int(transition)].do_transition(g)\n",
    "node, links, g = enter(passage, tree, g)"
   ]
  },
  {
   "cell_type": "code",
   "execution_count": 645,
   "metadata": {
    "collapsed": false
   },
   "outputs": [],
   "source": [
    "hh = get_named_hooks(passage, 'enemy')[0]"
   ]
  },
  {
   "cell_type": "code",
   "execution_count": 654,
   "metadata": {
    "collapsed": false
   },
   "outputs": [
    {
     "data": {
      "text/plain": [
       "'generalAbrams'"
      ]
     },
     "execution_count": 654,
     "metadata": {},
     "output_type": "execute_result"
    }
   ],
   "source": [
    "{g[k]: k for k in g}[g['generalAbrams']]"
   ]
  },
  {
   "cell_type": "code",
   "execution_count": 664,
   "metadata": {
    "collapsed": true
   },
   "outputs": [
    {
     "name": "stdout",
     "output_type": "stream",
     "text": [
      "map with 2 places in Colson\n",
      "map with 4 places in Gallery of Heroes\n",
      "map with 3 places in RMN\n",
      "message with 1 choices [Choice(key='*', label='OK', name='_dummy_link')] in RMN detail\n",
      "map with 3 places in RMN\n",
      "map with 6 places in Oval Office\n",
      "message with 1 choices [Choice(key='a', label='Step away from the Duke', name='_dummy_link')] in Cowboy statue\n",
      "map with 6 places in Oval Office\n",
      "message with 3 choices [Choice(key='a', label='Put down the phone', name='_dummy_link'), Choice(key='b', label='Give the General a piece of your mind', name='_dummy_link'), Choice(key='c', label='Topple the aquarium, releasing the beast within', name='_dummy_link')] in President's phone\n",
      "generalAbrams found in Fight general\n",
      "map with 6 places in Oval Office\n",
      "map with 4 places in Gallery of Heroes\n",
      "map with 1 places in Haldeman\n",
      "map with 4 places in Gallery of Heroes\n",
      "map with 1 places in Haldeman\n",
      "map with 4 places in Gallery of Heroes\n",
      "map with 1 places in Ehrlichman\n",
      "map with 4 places in Gallery of Heroes\n",
      "map with 2 places in Colson\n",
      "map with 4 places in Gallery of Heroes\n",
      "map with 1 places in Haldeman\n",
      "map with 4 places in Gallery of Heroes\n",
      "map with 1 places in Ehrlichman\n",
      "map with 4 places in Gallery of Heroes\n",
      "map with 3 places in RMN\n",
      "map with 4 places in Gallery of Heroes\n",
      "map with 1 places in Haldeman\n",
      "map with 4 places in Gallery of Heroes\n",
      "map with 3 places in RMN\n",
      "map with 4 places in Gallery of Heroes\n",
      "map with 3 places in RMN\n",
      "map with 6 places in Oval Office\n",
      "message with 1 choices [Choice(key='a', label='Accept', name='_dummy_link')] in The mission, pt 1\n",
      "message with 3 choices [Choice(key='a', label='Put down the phone', name='_dummy_link'), Choice(key='b', label='Give the General a piece of your mind', name='_dummy_link'), Choice(key='c', label='Topple the aquarium, releasing the beast within', name='_dummy_link')] in President's phone\n",
      "ctenophora found in Fight ctenophora\n",
      "map with 6 places in Oval Office\n",
      "message with 1 choices [Choice(key='a', label='Accept', name='_dummy_link')] in The mission, pt 1\n",
      "message with 3 choices [Choice(key='a', label='Put down the phone', name='_dummy_link'), Choice(key='b', label='Give the General a piece of your mind', name='_dummy_link'), Choice(key='c', label='Topple the aquarium, releasing the beast within', name='_dummy_link')] in President's phone\n",
      "ctenophora found in Fight ctenophora\n",
      "map with 6 places in Oval Office\n",
      "message with 1 choices [Choice(key='a', label='Step away from the Duke', name='_dummy_link')] in Cowboy statue\n",
      "map with 6 places in Oval Office\n",
      "message with 3 choices [Choice(key='a', label='Put down the phone', name='_dummy_link'), Choice(key='b', label='Give the General a piece of your mind', name='_dummy_link'), Choice(key='c', label='Topple the aquarium, releasing the beast within', name='_dummy_link')] in President's phone\n",
      "ctenophora found in Fight ctenophora\n",
      "map with 6 places in Oval Office\n",
      "message with 3 choices [Choice(key='a', label='Put down the phone', name='_dummy_link'), Choice(key='b', label='Give the General a piece of your mind', name='_dummy_link'), Choice(key='c', label='Topple the aquarium, releasing the beast within', name='_dummy_link')] in President's phone\n",
      "map with 6 places in Oval Office\n",
      "map with 4 places in Gallery of Heroes\n",
      "map with 3 places in RMN\n",
      "message with 1 choices [Choice(key='*', label='OK', name='_dummy_link')] in RMN detail\n",
      "map with 3 places in RMN\n",
      "message with 1 choices [Choice(key='*', label='OK', name='_dummy_link')] in RMN detail\n",
      "map with 3 places in RMN\n",
      "message with 1 choices [Choice(key='*', label='OK', name='_dummy_link')] in RMN detail\n",
      "map with 3 places in RMN\n",
      "message with 1 choices [Choice(key='*', label='OK', name='_dummy_link')] in RMN detail\n",
      "map with 3 places in RMN\n",
      "map with 4 places in Gallery of Heroes\n",
      "map with 1 places in Haldeman\n",
      "map with 4 places in Gallery of Heroes\n",
      "map with 1 places in Haldeman\n",
      "map with 4 places in Gallery of Heroes\n",
      "map with 2 places in Colson\n",
      "message with 1 choices [Choice(key='a', label='Rise', name='_dummy_link')] in A special place\n",
      "map with 2 places in Colson\n",
      "map with 4 places in Gallery of Heroes\n",
      "map with 2 places in Colson\n",
      "message with 1 choices [Choice(key='a', label='Rise', name='_dummy_link')] in A special place\n",
      "map with 2 places in Colson\n",
      "message with 1 choices [Choice(key='a', label='Rise', name='_dummy_link')] in A special place\n",
      "map with 2 places in Colson\n",
      "map with 4 places in Gallery of Heroes\n",
      "map with 2 places in Colson\n",
      "message with 1 choices [Choice(key='a', label='Rise', name='_dummy_link')] in A special place\n",
      "map with 2 places in Colson\n",
      "map with 4 places in Gallery of Heroes\n",
      "map with 1 places in Haldeman\n",
      "map with 4 places in Gallery of Heroes\n",
      "map with 2 places in Colson\n",
      "map with 4 places in Gallery of Heroes\n",
      "map with 1 places in Ehrlichman\n",
      "map with 4 places in Gallery of Heroes\n",
      "map with 2 places in Colson\n",
      "map with 4 places in Gallery of Heroes\n",
      "map with 1 places in Ehrlichman\n",
      "map with 4 places in Gallery of Heroes\n",
      "map with 3 places in RMN\n",
      "map with 6 places in Oval Office\n",
      "message with 1 choices [Choice(key='a', label='Turn away', name='_dummy_link')] in Christmas card\n",
      "map with 6 places in Oval Office\n",
      "message with 1 choices [Choice(key='a', label='Accept', name='_dummy_link')] in The mission, pt 1\n",
      "message with 3 choices [Choice(key='a', label='Put down the phone', name='_dummy_link'), Choice(key='b', label='Give the General a piece of your mind', name='_dummy_link'), Choice(key='c', label='Topple the aquarium, releasing the beast within', name='_dummy_link')] in President's phone\n",
      "generalAbrams found in Fight general\n",
      "message with 1 choices [Choice(key='a', label='OK', name='_dummy_link')] in Hall of Champions\n",
      "map with 3 places in RMN\n",
      "message with 1 choices [Choice(key='*', label='OK', name='_dummy_link')] in RMN detail\n",
      "map with 3 places in RMN\n",
      "message with 1 choices [Choice(key='*', label='OK', name='_dummy_link')] in RMN detail\n",
      "map with 3 places in RMN\n",
      "map with 6 places in Oval Office\n",
      "message with 1 choices [Choice(key='a', label='Turn away', name='_dummy_link')] in Christmas card\n",
      "map with 6 places in Oval Office\n",
      "map with 4 places in Gallery of Heroes\n",
      "map with 1 places in Ehrlichman\n",
      "map with 4 places in Gallery of Heroes\n",
      "map with 2 places in Colson\n",
      "message with 1 choices [Choice(key='a', label='Rise', name='_dummy_link')] in A special place\n",
      "map with 2 places in Colson\n",
      "message with 1 choices [Choice(key='a', label='Rise', name='_dummy_link')] in A special place\n",
      "map with 2 places in Colson\n",
      "map with 4 places in Gallery of Heroes\n",
      "map with 1 places in Ehrlichman\n",
      "map with 4 places in Gallery of Heroes\n",
      "map with 3 places in RMN\n",
      "map with 6 places in Oval Office\n",
      "map with 4 places in Gallery of Heroes\n",
      "map with 2 places in Colson\n",
      "map with 4 places in Gallery of Heroes\n",
      "map with 1 places in Ehrlichman\n",
      "map with 4 places in Gallery of Heroes\n",
      "map with 2 places in Colson\n",
      "map with 4 places in Gallery of Heroes\n",
      "map with 1 places in Ehrlichman\n",
      "map with 4 places in Gallery of Heroes\n",
      "map with 2 places in Colson\n",
      "map with 4 places in Gallery of Heroes\n",
      "map with 1 places in Ehrlichman\n",
      "map with 4 places in Gallery of Heroes\n",
      "map with 2 places in Colson\n",
      "map with 4 places in Gallery of Heroes\n",
      "map with 1 places in Ehrlichman\n",
      "map with 4 places in Gallery of Heroes\n",
      "map with 3 places in RMN\n",
      "map with 4 places in Gallery of Heroes\n",
      "map with 1 places in Haldeman\n",
      "map with 4 places in Gallery of Heroes\n",
      "map with 1 places in Ehrlichman\n",
      "map with 4 places in Gallery of Heroes\n",
      "map with 3 places in RMN\n",
      "message with 1 choices [Choice(key='*', label='OK', name='_dummy_link')] in RMN detail\n",
      "map with 3 places in RMN\n",
      "map with 4 places in Gallery of Heroes\n",
      "map with 1 places in Ehrlichman\n",
      "map with 4 places in Gallery of Heroes\n",
      "map with 1 places in Haldeman\n",
      "map with 4 places in Gallery of Heroes\n",
      "map with 3 places in RMN\n",
      "map with 6 places in Oval Office\n",
      "message with 1 choices [Choice(key='a', label='Turn away', name='_dummy_link')] in Christmas card\n",
      "map with 6 places in Oval Office\n",
      "message with 1 choices [Choice(key='a', label='Accept', name='_dummy_link')] in The mission, pt 1\n",
      "message with 3 choices [Choice(key='a', label='Put down the phone', name='_dummy_link'), Choice(key='b', label='Give the General a piece of your mind', name='_dummy_link'), Choice(key='c', label='Topple the aquarium, releasing the beast within', name='_dummy_link')] in President's phone\n",
      "map with 6 places in Oval Office\n",
      "map with 4 places in Gallery of Heroes\n",
      "map with 1 places in Haldeman\n",
      "map with 4 places in Gallery of Heroes\n",
      "map with 1 places in Haldeman\n",
      "map with 4 places in Gallery of Heroes\n",
      "map with 2 places in Colson\n",
      "map with 4 places in Gallery of Heroes\n",
      "map with 1 places in Haldeman\n",
      "map with 4 places in Gallery of Heroes\n",
      "map with 1 places in Ehrlichman\n",
      "map with 4 places in Gallery of Heroes\n",
      "map with 3 places in RMN\n",
      "map with 4 places in Gallery of Heroes\n",
      "map with 1 places in Ehrlichman\n",
      "map with 4 places in Gallery of Heroes\n",
      "map with 2 places in Colson\n",
      "message with 1 choices [Choice(key='a', label='Rise', name='_dummy_link')] in A special place\n",
      "map with 2 places in Colson\n",
      "message with 1 choices [Choice(key='a', label='Rise', name='_dummy_link')] in A special place\n",
      "map with 2 places in Colson\n",
      "map with 4 places in Gallery of Heroes\n",
      "map with 3 places in RMN\n",
      "map with 4 places in Gallery of Heroes\n",
      "map with 1 places in Ehrlichman\n",
      "map with 4 places in Gallery of Heroes\n",
      "map with 3 places in RMN\n",
      "map with 6 places in Oval Office\n",
      "message with 1 choices [Choice(key='a', label='Turn away', name='_dummy_link')] in Christmas card\n",
      "map with 6 places in Oval Office\n",
      "message with 1 choices [Choice(key='a', label='Turn away', name='_dummy_link')] in Christmas card\n",
      "map with 6 places in Oval Office\n",
      "message with 1 choices [Choice(key='a', label='Step away from the Duke', name='_dummy_link')] in Cowboy statue\n",
      "map with 6 places in Oval Office\n",
      "message with 1 choices [Choice(key='a', label='Turn away', name='_dummy_link')] in Christmas card\n",
      "map with 6 places in Oval Office\n",
      "message with 1 choices [Choice(key='a', label='Accept', name='_dummy_link')] in The mission, pt 1\n",
      "message with 3 choices [Choice(key='a', label='Put down the phone', name='_dummy_link'), Choice(key='b', label='Give the General a piece of your mind', name='_dummy_link'), Choice(key='c', label='Topple the aquarium, releasing the beast within', name='_dummy_link')] in President's phone\n",
      "generalAbrams found in Fight general\n",
      "message with 1 choices [Choice(key='a', label='OK', name='_dummy_link')] in Hall of Champions\n",
      "map with 3 places in RMN\n",
      "map with 6 places in Oval Office\n",
      "message with 1 choices [Choice(key='a', label='Step away from the flag', name='_dummy_link')] in Flag of Nixon\n",
      "map with 6 places in Oval Office\n",
      "message with 1 choices [Choice(key='a', label='Accept', name='_dummy_link')] in The mission, pt 1\n",
      "message with 3 choices [Choice(key='a', label='Put down the phone', name='_dummy_link'), Choice(key='b', label='Give the General a piece of your mind', name='_dummy_link'), Choice(key='c', label='Topple the aquarium, releasing the beast within', name='_dummy_link')] in President's phone\n",
      "map with 6 places in Oval Office\n",
      "map with 4 places in Gallery of Heroes\n",
      "map with 3 places in RMN\n",
      "map with 4 places in Gallery of Heroes\n",
      "map with 1 places in Haldeman\n",
      "map with 4 places in Gallery of Heroes\n",
      "map with 2 places in Colson\n",
      "message with 1 choices [Choice(key='a', label='Rise', name='_dummy_link')] in A special place\n",
      "map with 2 places in Colson\n",
      "message with 1 choices [Choice(key='a', label='Rise', name='_dummy_link')] in A special place\n",
      "map with 2 places in Colson\n",
      "map with 4 places in Gallery of Heroes\n",
      "map with 1 places in Haldeman\n",
      "map with 4 places in Gallery of Heroes\n",
      "map with 1 places in Haldeman\n",
      "map with 4 places in Gallery of Heroes\n",
      "map with 3 places in RMN\n",
      "map with 6 places in Oval Office\n",
      "message with 1 choices [Choice(key='a', label='Step away from the flag', name='_dummy_link')] in Flag of Nixon\n",
      "map with 6 places in Oval Office\n",
      "message with 1 choices [Choice(key='a', label='Turn away', name='_dummy_link')] in Christmas card\n",
      "map with 6 places in Oval Office\n",
      "message with 1 choices [Choice(key='a', label='Step away from the Duke', name='_dummy_link')] in Cowboy statue\n",
      "map with 6 places in Oval Office\n",
      "message with 1 choices [Choice(key='a', label='Step away from the flag', name='_dummy_link')] in Flag of Nixon\n",
      "map with 6 places in Oval Office\n",
      "message with 1 choices [Choice(key='a', label='Turn away', name='_dummy_link')] in Christmas card\n",
      "map with 6 places in Oval Office\n",
      "message with 1 choices [Choice(key='a', label='Accept', name='_dummy_link')] in The mission, pt 1\n",
      "message with 3 choices [Choice(key='a', label='Put down the phone', name='_dummy_link'), Choice(key='b', label='Give the General a piece of your mind', name='_dummy_link'), Choice(key='c', label='Topple the aquarium, releasing the beast within', name='_dummy_link')] in President's phone\n",
      "map with 6 places in Oval Office\n",
      "message with 1 choices [Choice(key='a', label='Accept', name='_dummy_link')] in The mission, pt 1\n",
      "message with 3 choices [Choice(key='a', label='Put down the phone', name='_dummy_link'), Choice(key='b', label='Give the General a piece of your mind', name='_dummy_link'), Choice(key='c', label='Topple the aquarium, releasing the beast within', name='_dummy_link')] in President's phone\n",
      "ctenophora found in Fight ctenophora\n",
      "map with 6 places in Oval Office\n",
      "map with 4 places in Gallery of Heroes\n",
      "map with 1 places in Ehrlichman\n",
      "map with 4 places in Gallery of Heroes\n",
      "map with 1 places in Haldeman\n",
      "map with 4 places in Gallery of Heroes\n",
      "map with 1 places in Ehrlichman\n",
      "map with 4 places in Gallery of Heroes\n",
      "map with 1 places in Haldeman\n",
      "map with 4 places in Gallery of Heroes\n",
      "map with 1 places in Ehrlichman\n",
      "map with 4 places in Gallery of Heroes\n",
      "map with 2 places in Colson\n",
      "map with 4 places in Gallery of Heroes\n",
      "map with 1 places in Haldeman\n",
      "map with 4 places in Gallery of Heroes\n",
      "map with 1 places in Haldeman\n",
      "map with 4 places in Gallery of Heroes\n",
      "map with 2 places in Colson\n",
      "message with 1 choices [Choice(key='a', label='Rise', name='_dummy_link')] in A special place\n",
      "map with 2 places in Colson\n",
      "map with 4 places in Gallery of Heroes\n",
      "map with 1 places in Ehrlichman\n",
      "map with 4 places in Gallery of Heroes\n",
      "map with 1 places in Ehrlichman\n",
      "map with 4 places in Gallery of Heroes\n",
      "map with 3 places in RMN\n",
      "message with 1 choices [Choice(key='*', label='OK', name='_dummy_link')] in RMN detail\n",
      "map with 3 places in RMN\n",
      "message with 1 choices [Choice(key='*', label='OK', name='_dummy_link')] in RMN detail\n",
      "map with 3 places in RMN\n",
      "message with 1 choices [Choice(key='*', label='OK', name='_dummy_link')] in RMN detail\n",
      "map with 3 places in RMN\n",
      "map with 4 places in Gallery of Heroes\n",
      "map with 3 places in RMN\n",
      "map with 4 places in Gallery of Heroes\n",
      "map with 1 places in Haldeman\n",
      "map with 4 places in Gallery of Heroes\n",
      "map with 3 places in RMN\n",
      "message with 1 choices [Choice(key='*', label='OK', name='_dummy_link')] in RMN detail\n",
      "map with 3 places in RMN\n",
      "map with 4 places in Gallery of Heroes\n",
      "map with 1 places in Haldeman\n",
      "map with 4 places in Gallery of Heroes\n",
      "map with 2 places in Colson\n",
      "map with 4 places in Gallery of Heroes\n",
      "map with 2 places in Colson\n",
      "map with 4 places in Gallery of Heroes\n",
      "map with 1 places in Haldeman\n",
      "map with 4 places in Gallery of Heroes\n",
      "map with 1 places in Haldeman\n",
      "map with 4 places in Gallery of Heroes\n",
      "map with 1 places in Ehrlichman\n",
      "map with 4 places in Gallery of Heroes\n",
      "map with 1 places in Haldeman\n",
      "map with 4 places in Gallery of Heroes\n",
      "map with 3 places in RMN\n",
      "message with 1 choices [Choice(key='*', label='OK', name='_dummy_link')] in RMN detail\n",
      "map with 3 places in RMN\n",
      "map with 4 places in Gallery of Heroes\n",
      "map with 2 places in Colson\n",
      "map with 4 places in Gallery of Heroes\n",
      "map with 1 places in Haldeman\n",
      "map with 4 places in Gallery of Heroes\n",
      "map with 1 places in Ehrlichman\n",
      "map with 4 places in Gallery of Heroes\n",
      "map with 1 places in Ehrlichman\n",
      "map with 4 places in Gallery of Heroes\n",
      "map with 1 places in Ehrlichman\n",
      "map with 4 places in Gallery of Heroes\n",
      "map with 2 places in Colson\n",
      "map with 4 places in Gallery of Heroes\n",
      "map with 3 places in RMN\n",
      "message with 1 choices [Choice(key='*', label='OK', name='_dummy_link')] in RMN detail\n",
      "map with 3 places in RMN\n",
      "map with 4 places in Gallery of Heroes\n",
      "map with 1 places in Haldeman\n",
      "map with 4 places in Gallery of Heroes\n",
      "map with 2 places in Colson\n",
      "message with 1 choices [Choice(key='a', label='Rise', name='_dummy_link')] in A special place\n",
      "map with 2 places in Colson\n",
      "map with 4 places in Gallery of Heroes\n",
      "map with 1 places in Haldeman\n",
      "map with 4 places in Gallery of Heroes\n",
      "map with 1 places in Haldeman\n",
      "map with 4 places in Gallery of Heroes\n",
      "map with 1 places in Ehrlichman\n",
      "map with 4 places in Gallery of Heroes\n",
      "map with 2 places in Colson\n",
      "message with 1 choices [Choice(key='a', label='Rise', name='_dummy_link')] in A special place\n",
      "map with 2 places in Colson\n",
      "message with 1 choices [Choice(key='a', label='Rise', name='_dummy_link')] in A special place\n",
      "map with 2 places in Colson\n",
      "map with 4 places in Gallery of Heroes\n",
      "map with 2 places in Colson\n",
      "map with 4 places in Gallery of Heroes\n",
      "map with 1 places in Haldeman\n",
      "map with 4 places in Gallery of Heroes\n",
      "map with 3 places in RMN\n",
      "message with 1 choices [Choice(key='*', label='OK', name='_dummy_link')] in RMN detail\n",
      "map with 3 places in RMN\n",
      "map with 4 places in Gallery of Heroes\n",
      "map with 2 places in Colson\n",
      "map with 4 places in Gallery of Heroes\n",
      "map with 2 places in Colson\n",
      "map with 4 places in Gallery of Heroes\n",
      "map with 2 places in Colson\n",
      "message with 1 choices [Choice(key='a', label='Rise', name='_dummy_link')] in A special place\n",
      "map with 2 places in Colson\n",
      "message with 1 choices [Choice(key='a', label='Rise', name='_dummy_link')] in A special place\n",
      "map with 2 places in Colson\n",
      "map with 4 places in Gallery of Heroes\n",
      "map with 1 places in Ehrlichman\n",
      "map with 4 places in Gallery of Heroes\n",
      "map with 3 places in RMN\n",
      "message with 1 choices [Choice(key='*', label='OK', name='_dummy_link')] in RMN detail\n",
      "map with 3 places in RMN\n",
      "message with 1 choices [Choice(key='*', label='OK', name='_dummy_link')] in RMN detail\n",
      "map with 3 places in RMN\n",
      "message with 1 choices [Choice(key='*', label='OK', name='_dummy_link')] in RMN detail\n",
      "map with 3 places in RMN\n",
      "map with 6 places in Oval Office\n",
      "message with 3 choices [Choice(key='a', label='Put down the phone', name='_dummy_link'), Choice(key='b', label='Give the General a piece of your mind', name='_dummy_link'), Choice(key='c', label='Topple the aquarium, releasing the beast within', name='_dummy_link')] in President's phone\n",
      "ctenophora found in Fight ctenophora\n",
      "map with 6 places in Oval Office\n",
      "message with 1 choices [Choice(key='a', label='Turn away', name='_dummy_link')] in Christmas card\n",
      "map with 6 places in Oval Office\n",
      "message with 1 choices [Choice(key='a', label='Turn away', name='_dummy_link')] in Christmas card\n",
      "map with 6 places in Oval Office\n",
      "message with 3 choices [Choice(key='a', label='Put down the phone', name='_dummy_link'), Choice(key='b', label='Give the General a piece of your mind', name='_dummy_link'), Choice(key='c', label='Topple the aquarium, releasing the beast within', name='_dummy_link')] in President's phone\n",
      "generalAbrams found in Fight general\n",
      "message with 1 choices [Choice(key='a', label='OK', name='_dummy_link')] in Hall of Champions\n",
      "map with 3 places in RMN\n",
      "map with 4 places in Gallery of Heroes\n",
      "map with 1 places in Haldeman\n",
      "map with 4 places in Gallery of Heroes\n",
      "map with 1 places in Haldeman\n",
      "map with 4 places in Gallery of Heroes\n",
      "map with 3 places in RMN\n",
      "map with 6 places in Oval Office\n",
      "message with 3 choices [Choice(key='a', label='Put down the phone', name='_dummy_link'), Choice(key='b', label='Give the General a piece of your mind', name='_dummy_link'), Choice(key='c', label='Topple the aquarium, releasing the beast within', name='_dummy_link')] in President's phone\n",
      "ctenophora found in Fight ctenophora\n",
      "map with 6 places in Oval Office\n",
      "message with 1 choices [Choice(key='a', label='Step away from the flag', name='_dummy_link')] in Flag of Nixon\n",
      "map with 6 places in Oval Office\n",
      "message with 1 choices [Choice(key='a', label='Step away from the flag', name='_dummy_link')] in Flag of Nixon\n",
      "map with 6 places in Oval Office\n",
      "message with 1 choices [Choice(key='a', label='Step away from the Duke', name='_dummy_link')] in Cowboy statue\n",
      "map with 6 places in Oval Office\n",
      "message with 3 choices [Choice(key='a', label='Put down the phone', name='_dummy_link'), Choice(key='b', label='Give the General a piece of your mind', name='_dummy_link'), Choice(key='c', label='Topple the aquarium, releasing the beast within', name='_dummy_link')] in President's phone\n",
      "map with 6 places in Oval Office\n",
      "message with 3 choices [Choice(key='a', label='Put down the phone', name='_dummy_link'), Choice(key='b', label='Give the General a piece of your mind', name='_dummy_link'), Choice(key='c', label='Topple the aquarium, releasing the beast within', name='_dummy_link')] in President's phone\n",
      "ctenophora found in Fight ctenophora\n",
      "map with 6 places in Oval Office\n",
      "map with 4 places in Gallery of Heroes\n",
      "map with 2 places in Colson\n",
      "map with 4 places in Gallery of Heroes\n",
      "map with 2 places in Colson\n",
      "message with 1 choices [Choice(key='a', label='Rise', name='_dummy_link')] in A special place\n",
      "map with 2 places in Colson\n",
      "map with 4 places in Gallery of Heroes\n",
      "map with 1 places in Ehrlichman\n",
      "map with 4 places in Gallery of Heroes\n",
      "map with 3 places in RMN\n",
      "message with 1 choices [Choice(key='*', label='OK', name='_dummy_link')] in RMN detail\n",
      "map with 3 places in RMN\n",
      "message with 1 choices [Choice(key='*', label='OK', name='_dummy_link')] in RMN detail\n",
      "map with 3 places in RMN\n",
      "map with 4 places in Gallery of Heroes\n",
      "map with 1 places in Ehrlichman\n",
      "map with 4 places in Gallery of Heroes\n",
      "map with 2 places in Colson\n",
      "message with 1 choices [Choice(key='a', label='Rise', name='_dummy_link')] in A special place\n",
      "map with 2 places in Colson\n",
      "message with 1 choices [Choice(key='a', label='Rise', name='_dummy_link')] in A special place\n",
      "map with 2 places in Colson\n",
      "map with 4 places in Gallery of Heroes\n",
      "map with 1 places in Ehrlichman\n",
      "map with 4 places in Gallery of Heroes\n",
      "map with 3 places in RMN\n",
      "map with 6 places in Oval Office\n",
      "message with 1 choices [Choice(key='a', label='Step away from the flag', name='_dummy_link')] in Flag of Nixon\n",
      "map with 6 places in Oval Office\n",
      "message with 3 choices [Choice(key='a', label='Put down the phone', name='_dummy_link'), Choice(key='b', label='Give the General a piece of your mind', name='_dummy_link'), Choice(key='c', label='Topple the aquarium, releasing the beast within', name='_dummy_link')] in President's phone\n",
      "map with 6 places in Oval Office\n",
      "message with 3 choices [Choice(key='a', label='Put down the phone', name='_dummy_link'), Choice(key='b', label='Give the General a piece of your mind', name='_dummy_link'), Choice(key='c', label='Topple the aquarium, releasing the beast within', name='_dummy_link')] in President's phone\n",
      "generalAbrams found in Fight general\n",
      "map with 6 places in Oval Office\n",
      "message with 1 choices [Choice(key='a', label='Step away from the flag', name='_dummy_link')] in Flag of Nixon\n",
      "map with 6 places in Oval Office\n",
      "message with 3 choices [Choice(key='a', label='Put down the phone', name='_dummy_link'), Choice(key='b', label='Give the General a piece of your mind', name='_dummy_link'), Choice(key='c', label='Topple the aquarium, releasing the beast within', name='_dummy_link')] in President's phone\n",
      "generalAbrams found in Fight general\n",
      "message with 1 choices [Choice(key='a', label='OK', name='_dummy_link')] in Hall of Champions\n",
      "map with 3 places in RMN\n",
      "map with 6 places in Oval Office\n",
      "map with 4 places in Gallery of Heroes\n",
      "map with 3 places in RMN\n",
      "map with 4 places in Gallery of Heroes\n",
      "map with 1 places in Ehrlichman\n",
      "map with 4 places in Gallery of Heroes\n",
      "map with 1 places in Haldeman\n",
      "map with 4 places in Gallery of Heroes\n",
      "map with 3 places in RMN\n",
      "map with 4 places in Gallery of Heroes\n",
      "map with 1 places in Haldeman\n",
      "map with 4 places in Gallery of Heroes\n",
      "map with 1 places in Haldeman\n",
      "map with 4 places in Gallery of Heroes\n",
      "map with 3 places in RMN\n",
      "message with 1 choices [Choice(key='*', label='OK', name='_dummy_link')] in RMN detail\n",
      "map with 3 places in RMN\n",
      "map with 6 places in Oval Office\n",
      "message with 1 choices [Choice(key='a', label='Step away from the Duke', name='_dummy_link')] in Cowboy statue\n",
      "map with 6 places in Oval Office\n",
      "message with 1 choices [Choice(key='a', label='Turn away', name='_dummy_link')] in Christmas card\n",
      "map with 6 places in Oval Office\n",
      "message with 1 choices [Choice(key='a', label='Step away from the flag', name='_dummy_link')] in Flag of Nixon\n",
      "map with 6 places in Oval Office\n",
      "message with 1 choices [Choice(key='a', label='Turn away', name='_dummy_link')] in Christmas card\n",
      "map with 6 places in Oval Office\n",
      "message with 1 choices [Choice(key='a', label='Turn away', name='_dummy_link')] in Christmas card\n",
      "map with 6 places in Oval Office\n",
      "message with 3 choices [Choice(key='a', label='Put down the phone', name='_dummy_link'), Choice(key='b', label='Give the General a piece of your mind', name='_dummy_link'), Choice(key='c', label='Topple the aquarium, releasing the beast within', name='_dummy_link')] in President's phone\n",
      "ctenophora found in Fight ctenophora\n",
      "map with 6 places in Oval Office\n",
      "message with 3 choices [Choice(key='a', label='Put down the phone', name='_dummy_link'), Choice(key='b', label='Give the General a piece of your mind', name='_dummy_link'), Choice(key='c', label='Topple the aquarium, releasing the beast within', name='_dummy_link')] in President's phone\n",
      "generalAbrams found in Fight general\n",
      "map with 6 places in Oval Office\n",
      "map with 4 places in Gallery of Heroes\n",
      "map with 1 places in Haldeman\n",
      "map with 4 places in Gallery of Heroes\n",
      "map with 2 places in Colson\n",
      "message with 1 choices [Choice(key='a', label='Rise', name='_dummy_link')] in A special place\n",
      "map with 2 places in Colson\n",
      "map with 4 places in Gallery of Heroes\n",
      "map with 3 places in RMN\n",
      "map with 6 places in Oval Office\n",
      "message with 3 choices [Choice(key='a', label='Put down the phone', name='_dummy_link'), Choice(key='b', label='Give the General a piece of your mind', name='_dummy_link'), Choice(key='c', label='Topple the aquarium, releasing the beast within', name='_dummy_link')] in President's phone\n",
      "ctenophora found in Fight ctenophora\n",
      "map with 6 places in Oval Office\n",
      "message with 3 choices [Choice(key='a', label='Put down the phone', name='_dummy_link'), Choice(key='b', label='Give the General a piece of your mind', name='_dummy_link'), Choice(key='c', label='Topple the aquarium, releasing the beast within', name='_dummy_link')] in President's phone\n",
      "generalAbrams found in Fight general\n",
      "map with 6 places in Oval Office\n",
      "message with 3 choices [Choice(key='a', label='Put down the phone', name='_dummy_link'), Choice(key='b', label='Give the General a piece of your mind', name='_dummy_link'), Choice(key='c', label='Topple the aquarium, releasing the beast within', name='_dummy_link')] in President's phone\n",
      "generalAbrams found in Fight general\n",
      "map with 6 places in Oval Office\n",
      "message with 1 choices [Choice(key='a', label='Turn away', name='_dummy_link')] in Christmas card\n",
      "map with 6 places in Oval Office\n",
      "message with 1 choices [Choice(key='a', label='Step away from the Duke', name='_dummy_link')] in Cowboy statue\n",
      "map with 6 places in Oval Office\n",
      "message with 1 choices [Choice(key='a', label='Step away from the flag', name='_dummy_link')] in Flag of Nixon\n",
      "map with 6 places in Oval Office\n",
      "message with 1 choices [Choice(key='a', label='Step away from the Duke', name='_dummy_link')] in Cowboy statue\n",
      "map with 6 places in Oval Office\n",
      "message with 3 choices [Choice(key='a', label='Put down the phone', name='_dummy_link'), Choice(key='b', label='Give the General a piece of your mind', name='_dummy_link'), Choice(key='c', label='Topple the aquarium, releasing the beast within', name='_dummy_link')] in President's phone\n",
      "ctenophora found in Fight ctenophora\n",
      "map with 6 places in Oval Office\n",
      "message with 1 choices [Choice(key='a', label='Step away from the Duke', name='_dummy_link')] in Cowboy statue\n",
      "map with 6 places in Oval Office\n",
      "message with 1 choices [Choice(key='a', label='Turn away', name='_dummy_link')] in Christmas card\n",
      "map with 6 places in Oval Office\n",
      "map with 4 places in Gallery of Heroes\n",
      "map with 3 places in RMN\n",
      "map with 4 places in Gallery of Heroes\n",
      "map with 2 places in Colson\n",
      "map with 4 places in Gallery of Heroes\n",
      "map with 2 places in Colson\n",
      "message with 1 choices [Choice(key='a', label='Rise', name='_dummy_link')] in A special place\n",
      "map with 2 places in Colson\n",
      "message with 1 choices [Choice(key='a', label='Rise', name='_dummy_link')] in A special place\n",
      "map with 2 places in Colson\n",
      "map with 4 places in Gallery of Heroes\n",
      "map with 1 places in Ehrlichman\n",
      "map with 4 places in Gallery of Heroes\n",
      "map with 3 places in RMN\n",
      "message with 1 choices [Choice(key='*', label='OK', name='_dummy_link')] in RMN detail\n",
      "map with 3 places in RMN\n",
      "map with 6 places in Oval Office\n",
      "message with 1 choices [Choice(key='a', label='Turn away', name='_dummy_link')] in Christmas card\n",
      "map with 6 places in Oval Office\n",
      "message with 1 choices [Choice(key='a', label='Accept', name='_dummy_link')] in The mission, pt 1\n",
      "message with 3 choices [Choice(key='a', label='Put down the phone', name='_dummy_link'), Choice(key='b', label='Give the General a piece of your mind', name='_dummy_link'), Choice(key='c', label='Topple the aquarium, releasing the beast within', name='_dummy_link')] in President's phone\n",
      "generalAbrams found in Fight general\n",
      "message with 1 choices [Choice(key='a', label='OK', name='_dummy_link')] in Hall of Champions\n",
      "map with 3 places in RMN\n",
      "map with 4 places in Gallery of Heroes\n",
      "map with 1 places in Ehrlichman\n",
      "map with 4 places in Gallery of Heroes\n",
      "map with 2 places in Colson\n",
      "map with 4 places in Gallery of Heroes\n",
      "map with 1 places in Ehrlichman\n",
      "map with 4 places in Gallery of Heroes\n",
      "map with 1 places in Ehrlichman\n",
      "map with 4 places in Gallery of Heroes\n",
      "map with 2 places in Colson\n",
      "message with 1 choices [Choice(key='a', label='Rise', name='_dummy_link')] in A special place\n",
      "map with 2 places in Colson\n",
      "map with 4 places in Gallery of Heroes\n",
      "map with 1 places in Haldeman\n",
      "map with 4 places in Gallery of Heroes\n",
      "map with 2 places in Colson\n",
      "message with 1 choices [Choice(key='a', label='Rise', name='_dummy_link')] in A special place\n",
      "map with 2 places in Colson\n",
      "message with 1 choices [Choice(key='a', label='Rise', name='_dummy_link')] in A special place\n",
      "map with 2 places in Colson\n",
      "map with 4 places in Gallery of Heroes\n",
      "map with 2 places in Colson\n",
      "map with 4 places in Gallery of Heroes\n",
      "map with 1 places in Ehrlichman\n",
      "map with 4 places in Gallery of Heroes\n",
      "map with 1 places in Haldeman\n",
      "map with 4 places in Gallery of Heroes\n",
      "map with 1 places in Haldeman\n",
      "map with 4 places in Gallery of Heroes\n",
      "map with 3 places in RMN\n",
      "message with 1 choices [Choice(key='*', label='OK', name='_dummy_link')] in RMN detail\n",
      "map with 3 places in RMN\n",
      "message with 1 choices [Choice(key='*', label='OK', name='_dummy_link')] in RMN detail\n",
      "map with 3 places in RMN\n",
      "map with 4 places in Gallery of Heroes\n",
      "map with 2 places in Colson\n",
      "message with 1 choices [Choice(key='a', label='Rise', name='_dummy_link')] in A special place\n",
      "map with 2 places in Colson\n",
      "message with 1 choices [Choice(key='a', label='Rise', name='_dummy_link')] in A special place\n",
      "map with 2 places in Colson\n",
      "message with 1 choices [Choice(key='a', label='Rise', name='_dummy_link')] in A special place\n",
      "map with 2 places in Colson\n",
      "message with 1 choices [Choice(key='a', label='Rise', name='_dummy_link')] in A special place\n",
      "map with 2 places in Colson\n",
      "message with 1 choices [Choice(key='a', label='Rise', name='_dummy_link')] in A special place\n",
      "map with 2 places in Colson\n",
      "map with 4 places in Gallery of Heroes\n",
      "map with 3 places in RMN\n",
      "message with 1 choices [Choice(key='*', label='OK', name='_dummy_link')] in RMN detail\n",
      "map with 3 places in RMN\n",
      "map with 6 places in Oval Office\n",
      "map with 4 places in Gallery of Heroes\n",
      "map with 2 places in Colson\n",
      "message with 1 choices [Choice(key='a', label='Rise', name='_dummy_link')] in A special place\n",
      "map with 2 places in Colson\n",
      "message with 1 choices [Choice(key='a', label='Rise', name='_dummy_link')] in A special place\n",
      "map with 2 places in Colson\n",
      "map with 4 places in Gallery of Heroes\n",
      "map with 2 places in Colson\n",
      "map with 4 places in Gallery of Heroes\n",
      "map with 2 places in Colson\n",
      "map with 4 places in Gallery of Heroes\n",
      "map with 1 places in Haldeman\n",
      "map with 4 places in Gallery of Heroes\n",
      "map with 1 places in Haldeman\n",
      "map with 4 places in Gallery of Heroes\n",
      "map with 2 places in Colson\n",
      "message with 1 choices [Choice(key='a', label='Rise', name='_dummy_link')] in A special place\n",
      "map with 2 places in Colson\n",
      "map with 4 places in Gallery of Heroes\n",
      "map with 3 places in RMN\n",
      "map with 6 places in Oval Office\n",
      "message with 1 choices [Choice(key='a', label='Step away from the flag', name='_dummy_link')] in Flag of Nixon\n",
      "map with 6 places in Oval Office\n",
      "message with 1 choices [Choice(key='a', label='Step away from the Duke', name='_dummy_link')] in Cowboy statue\n",
      "map with 6 places in Oval Office\n",
      "message with 1 choices [Choice(key='a', label='Step away from the Duke', name='_dummy_link')] in Cowboy statue\n",
      "map with 6 places in Oval Office\n",
      "message with 3 choices [Choice(key='a', label='Put down the phone', name='_dummy_link'), Choice(key='b', label='Give the General a piece of your mind', name='_dummy_link'), Choice(key='c', label='Topple the aquarium, releasing the beast within', name='_dummy_link')] in President's phone\n",
      "map with 6 places in Oval Office\n",
      "message with 1 choices [Choice(key='a', label='Step away from the flag', name='_dummy_link')] in Flag of Nixon\n",
      "map with 6 places in Oval Office\n",
      "message with 1 choices [Choice(key='a', label='Step away from the Duke', name='_dummy_link')] in Cowboy statue\n",
      "map with 6 places in Oval Office\n",
      "message with 3 choices [Choice(key='a', label='Put down the phone', name='_dummy_link'), Choice(key='b', label='Give the General a piece of your mind', name='_dummy_link'), Choice(key='c', label='Topple the aquarium, releasing the beast within', name='_dummy_link')] in President's phone\n",
      "map with 6 places in Oval Office\n",
      "map with 4 places in Gallery of Heroes\n",
      "map with 1 places in Haldeman\n",
      "map with 4 places in Gallery of Heroes\n",
      "map with 2 places in Colson\n",
      "map with 4 places in Gallery of Heroes\n",
      "map with 1 places in Ehrlichman\n",
      "map with 4 places in Gallery of Heroes\n",
      "map with 1 places in Ehrlichman\n",
      "map with 4 places in Gallery of Heroes\n",
      "map with 3 places in RMN\n",
      "message with 1 choices [Choice(key='*', label='OK', name='_dummy_link')] in RMN detail\n",
      "map with 3 places in RMN\n",
      "message with 1 choices [Choice(key='*', label='OK', name='_dummy_link')] in RMN detail\n",
      "map with 3 places in RMN\n",
      "map with 4 places in Gallery of Heroes\n",
      "map with 3 places in RMN\n",
      "message with 1 choices [Choice(key='*', label='OK', name='_dummy_link')] in RMN detail\n",
      "map with 3 places in RMN\n",
      "map with 4 places in Gallery of Heroes\n",
      "map with 3 places in RMN\n",
      "map with 6 places in Oval Office\n",
      "map with 4 places in Gallery of Heroes\n",
      "map with 2 places in Colson\n",
      "map with 4 places in Gallery of Heroes\n",
      "map with 2 places in Colson\n",
      "message with 1 choices [Choice(key='a', label='Rise', name='_dummy_link')] in A special place\n",
      "map with 2 places in Colson\n",
      "map with 4 places in Gallery of Heroes\n",
      "map with 2 places in Colson\n",
      "message with 1 choices [Choice(key='a', label='Rise', name='_dummy_link')] in A special place\n",
      "map with 2 places in Colson\n",
      "map with 4 places in Gallery of Heroes\n",
      "map with 1 places in Ehrlichman\n",
      "map with 4 places in Gallery of Heroes\n",
      "map with 2 places in Colson\n",
      "map with 4 places in Gallery of Heroes\n",
      "map with 2 places in Colson\n",
      "message with 1 choices [Choice(key='a', label='Rise', name='_dummy_link')] in A special place\n",
      "map with 2 places in Colson\n",
      "message with 1 choices [Choice(key='a', label='Rise', name='_dummy_link')] in A special place\n",
      "map with 2 places in Colson\n",
      "map with 4 places in Gallery of Heroes\n",
      "map with 1 places in Haldeman\n",
      "map with 4 places in Gallery of Heroes\n",
      "map with 1 places in Haldeman\n",
      "map with 4 places in Gallery of Heroes\n",
      "map with 1 places in Ehrlichman\n",
      "map with 4 places in Gallery of Heroes\n",
      "map with 1 places in Haldeman\n",
      "map with 4 places in Gallery of Heroes\n",
      "map with 1 places in Ehrlichman\n",
      "map with 4 places in Gallery of Heroes\n",
      "map with 2 places in Colson\n",
      "map with 4 places in Gallery of Heroes\n",
      "map with 3 places in RMN\n",
      "message with 1 choices [Choice(key='*', label='OK', name='_dummy_link')] in RMN detail\n",
      "map with 3 places in RMN\n",
      "map with 4 places in Gallery of Heroes\n",
      "map with 1 places in Ehrlichman\n",
      "map with 4 places in Gallery of Heroes\n",
      "map with 1 places in Haldeman\n",
      "map with 4 places in Gallery of Heroes\n",
      "map with 1 places in Haldeman\n",
      "map with 4 places in Gallery of Heroes\n",
      "map with 1 places in Haldeman\n",
      "map with 4 places in Gallery of Heroes\n",
      "map with 3 places in RMN\n",
      "message with 1 choices [Choice(key='*', label='OK', name='_dummy_link')] in RMN detail\n",
      "map with 3 places in RMN\n",
      "message with 1 choices [Choice(key='*', label='OK', name='_dummy_link')] in RMN detail\n",
      "map with 3 places in RMN\n",
      "map with 6 places in Oval Office\n",
      "message with 1 choices [Choice(key='a', label='Step away from the Duke', name='_dummy_link')] in Cowboy statue\n",
      "map with 6 places in Oval Office\n",
      "message with 1 choices [Choice(key='a', label='Step away from the flag', name='_dummy_link')] in Flag of Nixon\n",
      "map with 6 places in Oval Office\n",
      "message with 3 choices [Choice(key='a', label='Put down the phone', name='_dummy_link'), Choice(key='b', label='Give the General a piece of your mind', name='_dummy_link'), Choice(key='c', label='Topple the aquarium, releasing the beast within', name='_dummy_link')] in President's phone\n",
      "map with 6 places in Oval Office\n",
      "message with 1 choices [Choice(key='a', label='Step away from the flag', name='_dummy_link')] in Flag of Nixon\n",
      "map with 6 places in Oval Office\n",
      "message with 3 choices [Choice(key='a', label='Put down the phone', name='_dummy_link'), Choice(key='b', label='Give the General a piece of your mind', name='_dummy_link'), Choice(key='c', label='Topple the aquarium, releasing the beast within', name='_dummy_link')] in President's phone\n",
      "map with 6 places in Oval Office\n",
      "message with 3 choices [Choice(key='a', label='Put down the phone', name='_dummy_link'), Choice(key='b', label='Give the General a piece of your mind', name='_dummy_link'), Choice(key='c', label='Topple the aquarium, releasing the beast within', name='_dummy_link')] in President's phone\n",
      "generalAbrams found in Fight general\n",
      "message with 1 choices [Choice(key='a', label='OK', name='_dummy_link')] in Hall of Champions\n",
      "map with 3 places in RMN\n",
      "map with 4 places in Gallery of Heroes\n",
      "map with 1 places in Haldeman\n",
      "map with 4 places in Gallery of Heroes\n",
      "map with 1 places in Ehrlichman\n",
      "map with 4 places in Gallery of Heroes\n",
      "map with 1 places in Haldeman\n",
      "map with 4 places in Gallery of Heroes\n",
      "map with 3 places in RMN\n",
      "map with 6 places in Oval Office\n",
      "message with 3 choices [Choice(key='a', label='Put down the phone', name='_dummy_link'), Choice(key='b', label='Give the General a piece of your mind', name='_dummy_link'), Choice(key='c', label='Topple the aquarium, releasing the beast within', name='_dummy_link')] in President's phone\n",
      "ctenophora found in Fight ctenophora\n",
      "map with 6 places in Oval Office\n",
      "message with 1 choices [Choice(key='a', label='Turn away', name='_dummy_link')] in Christmas card\n",
      "map with 6 places in Oval Office\n",
      "message with 1 choices [Choice(key='a', label='Step away from the flag', name='_dummy_link')] in Flag of Nixon\n",
      "map with 6 places in Oval Office\n",
      "message with 1 choices [Choice(key='a', label='Turn away', name='_dummy_link')] in Christmas card\n",
      "map with 6 places in Oval Office\n",
      "message with 1 choices [Choice(key='a', label='Accept', name='_dummy_link')] in The mission, pt 1\n",
      "message with 3 choices [Choice(key='a', label='Put down the phone', name='_dummy_link'), Choice(key='b', label='Give the General a piece of your mind', name='_dummy_link'), Choice(key='c', label='Topple the aquarium, releasing the beast within', name='_dummy_link')] in President's phone\n",
      "map with 6 places in Oval Office\n",
      "message with 1 choices [Choice(key='a', label='Accept', name='_dummy_link')] in The mission, pt 1\n",
      "message with 3 choices [Choice(key='a', label='Put down the phone', name='_dummy_link'), Choice(key='b', label='Give the General a piece of your mind', name='_dummy_link'), Choice(key='c', label='Topple the aquarium, releasing the beast within', name='_dummy_link')] in President's phone\n",
      "ctenophora found in Fight ctenophora\n",
      "map with 6 places in Oval Office\n",
      "map with 4 places in Gallery of Heroes\n",
      "map with 1 places in Ehrlichman\n",
      "map with 4 places in Gallery of Heroes\n",
      "map with 2 places in Colson\n",
      "map with 4 places in Gallery of Heroes\n",
      "map with 1 places in Ehrlichman\n",
      "map with 4 places in Gallery of Heroes\n",
      "map with 1 places in Ehrlichman\n",
      "map with 4 places in Gallery of Heroes\n",
      "map with 3 places in RMN\n",
      "message with 1 choices [Choice(key='*', label='OK', name='_dummy_link')] in RMN detail\n",
      "map with 3 places in RMN\n",
      "message with 1 choices [Choice(key='*', label='OK', name='_dummy_link')] in RMN detail\n",
      "map with 3 places in RMN\n",
      "map with 6 places in Oval Office\n",
      "message with 3 choices [Choice(key='a', label='Put down the phone', name='_dummy_link'), Choice(key='b', label='Give the General a piece of your mind', name='_dummy_link'), Choice(key='c', label='Topple the aquarium, releasing the beast within', name='_dummy_link')] in President's phone\n",
      "generalAbrams found in Fight general\n",
      "message with 1 choices [Choice(key='a', label='OK', name='_dummy_link')] in Hall of Champions\n",
      "map with 3 places in RMN\n",
      "message with 1 choices [Choice(key='*', label='OK', name='_dummy_link')] in RMN detail\n",
      "map with 3 places in RMN\n",
      "message with 1 choices [Choice(key='*', label='OK', name='_dummy_link')] in RMN detail\n",
      "map with 3 places in RMN\n",
      "message with 1 choices [Choice(key='*', label='OK', name='_dummy_link')] in RMN detail\n",
      "map with 3 places in RMN\n",
      "map with 4 places in Gallery of Heroes\n",
      "map with 1 places in Haldeman\n",
      "map with 4 places in Gallery of Heroes\n",
      "map with 1 places in Ehrlichman\n",
      "map with 4 places in Gallery of Heroes\n",
      "map with 1 places in Ehrlichman\n",
      "map with 4 places in Gallery of Heroes\n",
      "map with 2 places in Colson\n",
      "map with 4 places in Gallery of Heroes\n",
      "map with 3 places in RMN\n",
      "map with 6 places in Oval Office\n",
      "message with 1 choices [Choice(key='a', label='Step away from the flag', name='_dummy_link')] in Flag of Nixon\n",
      "map with 6 places in Oval Office\n",
      "message with 1 choices [Choice(key='a', label='Accept', name='_dummy_link')] in The mission, pt 1\n",
      "message with 3 choices [Choice(key='a', label='Put down the phone', name='_dummy_link'), Choice(key='b', label='Give the General a piece of your mind', name='_dummy_link'), Choice(key='c', label='Topple the aquarium, releasing the beast within', name='_dummy_link')] in President's phone\n",
      "ctenophora found in Fight ctenophora\n",
      "map with 6 places in Oval Office\n",
      "message with 1 choices [Choice(key='a', label='Turn away', name='_dummy_link')] in Christmas card\n",
      "map with 6 places in Oval Office\n",
      "message with 1 choices [Choice(key='a', label='Turn away', name='_dummy_link')] in Christmas card\n",
      "map with 6 places in Oval Office\n",
      "message with 1 choices [Choice(key='a', label='Turn away', name='_dummy_link')] in Christmas card\n",
      "map with 6 places in Oval Office\n",
      "message with 1 choices [Choice(key='a', label='Step away from the flag', name='_dummy_link')] in Flag of Nixon\n",
      "map with 6 places in Oval Office\n",
      "message with 3 choices [Choice(key='a', label='Put down the phone', name='_dummy_link'), Choice(key='b', label='Give the General a piece of your mind', name='_dummy_link'), Choice(key='c', label='Topple the aquarium, releasing the beast within', name='_dummy_link')] in President's phone\n",
      "map with 6 places in Oval Office\n",
      "message with 3 choices [Choice(key='a', label='Put down the phone', name='_dummy_link'), Choice(key='b', label='Give the General a piece of your mind', name='_dummy_link'), Choice(key='c', label='Topple the aquarium, releasing the beast within', name='_dummy_link')] in President's phone\n",
      "map with 6 places in Oval Office\n",
      "message with 1 choices [Choice(key='a', label='Step away from the Duke', name='_dummy_link')] in Cowboy statue\n",
      "map with 6 places in Oval Office\n",
      "message with 3 choices [Choice(key='a', label='Put down the phone', name='_dummy_link'), Choice(key='b', label='Give the General a piece of your mind', name='_dummy_link'), Choice(key='c', label='Topple the aquarium, releasing the beast within', name='_dummy_link')] in President's phone\n",
      "generalAbrams found in Fight general\n",
      "map with 6 places in Oval Office\n",
      "message with 1 choices [Choice(key='a', label='Turn away', name='_dummy_link')] in Christmas card\n",
      "map with 6 places in Oval Office\n",
      "message with 1 choices [Choice(key='a', label='Turn away', name='_dummy_link')] in Christmas card\n",
      "map with 6 places in Oval Office\n",
      "message with 1 choices [Choice(key='a', label='Step away from the flag', name='_dummy_link')] in Flag of Nixon\n",
      "map with 6 places in Oval Office\n",
      "message with 1 choices [Choice(key='a', label='Step away from the flag', name='_dummy_link')] in Flag of Nixon\n",
      "map with 6 places in Oval Office\n",
      "message with 1 choices [Choice(key='a', label='Step away from the Duke', name='_dummy_link')] in Cowboy statue\n",
      "map with 6 places in Oval Office\n",
      "message with 1 choices [Choice(key='a', label='Turn away', name='_dummy_link')] in Christmas card\n",
      "map with 6 places in Oval Office\n",
      "message with 1 choices [Choice(key='a', label='Turn away', name='_dummy_link')] in Christmas card\n",
      "map with 6 places in Oval Office\n",
      "map with 4 places in Gallery of Heroes\n",
      "map with 1 places in Haldeman\n",
      "map with 4 places in Gallery of Heroes\n",
      "map with 1 places in Ehrlichman\n",
      "map with 4 places in Gallery of Heroes\n",
      "map with 2 places in Colson\n",
      "message with 1 choices [Choice(key='a', label='Rise', name='_dummy_link')] in A special place\n",
      "map with 2 places in Colson\n",
      "message with 1 choices [Choice(key='a', label='Rise', name='_dummy_link')] in A special place\n",
      "map with 2 places in Colson\n",
      "map with 4 places in Gallery of Heroes\n",
      "map with 2 places in Colson\n",
      "map with 4 places in Gallery of Heroes\n",
      "map with 1 places in Haldeman\n",
      "map with 4 places in Gallery of Heroes\n",
      "map with 1 places in Haldeman\n",
      "map with 4 places in Gallery of Heroes\n",
      "map with 2 places in Colson\n",
      "message with 1 choices [Choice(key='a', label='Rise', name='_dummy_link')] in A special place\n",
      "map with 2 places in Colson\n",
      "map with 4 places in Gallery of Heroes\n",
      "map with 3 places in RMN\n",
      "message with 1 choices [Choice(key='*', label='OK', name='_dummy_link')] in RMN detail\n",
      "map with 3 places in RMN\n",
      "map with 4 places in Gallery of Heroes\n",
      "map with 3 places in RMN\n",
      "map with 6 places in Oval Office\n",
      "message with 1 choices [Choice(key='a', label='Step away from the Duke', name='_dummy_link')] in Cowboy statue\n",
      "map with 6 places in Oval Office\n",
      "message with 1 choices [Choice(key='a', label='Accept', name='_dummy_link')] in The mission, pt 1\n",
      "message with 3 choices [Choice(key='a', label='Put down the phone', name='_dummy_link'), Choice(key='b', label='Give the General a piece of your mind', name='_dummy_link'), Choice(key='c', label='Topple the aquarium, releasing the beast within', name='_dummy_link')] in President's phone\n",
      "generalAbrams found in Fight general\n",
      "map with 6 places in Oval Office\n",
      "message with 1 choices [Choice(key='a', label='Step away from the flag', name='_dummy_link')] in Flag of Nixon\n",
      "map with 6 places in Oval Office\n",
      "message with 1 choices [Choice(key='a', label='Accept', name='_dummy_link')] in The mission, pt 1\n",
      "message with 3 choices [Choice(key='a', label='Put down the phone', name='_dummy_link'), Choice(key='b', label='Give the General a piece of your mind', name='_dummy_link'), Choice(key='c', label='Topple the aquarium, releasing the beast within', name='_dummy_link')] in President's phone\n",
      "ctenophora found in Fight ctenophora\n",
      "map with 6 places in Oval Office\n",
      "map with 4 places in Gallery of Heroes\n",
      "map with 1 places in Haldeman\n",
      "map with 4 places in Gallery of Heroes\n",
      "map with 1 places in Haldeman\n",
      "map with 4 places in Gallery of Heroes\n",
      "map with 3 places in RMN\n",
      "map with 4 places in Gallery of Heroes\n",
      "map with 2 places in Colson\n",
      "message with 1 choices [Choice(key='a', label='Rise', name='_dummy_link')] in A special place\n",
      "map with 2 places in Colson\n",
      "message with 1 choices [Choice(key='a', label='Rise', name='_dummy_link')] in A special place\n",
      "map with 2 places in Colson\n",
      "message with 1 choices [Choice(key='a', label='Rise', name='_dummy_link')] in A special place\n",
      "map with 2 places in Colson\n",
      "map with 4 places in Gallery of Heroes\n",
      "map with 1 places in Haldeman\n",
      "map with 4 places in Gallery of Heroes\n",
      "map with 1 places in Haldeman\n",
      "map with 4 places in Gallery of Heroes\n",
      "map with 1 places in Haldeman\n",
      "map with 4 places in Gallery of Heroes\n",
      "map with 3 places in RMN\n",
      "message with 1 choices [Choice(key='*', label='OK', name='_dummy_link')] in RMN detail\n",
      "map with 3 places in RMN\n",
      "map with 6 places in Oval Office\n",
      "message with 1 choices [Choice(key='a', label='Step away from the Duke', name='_dummy_link')] in Cowboy statue\n",
      "map with 6 places in Oval Office\n",
      "message with 1 choices [Choice(key='a', label='Step away from the Duke', name='_dummy_link')] in Cowboy statue\n",
      "map with 6 places in Oval Office\n",
      "map with 4 places in Gallery of Heroes\n",
      "map with 1 places in Haldeman\n",
      "map with 4 places in Gallery of Heroes\n",
      "map with 2 places in Colson\n",
      "message with 1 choices [Choice(key='a', label='Rise', name='_dummy_link')] in A special place\n",
      "map with 2 places in Colson\n",
      "message with 1 choices [Choice(key='a', label='Rise', name='_dummy_link')] in A special place\n",
      "map with 2 places in Colson\n",
      "map with 4 places in Gallery of Heroes\n",
      "map with 3 places in RMN\n",
      "map with 4 places in Gallery of Heroes\n",
      "map with 1 places in Haldeman\n",
      "map with 4 places in Gallery of Heroes\n",
      "map with 1 places in Haldeman\n",
      "map with 4 places in Gallery of Heroes\n",
      "map with 3 places in RMN\n",
      "map with 6 places in Oval Office\n",
      "message with 1 choices [Choice(key='a', label='Step away from the Duke', name='_dummy_link')] in Cowboy statue\n",
      "map with 6 places in Oval Office\n",
      "message with 1 choices [Choice(key='a', label='Turn away', name='_dummy_link')] in Christmas card\n",
      "map with 6 places in Oval Office\n",
      "message with 1 choices [Choice(key='a', label='Step away from the Duke', name='_dummy_link')] in Cowboy statue\n",
      "map with 6 places in Oval Office\n",
      "map with 4 places in Gallery of Heroes\n",
      "map with 1 places in Ehrlichman\n",
      "map with 4 places in Gallery of Heroes\n",
      "map with 2 places in Colson\n",
      "map with 4 places in Gallery of Heroes\n",
      "map with 1 places in Haldeman\n",
      "map with 4 places in Gallery of Heroes\n",
      "map with 1 places in Haldeman\n",
      "map with 4 places in Gallery of Heroes\n",
      "map with 3 places in RMN\n",
      "message with 1 choices [Choice(key='*', label='OK', name='_dummy_link')] in RMN detail\n",
      "map with 3 places in RMN\n",
      "message with 1 choices [Choice(key='*', label='OK', name='_dummy_link')] in RMN detail\n",
      "map with 3 places in RMN\n",
      "map with 6 places in Oval Office\n",
      "message with 1 choices [Choice(key='a', label='Turn away', name='_dummy_link')] in Christmas card\n",
      "map with 6 places in Oval Office\n",
      "message with 1 choices [Choice(key='a', label='Turn away', name='_dummy_link')] in Christmas card\n",
      "map with 6 places in Oval Office\n",
      "message with 1 choices [Choice(key='a', label='Step away from the flag', name='_dummy_link')] in Flag of Nixon\n",
      "map with 6 places in Oval Office\n",
      "message with 1 choices [Choice(key='a', label='Step away from the Duke', name='_dummy_link')] in Cowboy statue\n",
      "map with 6 places in Oval Office\n",
      "message with 1 choices [Choice(key='a', label='Turn away', name='_dummy_link')] in Christmas card\n",
      "map with 6 places in Oval Office\n",
      "message with 1 choices [Choice(key='a', label='Accept', name='_dummy_link')] in The mission, pt 1\n",
      "message with 3 choices [Choice(key='a', label='Put down the phone', name='_dummy_link'), Choice(key='b', label='Give the General a piece of your mind', name='_dummy_link'), Choice(key='c', label='Topple the aquarium, releasing the beast within', name='_dummy_link')] in President's phone\n",
      "ctenophora found in Fight ctenophora\n",
      "map with 6 places in Oval Office\n",
      "message with 3 choices [Choice(key='a', label='Put down the phone', name='_dummy_link'), Choice(key='b', label='Give the General a piece of your mind', name='_dummy_link'), Choice(key='c', label='Topple the aquarium, releasing the beast within', name='_dummy_link')] in President's phone\n",
      "ctenophora found in Fight ctenophora\n",
      "map with 6 places in Oval Office\n",
      "message with 1 choices [Choice(key='a', label='Accept', name='_dummy_link')] in The mission, pt 1\n",
      "message with 3 choices [Choice(key='a', label='Put down the phone', name='_dummy_link'), Choice(key='b', label='Give the General a piece of your mind', name='_dummy_link'), Choice(key='c', label='Topple the aquarium, releasing the beast within', name='_dummy_link')] in President's phone\n",
      "ctenophora found in Fight ctenophora\n",
      "map with 6 places in Oval Office\n",
      "message with 1 choices [Choice(key='a', label='Turn away', name='_dummy_link')] in Christmas card\n",
      "map with 6 places in Oval Office\n",
      "message with 1 choices [Choice(key='a', label='Accept', name='_dummy_link')] in The mission, pt 1\n",
      "message with 3 choices [Choice(key='a', label='Put down the phone', name='_dummy_link'), Choice(key='b', label='Give the General a piece of your mind', name='_dummy_link'), Choice(key='c', label='Topple the aquarium, releasing the beast within', name='_dummy_link')] in President's phone\n",
      "ctenophora found in Fight ctenophora\n",
      "map with 6 places in Oval Office\n",
      "map with 4 places in Gallery of Heroes\n",
      "map with 3 places in RMN\n",
      "map with 4 places in Gallery of Heroes\n",
      "map with 2 places in Colson\n",
      "map with 4 places in Gallery of Heroes\n",
      "map with 1 places in Haldeman\n",
      "map with 4 places in Gallery of Heroes\n",
      "map with 2 places in Colson\n",
      "map with 4 places in Gallery of Heroes\n",
      "map with 2 places in Colson\n",
      "map with 4 places in Gallery of Heroes\n",
      "map with 2 places in Colson\n",
      "map with 4 places in Gallery of Heroes\n",
      "map with 2 places in Colson\n",
      "map with 4 places in Gallery of Heroes\n",
      "map with 2 places in Colson\n",
      "message with 1 choices [Choice(key='a', label='Rise', name='_dummy_link')] in A special place\n",
      "map with 2 places in Colson\n",
      "message with 1 choices [Choice(key='a', label='Rise', name='_dummy_link')] in A special place\n",
      "map with 2 places in Colson\n",
      "message with 1 choices [Choice(key='a', label='Rise', name='_dummy_link')] in A special place\n",
      "map with 2 places in Colson\n",
      "map with 4 places in Gallery of Heroes\n",
      "map with 3 places in RMN\n",
      "map with 6 places in Oval Office\n",
      "message with 3 choices [Choice(key='a', label='Put down the phone', name='_dummy_link'), Choice(key='b', label='Give the General a piece of your mind', name='_dummy_link'), Choice(key='c', label='Topple the aquarium, releasing the beast within', name='_dummy_link')] in President's phone\n",
      "ctenophora found in Fight ctenophora\n",
      "map with 6 places in Oval Office\n",
      "message with 3 choices [Choice(key='a', label='Put down the phone', name='_dummy_link'), Choice(key='b', label='Give the General a piece of your mind', name='_dummy_link'), Choice(key='c', label='Topple the aquarium, releasing the beast within', name='_dummy_link')] in President's phone\n",
      "map with 6 places in Oval Office\n",
      "map with 4 places in Gallery of Heroes\n",
      "map with 1 places in Ehrlichman\n",
      "map with 4 places in Gallery of Heroes\n",
      "map with 1 places in Ehrlichman\n",
      "map with 4 places in Gallery of Heroes\n",
      "map with 1 places in Haldeman\n",
      "map with 4 places in Gallery of Heroes\n",
      "map with 3 places in RMN\n",
      "map with 6 places in Oval Office\n",
      "map with 4 places in Gallery of Heroes\n",
      "map with 1 places in Haldeman\n",
      "map with 4 places in Gallery of Heroes\n",
      "map with 1 places in Ehrlichman\n",
      "map with 4 places in Gallery of Heroes\n",
      "map with 3 places in RMN\n",
      "map with 6 places in Oval Office\n",
      "map with 4 places in Gallery of Heroes\n",
      "map with 1 places in Haldeman\n",
      "map with 4 places in Gallery of Heroes\n",
      "map with 1 places in Haldeman\n",
      "map with 4 places in Gallery of Heroes\n",
      "map with 3 places in RMN\n",
      "message with 1 choices [Choice(key='*', label='OK', name='_dummy_link')] in RMN detail\n",
      "map with 3 places in RMN\n",
      "message with 1 choices [Choice(key='*', label='OK', name='_dummy_link')] in RMN detail\n",
      "map with 3 places in RMN\n",
      "map with 6 places in Oval Office\n",
      "message with 1 choices [Choice(key='a', label='Step away from the Duke', name='_dummy_link')] in Cowboy statue\n",
      "map with 6 places in Oval Office\n",
      "message with 1 choices [Choice(key='a', label='Turn away', name='_dummy_link')] in Christmas card\n",
      "map with 6 places in Oval Office\n",
      "message with 1 choices [Choice(key='a', label='Step away from the Duke', name='_dummy_link')] in Cowboy statue\n",
      "map with 6 places in Oval Office\n",
      "message with 1 choices [Choice(key='a', label='Step away from the flag', name='_dummy_link')] in Flag of Nixon\n",
      "map with 6 places in Oval Office\n",
      "message with 1 choices [Choice(key='a', label='Step away from the flag', name='_dummy_link')] in Flag of Nixon\n",
      "map with 6 places in Oval Office\n",
      "message with 1 choices [Choice(key='a', label='Accept', name='_dummy_link')] in The mission, pt 1\n",
      "message with 3 choices [Choice(key='a', label='Put down the phone', name='_dummy_link'), Choice(key='b', label='Give the General a piece of your mind', name='_dummy_link'), Choice(key='c', label='Topple the aquarium, releasing the beast within', name='_dummy_link')] in President's phone\n",
      "generalAbrams found in Fight general\n",
      "map with 6 places in Oval Office\n",
      "message with 3 choices [Choice(key='a', label='Put down the phone', name='_dummy_link'), Choice(key='b', label='Give the General a piece of your mind', name='_dummy_link'), Choice(key='c', label='Topple the aquarium, releasing the beast within', name='_dummy_link')] in President's phone\n",
      "ctenophora found in Fight ctenophora\n",
      "map with 6 places in Oval Office\n",
      "message with 1 choices [Choice(key='a', label='Accept', name='_dummy_link')] in The mission, pt 1\n",
      "message with 3 choices [Choice(key='a', label='Put down the phone', name='_dummy_link'), Choice(key='b', label='Give the General a piece of your mind', name='_dummy_link'), Choice(key='c', label='Topple the aquarium, releasing the beast within', name='_dummy_link')] in President's phone\n",
      "ctenophora found in Fight ctenophora\n",
      "map with 6 places in Oval Office\n",
      "message with 1 choices [Choice(key='a', label='Step away from the flag', name='_dummy_link')] in Flag of Nixon\n",
      "map with 6 places in Oval Office\n"
     ]
    }
   ],
   "source": [
    "from random import choice\n",
    "\n",
    "# lots of random transitions\n",
    "\n",
    "for _ in range(1000):\n",
    "    link = choice(links)\n",
    "    g, destination = link.do_transition(g)\n",
    "    passage, tree = passages_[destination]\n",
    "    node, links, g = enter(passage, tree, g)\n"
   ]
  },
  {
   "cell_type": "code",
   "execution_count": 699,
   "metadata": {
    "collapsed": false
   },
   "outputs": [],
   "source": [
    "import cmpd_web\n",
    "reload(cmpd_web)\n",
    "from cmpd_web import GameMaster, Player, LocalGameMaster"
   ]
  },
  {
   "cell_type": "code",
   "execution_count": 700,
   "metadata": {
    "collapsed": true
   },
   "outputs": [
    {
     "name": "stdout",
     "output_type": "stream",
     "text": [
      "did not preprocess (set: $first to \n",
      "\t$a + (text: $places&#39;s 1st&#39;s 1st * 100) + \n",
      "\t$b + (text: $places&#39;s 1st&#39;s 2nd * 100) + \n",
      "\t$c + (text: $places&#39;s 1st&#39;s 3rd) + \n",
      "\t$d\n",
      ")\n",
      "did not preprocess (set: $second to \n",
      "\t$a + (text: $places&#39;s 2nd&#39;s 1st * 100) + \n",
      "\t$b + (text: $places&#39;s 2nd&#39;s 2nd * 100) + \n",
      "\t$c + (text: $places&#39;s 2nd&#39;s 3rd) + \n",
      "\t$d\n",
      ")\n",
      "did not preprocess (set: $third to \n",
      "\t$a + (text: $places&#39;s 3rd&#39;s 1st * 100) + \n",
      "\t$b + (text: $places&#39;s 3rd&#39;s 2nd * 100) + \n",
      "\t$c + (text: $places&#39;s 3rd&#39;s 3rd) + \n",
      "\t$d\n",
      ")\n",
      "did not preprocess (set: $fourth to \n",
      "\t$a + (text: $places&#39;s 4th&#39;s 1st * 100) + \n",
      "\t$b + (text: $places&#39;s 4th&#39;s 2nd * 100) + \n",
      "\t$c + (text: $places&#39;s 4th&#39;s 3rd) + \n",
      "\t$d\n",
      ")\n",
      "did not preprocess (set: $fifth to \n",
      "\t$a + (text: $places&#39;s 5th&#39;s 1st * 100) + \n",
      "\t$b + (text: $places&#39;s 5th&#39;s 2nd * 100) + \n",
      "\t$c + (text: $places&#39;s 5th&#39;s 3rd) + \n",
      "\t$d\n",
      ")\n",
      "did not preprocess (set: $sixth to \n",
      "\t$a + (text: $places&#39;s 6th&#39;s 1st * 100) + \n",
      "\t$b + (text: $places&#39;s 6th&#39;s 2nd * 100) + \n",
      "\t$c + (text: $places&#39;s 6th&#39;s 3rd) + \n",
      "\t$d\n",
      ")\n",
      "did not preprocess (replace: ?map)\n",
      "did not preprocess (text: $divopen + $mapImage + $first + $second + $third + $fourth + $fifth + $sixth + $divend)\n"
     ]
    }
   ],
   "source": [
    "p = Player([], None)\n",
    "\n",
    "gm = LocalGameMaster(p)\n",
    "\n",
    "gm.load_html('resources/harlowe/Nixonland_25.html')"
   ]
  },
  {
   "cell_type": "code",
   "execution_count": 701,
   "metadata": {
    "collapsed": true
   },
   "outputs": [
    {
     "name": "stdout",
     "output_type": "stream",
     "text": [
      "map image url is http://i.imgur.com/Jo8ZIQN.jpg from <img src=\"http://i.imgur.com/Jo8ZIQN.jpg\" \n",
      "height=300>\n",
      "map with 1 places in Threshold\n",
      "image: http://i.imgur.com/Jo8ZIQN.jpg\n",
      "places: [OrderedDict([('x', 0.5), ('y', 0.75), ('key', 'c'), ('label', '0'), ('preview', 'Confront the Gatekeeper')])]\n",
      "sent map OrderedDict([('name', 'Threshold'), ('image', 'http://i.imgur.com/Jo8ZIQN.jpg'), ('places', [OrderedDict([('x', 0.5), ('y', 0.75), ('key', 'c'), ('label', '0'), ('preview', 'Confront the Gatekeeper')])]), ('intro', 'Almost there')])\n",
      "Current map: Threshold\n",
      "Go to\n",
      "0\n",
      "0\n",
      "message with 2 choices [Choice(key='a', label='Back down', name='0'), Choice(key='b', label='Examine', name='1')] in Gatekeeper\n",
      "sent message OrderedDict([('name', 'Gatekeeper'), ('text', '\\n<div align=\"center\">\\n***hrkkk***\\n\\n\\n\\n\\n\\n'), ('choices', [OrderedDict([('key', 'a'), ('label', 'Back down'), ('name', '0')]), OrderedDict([('key', 'b'), ('label', 'Examine'), ('name', '1')])])])\n",
      "Current message: Gatekeeper\n",
      "\n",
      "<div align=\"center\">\n",
      "***hrkkk***\n",
      "\n",
      "\n",
      "\n",
      "\n",
      "\n",
      "\n",
      "Choose:\n",
      "a | Back down\n",
      "b | Examine\n",
      "b\n",
      "message with 1 choices [Choice(key='*', label='OK', name='0')] in detail\n",
      "sent message OrderedDict([('name', 'detail'), ('text', '\\n<div align=\"center\">\\n*Fresh turned dirt. An empty grave.*\\n\\n\\n\\n'), ('choices', [OrderedDict([('key', '*'), ('label', 'OK'), ('name', '0')])])])\n",
      "Current message: detail\n",
      "\n",
      "<div align=\"center\">\n",
      "*Fresh turned dirt. An empty grave.*\n",
      "\n",
      "\n",
      "\n",
      "\n",
      "Choose:\n",
      "* | OK\n",
      "*\n",
      "message with 3 choices [Choice(key='a', label='Assault', name='0'), Choice(key='b', label='Back down', name='1'), Choice(key='c', label='Examine', name='2')] in Gatekeeper\n",
      "sent message OrderedDict([('name', 'Gatekeeper'), ('text', '\\n<div align=\"center\">\\n***hrkkk***\\n\\n\\n\\n\\n\\n'), ('choices', [OrderedDict([('key', 'a'), ('label', 'Assault'), ('name', '0')]), OrderedDict([('key', 'b'), ('label', 'Back down'), ('name', '1')]), OrderedDict([('key', 'c'), ('label', 'Examine'), ('name', '2')])])])\n",
      "Current message: Gatekeeper\n",
      "\n",
      "<div align=\"center\">\n",
      "***hrkkk***\n",
      "\n",
      "\n",
      "\n",
      "\n",
      "\n",
      "\n",
      "Choose:\n",
      "a | Assault\n",
      "b | Back down\n",
      "c | Examine\n",
      "\n"
     ]
    }
   ],
   "source": [
    "gm.initialize()"
   ]
  },
  {
   "cell_type": "code",
   "execution_count": 704,
   "metadata": {
    "collapsed": true
   },
   "outputs": [
    {
     "data": {
      "text/plain": [
       "{'Opponent': 'It has a commonplace mind.',\n",
       " 'christmasCardImage': '<img src=\"http://ronwade.freeservers.com/Carter1977.jpg\" \\nheight=\"200\">',\n",
       " 'colonnadeImage': '<img src=\"http://i.imgur.com/bzLDVU6.jpg\" \\nheight=\"200\">',\n",
       " 'colsonImage': '<img src=\"https://upload.wikimedia.org/wikipedia/commons/a/af/Chuck_Colson.jpg\" \\nheight=\"300\">',\n",
       " 'ctenophora': 'A deep sea marvel, the Ctenophora takes no prisoners.',\n",
       " 'ctenophoraImage': '<img src=\"http://cdn1.askiitians.com/cms-content/biologyanimal-kingdomphylum-ctenophora-aschelminthes-and-platyhelminthes_1.jpg\"\\nheight=\"300\">',\n",
       " 'derp': 'It has the vocabulary of an idiot.',\n",
       " 'doorImage': '<img src=\"http://i.imgur.com/Jo8ZIQN.jpg\" \\nheight=300>',\n",
       " 'ehrlichmanImage': '<img src=\"https://upload.wikimedia.org/wikipedia/commons/7/7a/John_Ehrlichman_in_1969.png\"\\nheight=\"300\">',\n",
       " 'entranceImage': '<img src=\"http://i.imgur.com/hUDG6OI.jpg\" \\nwidth=\"600\">',\n",
       " 'galleryImage': '<img src=\"http://online.rapidresizer.com/patternizeimg.php?builtin=logo&id=4cc46cdf56dbdec3f2cde2e1b78f6c5d&bw=1&edge=1&threshold=64&w=\" \\nwidth=\"600\">',\n",
       " 'gateOpen': True,\n",
       " 'gatekeeper': 'Restless spirit of Hell.',\n",
       " 'gatekeeperImage': '<img src=\"http://i.imgur.com/0ajO7ES.png\"\\nheight=\"300\">',\n",
       " 'generalAbrams': 'The indefatigable General Abrams prepares to shit down your throat.',\n",
       " 'generalAbramsImage': '<img src=\"http://www.sausd.us/cms/lib5/CA01000471/Centricity/Domain/3377/maca2%20macarthur_edited-3%20copy.png\"\\nheight=\"300\">',\n",
       " 'haldeman': 'H.R. Haldeman, bare-knuckle American.',\n",
       " 'haldemanImage': '<img src=\"https://www.totalmedia.com/images/halderman.jpg\" \\nheight=\"300\">',\n",
       " 'johnWayneImage': '<img src=\"https://encrypted-tbn2.gstatic.com/shopping?q=tbn:ANd9GcTGGhUsj48_5TUhI1v_WpAoG3wsBXErotOUyG1edo_M-g8rRFd9ovOBUJyx3Y_NtvwHJHDMSDY&usqp=CAE\" \\nheight=\"160\">',\n",
       " 'libraryImage': '<img src=\"http://i.imgur.com/SynCm1K.jpg\" \\nwidth=\"600\">',\n",
       " 'mapImage': '<img src=\"http://i.imgur.com/Jo8ZIQN.jpg\" \\nheight=300>',\n",
       " 'mission': 'incomplete',\n",
       " 'nixonFlagImage': '<img src=\"http://i.imgur.com/spkRe99.jpg\" \\nheight=\"200\">',\n",
       " 'nixonImage': '<img src=\"http://www.savingjackiek.com/who/nixon-no-kick.jpg\" \\nheight=\"300\">',\n",
       " 'ovalOfficeImage': '<img src=\"https://s4.postimg.io/3otw0adgd/ovaloffice.png\" \\nwidth=\"600\">',\n",
       " 'places': ((0.5, 0.75, 'c'),)}"
      ]
     },
     "execution_count": 704,
     "metadata": {},
     "output_type": "execute_result"
    }
   ],
   "source": [
    "gm.story_vars"
   ]
  },
  {
   "cell_type": "code",
   "execution_count": 708,
   "metadata": {
    "collapsed": false
   },
   "outputs": [],
   "source": [
    "p, t = gm.passage_trees[gm.current_passage]\n",
    "g = gm.story_vars.copy()"
   ]
  },
  {
   "cell_type": "code",
   "execution_count": 722,
   "metadata": {
    "collapsed": false
   },
   "outputs": [],
   "source": [
    "p.parsed_contents = [harlowe_extra.evaluate(t, g)[1]]"
   ]
  },
  {
   "cell_type": "code",
   "execution_count": 723,
   "metadata": {
    "collapsed": false
   },
   "outputs": [
    {
     "name": "stdout",
     "output_type": "stream",
     "text": [
      "<tw-passagedata pid=\"34\" name=\"Gatekeeper\" tags=\"message\" position=\"636.6666666666667,255\">[\n",
      "&lt;div align=&quot;center&quot;&gt;\n",
      "***hrkkk***\n",
      "\n",
      "[Eat shit, human.]\n",
      "\n",
      "[[[Assault-&gt;_dummy_link]]]\n",
      "[[Back down-&gt;_dummy_link]]\n",
      "[[Examine-&gt;_dummy_link]]]</tw-passagedata>\n"
     ]
    }
   ],
   "source": []
  },
  {
   "cell_type": "code",
   "execution_count": 726,
   "metadata": {
    "collapsed": false
   },
   "outputs": [
    {
     "name": "stdout",
     "output_type": "stream",
     "text": [
      "message with 3 choices [Choice(key='a', label='Assault', name='0'), Choice(key='b', label='Back down', name='1'), Choice(key='c', label='Examine', name='2')] in Gatekeeper\n"
     ]
    },
    {
     "data": {
      "text/plain": [
       "Message(name='Gatekeeper', text='', choices=[Choice(key='a', label='Assault', name='0'), Choice(key='b', label='Back down', name='1'), Choice(key='c', label='Examine', name='2')])"
      ]
     },
     "execution_count": 726,
     "metadata": {},
     "output_type": "execute_result"
    }
   ],
   "source": [
    "harlowe_extra.make_node(p, g)"
   ]
  },
  {
   "cell_type": "code",
   "execution_count": 734,
   "metadata": {
    "collapsed": false
   },
   "outputs": [
    {
     "data": {
      "text/plain": [
       "['\\n<div align=\"center\">\\n***hrkkk***\\n\\n',\n",
       " <external.harlowe.HarloweHook instance at 0x114e04320>,\n",
       " '\\n\\n',\n",
       " <external.harlowe.HarloweHook instance at 0x114e04518>,\n",
       " '\\n',\n",
       " <external.harlowe.HarloweLink instance at 0x114e04680>,\n",
       " '\\n',\n",
       " <external.harlowe.HarloweLink instance at 0x114e04290>]"
      ]
     },
     "execution_count": 734,
     "metadata": {},
     "output_type": "execute_result"
    }
   ],
   "source": [
    "p.parsed_contents[0].hook"
   ]
  },
  {
   "cell_type": "code",
   "execution_count": 738,
   "metadata": {
    "collapsed": false
   },
   "outputs": [
    {
     "data": {
      "text/plain": [
       "<class external.harlowe.HarlowePassage at 0x10678b258>"
      ]
     },
     "execution_count": 738,
     "metadata": {},
     "output_type": "execute_result"
    }
   ],
   "source": [
    "from external.harlowe import HarlowePassage\n"
   ]
  },
  {
   "cell_type": "code",
   "execution_count": 732,
   "metadata": {
    "collapsed": false
   },
   "outputs": [
    {
     "name": "stdout",
     "output_type": "stream",
     "text": [
      "<tw-passagedata pid=\"34\" name=\"Gatekeeper\" tags=\"message\" position=\"636.6666666666667,255\">[\n",
      "&lt;div align=&quot;center&quot;&gt;\n",
      "***hrkkk***\n",
      "\n",
      "[Eat shit, human.]\n",
      "\n",
      "[[[Assault-&gt;_dummy_link]]]\n",
      "[[Back down-&gt;_dummy_link]]\n",
      "[[Examine-&gt;_dummy_link]]]</tw-passagedata>\n"
     ]
    }
   ],
   "source": [
    "old_contents = list(p.parsed_contents)\n",
    "p.parsed_contents = [x for x in p.parsed_contents if not isinstance(x, HarloweLink)]"
   ]
  },
  {
   "cell_type": "code",
   "execution_count": 754,
   "metadata": {
    "collapsed": false
   },
   "outputs": [],
   "source": []
  },
  {
   "cell_type": "code",
   "execution_count": 753,
   "metadata": {
    "collapsed": false
   },
   "outputs": [
    {
     "data": {
      "text/plain": [
       "'\\n<div align=\"center\">\\n***hrkkk***\\n\\nEat shit, human.\\n\\n\\n\\n'"
      ]
     },
     "execution_count": 753,
     "metadata": {},
     "output_type": "execute_result"
    }
   ],
   "source": []
  },
  {
   "cell_type": "code",
   "execution_count": 750,
   "metadata": {
    "collapsed": false
   },
   "outputs": [
    {
     "data": {
      "text/plain": [
       "'\\n<div align=\"center\">\\n***hrkkk***\\n\\nEat shit, human.\\n\\n\\n\\n'"
      ]
     },
     "execution_count": 750,
     "metadata": {},
     "output_type": "execute_result"
    }
   ],
   "source": [
    "s"
   ]
  },
  {
   "cell_type": "code",
   "execution_count": 746,
   "metadata": {
    "collapsed": false
   },
   "outputs": [
    {
     "data": {
      "text/plain": [
       "''"
      ]
     },
     "execution_count": 746,
     "metadata": {},
     "output_type": "execute_result"
    }
   ],
   "source": [
    "s"
   ]
  },
  {
   "cell_type": "code",
   "execution_count": 727,
   "metadata": {
    "collapsed": false
   },
   "outputs": [
    {
     "name": "stdout",
     "output_type": "stream",
     "text": [
      "message with 3 choices [Choice(key='a', label='Assault', name='0'), Choice(key='b', label='Back down', name='1'), Choice(key='c', label='Examine', name='2')] in Gatekeeper\n"
     ]
    },
    {
     "data": {
      "text/plain": [
       "Message(name='Gatekeeper', text='', choices=[Choice(key='a', label='Assault', name='0'), Choice(key='b', label='Back down', name='1'), Choice(key='c', label='Examine', name='2')])"
      ]
     },
     "execution_count": 727,
     "metadata": {},
     "output_type": "execute_result"
    }
   ],
   "source": [
    "harlowe_extra.find_message(p)"
   ]
  },
  {
   "cell_type": "code",
   "execution_count": 659,
   "metadata": {
    "collapsed": false
   },
   "outputs": [],
   "source": [
    "reload(external.harlowe_extra)\n",
    "from external.harlowe_extra import find_map, find_encounter, find_message\n",
    "from external.harlowe_extra import get_named_hooks, find_links\n",
    "def enter(passage, tree, global_vars):\n",
    "    \"\"\" \n",
    "    1. evaluate the passage tree, in global_vars context\n",
    "    2. put the result in passage.parsed_contents\n",
    "    3. try to make the passage into a node. \n",
    "        - if this fails, return None for node\n",
    "    \"\"\"\n",
    "    \n",
    "    global_vars, contents = evaluate(tree, global_vars) \n",
    "\n",
    "    passage.parsed_contents = contents.hook\n",
    "    node = make_node(passage, global_vars)\n",
    "    \n",
    "    links = find_links(passage)\n",
    "    return node, links, global_vars\n",
    "\n",
    "\n",
    "def make_node(passage, global_vars):\n",
    "   \n",
    "    map_ = find_map(passage, global_vars)\n",
    "    if map_:\n",
    "        return map_\n",
    "    \n",
    "    encounter = find_encounter(passage, global_vars)\n",
    "    if encounter:\n",
    "        return encounter\n",
    "    \n",
    "    message = find_message(passage)\n",
    "    if message:\n",
    "        return message\n",
    "    \n",
    "    class FuckYouError(Exception):\n",
    "        pass\n",
    "    raise FuckYouError('failed to create node from %s' % passage.name)\n",
    "    \n",
    "    \n",
    "# link.on_transition(global_vars)\n"
   ]
  },
  {
   "cell_type": "markdown",
   "metadata": {},
   "source": [
    "### start here"
   ]
  },
  {
   "cell_type": "code",
   "execution_count": 661,
   "metadata": {
    "collapsed": false
   },
   "outputs": [],
   "source": [
    "html = 'resources/harlowe/Nixonland_19.html'\n",
    "from external import harlowe_extra\n",
    "from external.harlowe_extra import preprocess, evaluate\n",
    "reload(harlowe_extra)\n",
    "_, _, passages = harlowe_extra.parse_harlowe_html(html)\n",
    "# maps, encs, msgs = harlowe_extra.html_to_nodes(html)"
   ]
  },
  {
   "cell_type": "code",
   "execution_count": 662,
   "metadata": {
    "collapsed": true
   },
   "outputs": [
    {
     "name": "stdout",
     "output_type": "stream",
     "text": [
      "did not preprocess (set: $first to \n",
      "\t$a + (text: $places&#39;s 1st&#39;s 1st * 100) + \n",
      "\t$b + (text: $places&#39;s 1st&#39;s 2nd * 100) + \n",
      "\t$c + (text: $places&#39;s 1st&#39;s 3rd) + \n",
      "\t$d\n",
      ")\n",
      "did not preprocess (set: $second to \n",
      "\t$a + (text: $places&#39;s 2nd&#39;s 1st * 100) + \n",
      "\t$b + (text: $places&#39;s 2nd&#39;s 2nd * 100) + \n",
      "\t$c + (text: $places&#39;s 2nd&#39;s 3rd) + \n",
      "\t$d\n",
      ")\n",
      "did not preprocess (set: $third to \n",
      "\t$a + (text: $places&#39;s 3rd&#39;s 1st * 100) + \n",
      "\t$b + (text: $places&#39;s 3rd&#39;s 2nd * 100) + \n",
      "\t$c + (text: $places&#39;s 3rd&#39;s 3rd) + \n",
      "\t$d\n",
      ")\n",
      "did not preprocess (set: $fourth to \n",
      "\t$a + (text: $places&#39;s 4th&#39;s 1st * 100) + \n",
      "\t$b + (text: $places&#39;s 4th&#39;s 2nd * 100) + \n",
      "\t$c + (text: $places&#39;s 4th&#39;s 3rd) + \n",
      "\t$d\n",
      ")\n",
      "did not preprocess (set: $fifth to \n",
      "\t$a + (text: $places&#39;s 5th&#39;s 1st * 100) + \n",
      "\t$b + (text: $places&#39;s 5th&#39;s 2nd * 100) + \n",
      "\t$c + (text: $places&#39;s 5th&#39;s 3rd) + \n",
      "\t$d\n",
      ")\n",
      "did not preprocess (set: $sixth to \n",
      "\t$a + (text: $places&#39;s 6th&#39;s 1st * 100) + \n",
      "\t$b + (text: $places&#39;s 6th&#39;s 2nd * 100) + \n",
      "\t$c + (text: $places&#39;s 6th&#39;s 3rd) + \n",
      "\t$d\n",
      ")\n",
      "did not preprocess (replace: ?map)\n",
      "did not preprocess (text: $divopen + $mapImage + $first + $second + $third + $fourth + $fifth + $sixth + $divend)\n"
     ]
    }
   ],
   "source": [
    "reload(harlowe_extra)\n",
    "startup, header, passages_, g = harlowe_extra.html_to_trees(html)\n",
    "passage, tree = passages_['Oval Office']"
   ]
  },
  {
   "cell_type": "code",
   "execution_count": 540,
   "metadata": {
    "collapsed": false
   },
   "outputs": [],
   "source": [
    "di, ou = harlowe_extra.evaluate(b, g)"
   ]
  }
 ],
 "metadata": {
  "kernelspec": {
   "display_name": "Python 2",
   "language": "python",
   "name": "python2"
  },
  "language_info": {
   "codemirror_mode": {
    "name": "ipython",
    "version": 2
   },
   "file_extension": ".py",
   "mimetype": "text/x-python",
   "name": "python",
   "nbconvert_exporter": "python",
   "pygments_lexer": "ipython2",
   "version": "2.7.9"
  }
 },
 "nbformat": 4,
 "nbformat_minor": 0
}
