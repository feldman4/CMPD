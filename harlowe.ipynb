{
 "cells": [
  {
   "cell_type": "code",
   "execution_count": 62,
   "metadata": {
    "collapsed": false
   },
   "outputs": [],
   "source": [
    "from external import harlowe_extra\n",
    "import markdown\n",
    "from IPython.display import display, HTML"
   ]
  },
  {
   "cell_type": "code",
   "execution_count": 43,
   "metadata": {
    "collapsed": true
   },
   "outputs": [],
   "source": [
    "html = 'resources/harlowe/test_5.html'"
   ]
  },
  {
   "cell_type": "code",
   "execution_count": 44,
   "metadata": {
    "collapsed": false
   },
   "outputs": [
    {
     "name": "stdout",
     "output_type": "stream",
     "text": [
      "map with 4 places in Gallery of Heroes\n",
      "map with 2 places in RMN\n",
      "map with 1 places in Ehrlichman\n",
      "map with 1 places in Colson\n",
      "map with 1 places in Haldeman\n",
      "map with 6 places in Oval Office\n",
      "map with 3 places in President's phone\n",
      "map with 1 places in Cowboy statue\n",
      "map with 1 places in Christmas card\n",
      "map with 1 places in Flag of Nixon\n",
      "generalAbrams found in Fight general\n",
      "ctenophora found in Fight ctenophora\n"
     ]
    }
   ],
   "source": [
    "reload(harlowe_extra)\n",
    "_, _, passages = harlowe_extra.parse_harlowe_html(html)\n",
    "m, e = harlowe_extra.html_to_nodes(html)\n"
   ]
  },
  {
   "cell_type": "code",
   "execution_count": 71,
   "metadata": {
    "collapsed": false
   },
   "outputs": [
    {
     "data": {
      "text/plain": [
       "['\\n\\n\\n', '\\n', '\\n\\n<=\\n\\n', ' \\n', ' \\n\\n', '\\t\\t \\n\\t\\t\\t ']"
      ]
     },
     "execution_count": 71,
     "metadata": {},
     "output_type": "execute_result"
    }
   ],
   "source": []
  },
  {
   "cell_type": "code",
   "execution_count": 54,
   "metadata": {
    "collapsed": false
   },
   "outputs": [],
   "source": [
    "p = passages['RMN']\n",
    "intro_hook = harlowe_extra.get_named_hooks(p, 'intro')\n",
    "if intro_hook:\n",
    "    intro_text = intro_hook[0].hook[0]"
   ]
  },
  {
   "cell_type": "code",
   "execution_count": 51,
   "metadata": {
    "collapsed": true
   },
   "outputs": [],
   "source": [
    "x = intro_hook[0]"
   ]
  },
  {
   "cell_type": "code",
   "execution_count": 53,
   "metadata": {
    "collapsed": false
   },
   "outputs": [
    {
     "data": {
      "text/plain": [
       "'Here lies Richard Milhous Nixon, our greatest President'"
      ]
     },
     "execution_count": 53,
     "metadata": {},
     "output_type": "execute_result"
    }
   ],
   "source": []
  },
  {
   "cell_type": "code",
   "execution_count": 41,
   "metadata": {
    "collapsed": false
   },
   "outputs": [
    {
     "data": {
      "text/plain": [
       "[Place(x=0.24, y=0.77, key='a', label='War room', preview='Enter the War Room'),\n",
       " Place(x=0.06, y=0.46, key='v', label=\"President's phone\", preview='Answer the phone'),\n",
       " Place(x=0.27, y=0.42, key='i', label='Presidential rocking chair', preview=\"View the New Year's card\"),\n",
       " Place(x=0.72, y=0.27, key='s', label='Cowboy statue', preview='Inspect the cowboy'),\n",
       " Place(x=0.61, y=0.22, key='g', label='Flag of Nixon', preview='Salute the flag'),\n",
       " Place(x=0.5, y=0.9, key='d', label='RMN', preview='Genuflect before the patriarch'),\n",
       " Place(x=0.75, y=0.75, key='a', label='Gallery of Heroes', preview='Depart')]"
      ]
     },
     "execution_count": 41,
     "metadata": {},
     "output_type": "execute_result"
    }
   ],
   "source": [
    "m['Oval Office'].places"
   ]
  },
  {
   "cell_type": "code",
   "execution_count": 13,
   "metadata": {
    "collapsed": false
   },
   "outputs": [],
   "source": [
    "p = passages['RMN']"
   ]
  },
  {
   "cell_type": "code",
   "execution_count": 15,
   "metadata": {
    "collapsed": false
   },
   "outputs": [
    {
     "data": {
      "text/plain": [
       "((0.1, 0.75, 'o'), (0.1, 0.25, 'h'))"
      ]
     },
     "execution_count": 15,
     "metadata": {},
     "output_type": "execute_result"
    }
   ],
   "source": [
    "harlowe_extra.extract_places(p)"
   ]
  },
  {
   "cell_type": "code",
   "execution_count": 31,
   "metadata": {
    "collapsed": false
   },
   "outputs": [],
   "source": [
    "reload(harlowe_extra)\n",
    "from external.harlowe_extra import *\n",
    "# def find_links(passage):\n",
    "\n",
    "#     links_harlowe = list(passage.find_matches(lambda x: isinstance(x, HarloweLink)))\n",
    "#     return [l for l in links_harlowe]"
   ]
  },
  {
   "cell_type": "code",
   "execution_count": null,
   "metadata": {
    "collapsed": true
   },
   "outputs": [],
   "source": []
  },
  {
   "cell_type": "code",
   "execution_count": 30,
   "metadata": {
    "collapsed": false
   },
   "outputs": [
    {
     "data": {
      "text/plain": [
       "<module 'external.harlowe_extra' from 'external/harlowe_extra.py'>"
      ]
     },
     "execution_count": 30,
     "metadata": {},
     "output_type": "execute_result"
    }
   ],
   "source": []
  },
  {
   "cell_type": "code",
   "execution_count": null,
   "metadata": {
    "collapsed": true
   },
   "outputs": [],
   "source": []
  },
  {
   "cell_type": "code",
   "execution_count": 25,
   "metadata": {
    "collapsed": false
   },
   "outputs": [],
   "source": [
    "hl = find_links(p)[0]"
   ]
  },
  {
   "cell_type": "code",
   "execution_count": 27,
   "metadata": {
    "collapsed": false
   },
   "outputs": [
    {
     "data": {
      "text/plain": [
       "['Step into the Oval Office']"
      ]
     },
     "execution_count": 27,
     "metadata": {},
     "output_type": "execute_result"
    }
   ],
   "source": [
    "hl."
   ]
  },
  {
   "cell_type": "code",
   "execution_count": 16,
   "metadata": {
    "collapsed": false
   },
   "outputs": [
    {
     "data": {
      "text/plain": [
       "['Oval Office', 'Gallery of Heroes']"
      ]
     },
     "execution_count": 16,
     "metadata": {},
     "output_type": "execute_result"
    }
   ],
   "source": [
    "harlowe_extra.find_links(p)"
   ]
  }
 ],
 "metadata": {
  "kernelspec": {
   "display_name": "Python 2",
   "language": "python",
   "name": "python2"
  },
  "language_info": {
   "codemirror_mode": {
    "name": "ipython",
    "version": 2
   },
   "file_extension": ".py",
   "mimetype": "text/x-python",
   "name": "python",
   "nbconvert_exporter": "python",
   "pygments_lexer": "ipython2",
   "version": "2.7.9"
  }
 },
 "nbformat": 4,
 "nbformat_minor": 0
}
